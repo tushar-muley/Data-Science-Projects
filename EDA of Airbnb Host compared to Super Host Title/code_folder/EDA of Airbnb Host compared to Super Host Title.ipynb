{
 "cells": [
  {
   "cell_type": "markdown",
   "metadata": {},
   "source": [
    "### EDA of Airbnb Host compared to Super Host Title\n",
    "\n",
    "#### Name: Muley, Tushar\n",
    "\n"
   ]
  },
  {
   "cell_type": "code",
   "execution_count": 1,
   "metadata": {},
   "outputs": [],
   "source": [
    "#Import Everthing I think I need\n",
    "import pandas as pd\n",
    "import numpy as np\n",
    "import matplotlib.pyplot as plt\n",
    "import thinkstats2\n",
    "import thinkplot"
   ]
  },
  {
   "cell_type": "code",
   "execution_count": 2,
   "metadata": {
    "scrolled": true
   },
   "outputs": [
    {
     "name": "stdout",
     "output_type": "stream",
     "text": [
      "             id                            listing_url       scrape_id  \\\n",
      "0           109       https://www.airbnb.com/rooms/109  20200909145537   \n",
      "1           344       https://www.airbnb.com/rooms/344  20200909145537   \n",
      "2          2708      https://www.airbnb.com/rooms/2708  20200909145537   \n",
      "3          2732      https://www.airbnb.com/rooms/2732  20200909145537   \n",
      "4          2864      https://www.airbnb.com/rooms/2864  20200909145537   \n",
      "...         ...                                    ...             ...   \n",
      "31531  45355046  https://www.airbnb.com/rooms/45355046  20200909145537   \n",
      "31532  45355121  https://www.airbnb.com/rooms/45355121  20200909145537   \n",
      "31533  45355360  https://www.airbnb.com/rooms/45355360  20200909145537   \n",
      "31534  45355859  https://www.airbnb.com/rooms/45355859  20200909145537   \n",
      "31535  45356212  https://www.airbnb.com/rooms/45356212  20200909145537   \n",
      "\n",
      "      last_scraped                                               name  \\\n",
      "0       2020-09-11  Amazing bright elegant condo park front *UPGRA...   \n",
      "1       2020-09-12                  Family perfect;Pool;Near Studios!   \n",
      "2       2020-09-10  Beautiful Furnish Mirrored Mini-Suite w/ Firep...   \n",
      "3       2020-09-10                              Zen Life at the Beach   \n",
      "4       2020-09-10             * Beautiful Master Suite/Jacuzzi Tub/*   \n",
      "...            ...                                                ...   \n",
      "31531   2020-09-11  Cozy entire house for 8 people/3 brs/4beds/2 b...   \n",
      "31532   2020-09-11  Cozy home in Temple city/Arcadia/ 4 bed / 2.5 ...   \n",
      "31533   2020-09-11                 Redondo beach / LAX within 15 mins   \n",
      "31534   2020-09-11   C&D Two bedrooms and two bathrooms注重防护两房两浴整层二楼独立   \n",
      "31535   2020-09-10    5 Story Beach Villa W/Elevator, Spa & Game Room   \n",
      "\n",
      "                                             description  \\\n",
      "0      *** Unit upgraded with new bamboo flooring, br...   \n",
      "1      This home is perfect for families; aspiring ch...   \n",
      "2      Beau Furn Mirror Mini-Suite w/ Fireplace 45% o...   \n",
      "3      An oasis of tranquility awaits you.<br /><br /...   \n",
      "4      Centrally located.... Furnished with King Size...   \n",
      "...                                                  ...   \n",
      "31531  Located in a safe,quiet neighborhood. This is ...   \n",
      "31532  Located in a beautiful and quiet neighborhood ...   \n",
      "31533                                                NaN   \n",
      "31534  完美日落、迷人风景、休闲享受高尔夫果岭、安静私密豪宅、让您真正体验洛杉矶天使城的浪漫璀璨。<...   \n",
      "31535  Luxury Mansion Rentals is offering special “St...   \n",
      "\n",
      "                                   neighborhood_overview  \\\n",
      "0                                                    NaN   \n",
      "1      Quiet-yet-close to all the fun in LA! Hollywoo...   \n",
      "2      We are minutes away from the Mentor Language I...   \n",
      "3      This is the best part of Santa Monica. Quiet, ...   \n",
      "4      What makes the neighborhood unique is that the...   \n",
      "...                                                  ...   \n",
      "31531  Located in a safe,friendly and quiet neighborh...   \n",
      "31532  Temple City is centrally located in San Gabrie...   \n",
      "31533                                                NaN   \n",
      "31534  这所房子位于一个友好和安全的社区。<br />5分钟车程，有多家亚洲超市、上百家亚洲餐厅，还...   \n",
      "31535  It's a peaceful and quaint family neighborhood...   \n",
      "\n",
      "                                             picture_url    host_id  \\\n",
      "0      https://a0.muscache.com/pictures/4321499/1da98...        521   \n",
      "1      https://a0.muscache.com/pictures/cc4b724d-db8b...        767   \n",
      "2      https://a0.muscache.com/pictures/miso/Hosting-...       3008   \n",
      "3      https://a0.muscache.com/pictures/1082974/0f74c...       3041   \n",
      "4      https://a0.muscache.com/pictures/23817858/de20...       3207   \n",
      "...                                                  ...        ...   \n",
      "31531  https://a0.muscache.com/pictures/2e4ae635-c02e...  204906497   \n",
      "31532  https://a0.muscache.com/pictures/8f805ffa-0faf...  310802925   \n",
      "31533  https://a0.muscache.com/pictures/b289e1c9-cff1...  356257009   \n",
      "31534  https://a0.muscache.com/pictures/c3c7b775-2d82...  258073377   \n",
      "31535  https://a0.muscache.com/pictures/89bc5518-e2d1...   32636784   \n",
      "\n",
      "                                          host_url  ...  \\\n",
      "0            https://www.airbnb.com/users/show/521  ...   \n",
      "1            https://www.airbnb.com/users/show/767  ...   \n",
      "2           https://www.airbnb.com/users/show/3008  ...   \n",
      "3           https://www.airbnb.com/users/show/3041  ...   \n",
      "4           https://www.airbnb.com/users/show/3207  ...   \n",
      "...                                            ...  ...   \n",
      "31531  https://www.airbnb.com/users/show/204906497  ...   \n",
      "31532  https://www.airbnb.com/users/show/310802925  ...   \n",
      "31533  https://www.airbnb.com/users/show/356257009  ...   \n",
      "31534  https://www.airbnb.com/users/show/258073377  ...   \n",
      "31535   https://www.airbnb.com/users/show/32636784  ...   \n",
      "\n",
      "      review_scores_communication review_scores_location review_scores_value  \\\n",
      "0                             8.0                   10.0                 8.0   \n",
      "1                            10.0                   10.0                10.0   \n",
      "2                            10.0                   10.0                10.0   \n",
      "3                             9.0                   10.0                 9.0   \n",
      "4                             NaN                    NaN                 NaN   \n",
      "...                           ...                    ...                 ...   \n",
      "31531                         NaN                    NaN                 NaN   \n",
      "31532                         NaN                    NaN                 NaN   \n",
      "31533                         NaN                    NaN                 NaN   \n",
      "31534                         NaN                    NaN                 NaN   \n",
      "31535                         NaN                    NaN                 NaN   \n",
      "\n",
      "            license instant_bookable calculated_host_listings_count  \\\n",
      "0               NaN                f                              1   \n",
      "1               NaN                f                              1   \n",
      "2               NaN                t                              2   \n",
      "3            228269                f                              2   \n",
      "4               NaN                t                              1   \n",
      "...             ...              ...                            ...   \n",
      "31531           NaN                t                             12   \n",
      "31532           NaN                f                              1   \n",
      "31533           NaN                f                              2   \n",
      "31534           NaN                f                             10   \n",
      "31535  HSR20-001438                f                             10   \n",
      "\n",
      "      calculated_host_listings_count_entire_homes  \\\n",
      "0                                               1   \n",
      "1                                               1   \n",
      "2                                               0   \n",
      "3                                               1   \n",
      "4                                               1   \n",
      "...                                           ...   \n",
      "31531                                           2   \n",
      "31532                                           1   \n",
      "31533                                           0   \n",
      "31534                                           1   \n",
      "31535                                          10   \n",
      "\n",
      "      calculated_host_listings_count_private_rooms  \\\n",
      "0                                                0   \n",
      "1                                                0   \n",
      "2                                                2   \n",
      "3                                                1   \n",
      "4                                                0   \n",
      "...                                            ...   \n",
      "31531                                           10   \n",
      "31532                                            0   \n",
      "31533                                            2   \n",
      "31534                                            9   \n",
      "31535                                            0   \n",
      "\n",
      "      calculated_host_listings_count_shared_rooms reviews_per_month  \n",
      "0                                               0              0.02  \n",
      "1                                               0              0.15  \n",
      "2                                               0              0.34  \n",
      "3                                               0              0.19  \n",
      "4                                               0               NaN  \n",
      "...                                           ...               ...  \n",
      "31531                                           0               NaN  \n",
      "31532                                           0               NaN  \n",
      "31533                                           0               NaN  \n",
      "31534                                           0               NaN  \n",
      "31535                                           0               NaN  \n",
      "\n",
      "[31536 rows x 74 columns]\n"
     ]
    }
   ],
   "source": [
    "#Import my file, decompress, load to dataframe\n",
    "dfAirbnb = pd.read_csv('listings_la_ca_october_2020.csv.gz', compression='gzip',\n",
    "                   error_bad_lines=False)\n",
    "print(dfAirbnb)"
   ]
  },
  {
   "cell_type": "code",
   "execution_count": 3,
   "metadata": {},
   "outputs": [
    {
     "data": {
      "text/plain": [
       "Index(['id', 'listing_url', 'scrape_id', 'last_scraped', 'name', 'description',\n",
       "       'neighborhood_overview', 'picture_url', 'host_id', 'host_url',\n",
       "       'host_name', 'host_since', 'host_location', 'host_about',\n",
       "       'host_response_time', 'host_response_rate', 'host_acceptance_rate',\n",
       "       'host_is_superhost', 'host_thumbnail_url', 'host_picture_url',\n",
       "       'host_neighbourhood', 'host_listings_count',\n",
       "       'host_total_listings_count', 'host_verifications',\n",
       "       'host_has_profile_pic', 'host_identity_verified', 'neighbourhood',\n",
       "       'neighbourhood_cleansed', 'neighbourhood_group_cleansed', 'latitude',\n",
       "       'longitude', 'property_type', 'room_type', 'accommodates', 'bathrooms',\n",
       "       'bathrooms_text', 'bedrooms', 'beds', 'amenities', 'price',\n",
       "       'minimum_nights', 'maximum_nights', 'minimum_minimum_nights',\n",
       "       'maximum_minimum_nights', 'minimum_maximum_nights',\n",
       "       'maximum_maximum_nights', 'minimum_nights_avg_ntm',\n",
       "       'maximum_nights_avg_ntm', 'calendar_updated', 'has_availability',\n",
       "       'availability_30', 'availability_60', 'availability_90',\n",
       "       'availability_365', 'calendar_last_scraped', 'number_of_reviews',\n",
       "       'number_of_reviews_ltm', 'number_of_reviews_l30d', 'first_review',\n",
       "       'last_review', 'review_scores_rating', 'review_scores_accuracy',\n",
       "       'review_scores_cleanliness', 'review_scores_checkin',\n",
       "       'review_scores_communication', 'review_scores_location',\n",
       "       'review_scores_value', 'license', 'instant_bookable',\n",
       "       'calculated_host_listings_count',\n",
       "       'calculated_host_listings_count_entire_homes',\n",
       "       'calculated_host_listings_count_private_rooms',\n",
       "       'calculated_host_listings_count_shared_rooms', 'reviews_per_month'],\n",
       "      dtype='object')"
      ]
     },
     "execution_count": 3,
     "metadata": {},
     "output_type": "execute_result"
    }
   ],
   "source": [
    "dfAirbnb.columns"
   ]
  },
  {
   "cell_type": "code",
   "execution_count": 3,
   "metadata": {},
   "outputs": [],
   "source": [
    "#Take on the columns I needed for the analysis and all it 'dfAirbnbSelected'\n",
    "dfAirbnbSelected = dfAirbnb[['id',\n",
    "'scrape_id',\n",
    "'last_scraped',\n",
    "'host_id',\n",
    "'host_since',\n",
    "'host_response_rate',\n",
    "'host_acceptance_rate',\n",
    "'host_is_superhost',\n",
    "'host_neighbourhood',\n",
    "'host_listings_count',\n",
    "'host_total_listings_count',\n",
    "'host_identity_verified',\n",
    "'neighbourhood_cleansed',\n",
    "'property_type',\n",
    "'room_type',\n",
    "'accommodates',\n",
    "'bedrooms',\n",
    "'beds',\n",
    "'price',\n",
    "'minimum_nights',\n",
    "'maximum_nights',\n",
    "'has_availability',\n",
    "'availability_30',\n",
    "'availability_60',\n",
    "'availability_90',\n",
    "'number_of_reviews',\n",
    "'number_of_reviews_ltm',\n",
    "'number_of_reviews_l30d',\n",
    "'first_review',\n",
    "'last_review',\n",
    "'review_scores_rating',\n",
    "'review_scores_accuracy',\n",
    "'review_scores_cleanliness',\n",
    "'review_scores_checkin',\n",
    "'review_scores_communication',\n",
    "'review_scores_location',\n",
    "'review_scores_value',\n",
    "'instant_bookable',\n",
    "'calculated_host_listings_count',\n",
    "'calculated_host_listings_count_entire_homes',\n",
    "'calculated_host_listings_count_private_rooms',\n",
    "'calculated_host_listings_count_shared_rooms',\n",
    "'reviews_per_month']]\n",
    "\n"
   ]
  },
  {
   "cell_type": "code",
   "execution_count": 4,
   "metadata": {},
   "outputs": [
    {
     "data": {
      "text/plain": [
       "Index(['id', 'scrape_id', 'last_scraped', 'host_id', 'host_since',\n",
       "       'host_response_rate', 'host_acceptance_rate', 'host_is_superhost',\n",
       "       'host_neighbourhood', 'host_listings_count',\n",
       "       'host_total_listings_count', 'host_identity_verified',\n",
       "       'neighbourhood_cleansed', 'property_type', 'room_type', 'accommodates',\n",
       "       'bedrooms', 'beds', 'price', 'minimum_nights', 'maximum_nights',\n",
       "       'has_availability', 'availability_30', 'availability_60',\n",
       "       'availability_90', 'number_of_reviews', 'number_of_reviews_ltm',\n",
       "       'number_of_reviews_l30d', 'first_review', 'last_review',\n",
       "       'review_scores_rating', 'review_scores_accuracy',\n",
       "       'review_scores_cleanliness', 'review_scores_checkin',\n",
       "       'review_scores_communication', 'review_scores_location',\n",
       "       'review_scores_value', 'instant_bookable',\n",
       "       'calculated_host_listings_count',\n",
       "       'calculated_host_listings_count_entire_homes',\n",
       "       'calculated_host_listings_count_private_rooms',\n",
       "       'calculated_host_listings_count_shared_rooms', 'reviews_per_month'],\n",
       "      dtype='object')"
      ]
     },
     "execution_count": 4,
     "metadata": {},
     "output_type": "execute_result"
    }
   ],
   "source": [
    "#Check I have the columns I needed\n",
    "dfAirbnbSelected.columns"
   ]
  },
  {
   "cell_type": "code",
   "execution_count": 5,
   "metadata": {},
   "outputs": [
    {
     "name": "stdout",
     "output_type": "stream",
     "text": [
      "             id       scrape_id last_scraped    host_id  host_since  \\\n",
      "0           109  20200909145537   2020-09-11        521  2008-06-27   \n",
      "1           344  20200909145537   2020-09-12        767  2008-07-11   \n",
      "2          2708  20200909145537   2020-09-10       3008  2008-09-16   \n",
      "3          2732  20200909145537   2020-09-10       3041  2008-09-17   \n",
      "4          2864  20200909145537   2020-09-10       3207  2008-09-25   \n",
      "...         ...             ...          ...        ...         ...   \n",
      "31531  45355046  20200909145537   2020-09-11  204906497  2018-07-25   \n",
      "31532  45355121  20200909145537   2020-09-11  310802925  2019-11-20   \n",
      "31533  45355360  20200909145537   2020-09-11  356257009  2020-07-14   \n",
      "31534  45355859  20200909145537   2020-09-11  258073377  2019-04-25   \n",
      "31535  45356212  20200909145537   2020-09-10   32636784  2015-05-05   \n",
      "\n",
      "      host_response_rate host_acceptance_rate host_is_superhost  \\\n",
      "0                    NaN                   0%                 f   \n",
      "1                    67%                  36%                 f   \n",
      "2                   100%                 100%                 t   \n",
      "3                    90%                  60%                 f   \n",
      "4                    NaN                  NaN                 f   \n",
      "...                  ...                  ...               ...   \n",
      "31531                94%                  97%                 t   \n",
      "31532               100%                  95%                 t   \n",
      "31533               100%                  NaN                 f   \n",
      "31534                95%                 100%                 f   \n",
      "31535                94%                  76%                 t   \n",
      "\n",
      "      host_neighbourhood  host_listings_count  ...  review_scores_checkin  \\\n",
      "0            Culver City                  1.0  ...                    6.0   \n",
      "1                Burbank                  1.0  ...                   10.0   \n",
      "2              Hollywood                  2.0  ...                   10.0   \n",
      "3           Santa Monica                  2.0  ...                    9.0   \n",
      "4             Bellflower                  1.0  ...                    NaN   \n",
      "...                  ...                  ...  ...                    ...   \n",
      "31531            Bassett                 14.0  ...                    NaN   \n",
      "31532                NaN                  1.0  ...                    NaN   \n",
      "31533                NaN                  2.0  ...                    NaN   \n",
      "31534                NaN                 10.0  ...                    NaN   \n",
      "31535      Beverly Hills                 11.0  ...                    NaN   \n",
      "\n",
      "      review_scores_communication review_scores_location review_scores_value  \\\n",
      "0                             8.0                   10.0                 8.0   \n",
      "1                            10.0                   10.0                10.0   \n",
      "2                            10.0                   10.0                10.0   \n",
      "3                             9.0                   10.0                 9.0   \n",
      "4                             NaN                    NaN                 NaN   \n",
      "...                           ...                    ...                 ...   \n",
      "31531                         NaN                    NaN                 NaN   \n",
      "31532                         NaN                    NaN                 NaN   \n",
      "31533                         NaN                    NaN                 NaN   \n",
      "31534                         NaN                    NaN                 NaN   \n",
      "31535                         NaN                    NaN                 NaN   \n",
      "\n",
      "      instant_bookable  calculated_host_listings_count  \\\n",
      "0                    f                               1   \n",
      "1                    f                               1   \n",
      "2                    t                               2   \n",
      "3                    f                               2   \n",
      "4                    t                               1   \n",
      "...                ...                             ...   \n",
      "31531                t                              12   \n",
      "31532                f                               1   \n",
      "31533                f                               2   \n",
      "31534                f                              10   \n",
      "31535                f                              10   \n",
      "\n",
      "       calculated_host_listings_count_entire_homes  \\\n",
      "0                                                1   \n",
      "1                                                1   \n",
      "2                                                0   \n",
      "3                                                1   \n",
      "4                                                1   \n",
      "...                                            ...   \n",
      "31531                                            2   \n",
      "31532                                            1   \n",
      "31533                                            0   \n",
      "31534                                            1   \n",
      "31535                                           10   \n",
      "\n",
      "       calculated_host_listings_count_private_rooms  \\\n",
      "0                                                 0   \n",
      "1                                                 0   \n",
      "2                                                 2   \n",
      "3                                                 1   \n",
      "4                                                 0   \n",
      "...                                             ...   \n",
      "31531                                            10   \n",
      "31532                                             0   \n",
      "31533                                             2   \n",
      "31534                                             9   \n",
      "31535                                             0   \n",
      "\n",
      "      calculated_host_listings_count_shared_rooms  reviews_per_month  \n",
      "0                                               0               0.02  \n",
      "1                                               0               0.15  \n",
      "2                                               0               0.34  \n",
      "3                                               0               0.19  \n",
      "4                                               0                NaN  \n",
      "...                                           ...                ...  \n",
      "31531                                           0                NaN  \n",
      "31532                                           0                NaN  \n",
      "31533                                           0                NaN  \n",
      "31534                                           0                NaN  \n",
      "31535                                           0                NaN  \n",
      "\n",
      "[31536 rows x 43 columns]\n"
     ]
    }
   ],
   "source": [
    "print(dfAirbnbSelected)"
   ]
  },
  {
   "cell_type": "code",
   "execution_count": 4,
   "metadata": {},
   "outputs": [
    {
     "data": {
      "text/plain": [
       "0        $115.00\n",
       "1        $176.00\n",
       "2         $74.00\n",
       "3        $155.00\n",
       "4         $50.00\n",
       "          ...   \n",
       "31531    $248.00\n",
       "31532    $160.14\n",
       "31533     $60.00\n",
       "31534    $149.00\n",
       "31535    $894.00\n",
       "Name: price, Length: 31536, dtype: object"
      ]
     },
     "execution_count": 4,
     "metadata": {},
     "output_type": "execute_result"
    }
   ],
   "source": [
    "#Check price to review data\n",
    "dfAirbnbSelected['price']\n"
   ]
  },
  {
   "cell_type": "code",
   "execution_count": 5,
   "metadata": {},
   "outputs": [],
   "source": [
    "#Drop the rows where price is na.\n",
    "dfAirbnbSelected = dfAirbnbSelected.dropna(subset=['price'])"
   ]
  },
  {
   "cell_type": "code",
   "execution_count": 6,
   "metadata": {},
   "outputs": [],
   "source": [
    "#Transform the price from string to float\n",
    "dfAirbnbSelected['price_am'] = dfAirbnbSelected['price'].astype(str)\n",
    "dfAirbnbSelected['price_am'] = dfAirbnbSelected['price_am'].str.replace(\"[$, ]\", \"\").astype(\"float\")\n",
    "dfAirbnbSelected = dfAirbnbSelected.drop(columns = ['price'])"
   ]
  },
  {
   "cell_type": "code",
   "execution_count": 7,
   "metadata": {},
   "outputs": [
    {
     "data": {
      "text/plain": [
       "0        115.00\n",
       "1        176.00\n",
       "2         74.00\n",
       "3        155.00\n",
       "4         50.00\n",
       "          ...  \n",
       "31531    248.00\n",
       "31532    160.14\n",
       "31533     60.00\n",
       "31534    149.00\n",
       "31535    894.00\n",
       "Name: price_am, Length: 31536, dtype: float64"
      ]
     },
     "execution_count": 7,
     "metadata": {},
     "output_type": "execute_result"
    }
   ],
   "source": [
    "#Confirm transformation worked\n",
    "dfAirbnbSelected['price_am']"
   ]
  },
  {
   "cell_type": "code",
   "execution_count": 7,
   "metadata": {},
   "outputs": [],
   "source": [
    "#Replace 't' and 'f' in host_is_superhost with f= 0 and t= 1\n",
    "dfAirbnbSelected['host_is_superhost'].replace('f', 0,inplace=True)\n",
    "dfAirbnbSelected['host_is_superhost'].replace('t', 1,inplace=True)"
   ]
  },
  {
   "cell_type": "code",
   "execution_count": 8,
   "metadata": {},
   "outputs": [
    {
     "data": {
      "text/plain": [
       "0        0.0\n",
       "1        0.0\n",
       "2        1.0\n",
       "3        0.0\n",
       "4        0.0\n",
       "        ... \n",
       "31531    1.0\n",
       "31532    1.0\n",
       "31533    0.0\n",
       "31534    0.0\n",
       "31535    1.0\n",
       "Name: host_is_superhost, Length: 31536, dtype: float64"
      ]
     },
     "execution_count": 8,
     "metadata": {},
     "output_type": "execute_result"
    }
   ],
   "source": [
    "#Confirm change of host_is_super_host\n",
    "dfAirbnbSelected['host_is_superhost']"
   ]
  },
  {
   "cell_type": "code",
   "execution_count": 9,
   "metadata": {},
   "outputs": [
    {
     "data": {
      "text/plain": [
       "Long Beach                   1584\n",
       "Venice                       1571\n",
       "Hollywood                    1525\n",
       "Santa Monica                 1139\n",
       "Downtown                     1110\n",
       "                             ... \n",
       "Northwest Antelope Valley       1\n",
       "Lake Hughes                     1\n",
       "Ridge Route                     1\n",
       "Leona Valley                    1\n",
       "Hawaiian Gardens                1\n",
       "Name: neighbourhood_cleansed, Length: 263, dtype: int64"
      ]
     },
     "execution_count": 9,
     "metadata": {},
     "output_type": "execute_result"
    }
   ],
   "source": [
    "#Count of neighbourboods\n",
    "dfAirbnbSelected['neighbourhood_cleansed'].value_counts()"
   ]
  },
  {
   "cell_type": "code",
   "execution_count": 14,
   "metadata": {},
   "outputs": [
    {
     "name": "stdout",
     "output_type": "stream",
     "text": [
      "Mean: 222.68233637747355\n",
      "Variance: 368210.0867693615\n",
      "Standard Deviation: 606.803169709389\n",
      "Mode: 0    100.0\n",
      "dtype: float64\n"
     ]
    }
   ],
   "source": [
    "#Vitals of Prices (price_am). Mean, Variance, Standard Devivation, Mode\n",
    "print('Mean:',dfAirbnbSelected.price_am.mean())\n",
    "print('Variance:',dfAirbnbSelected.price_am.var())\n",
    "print('Standard Deviation:',dfAirbnbSelected.price_am.std())\n",
    "print('Mode:',dfAirbnbSelected.price_am.mode())"
   ]
  },
  {
   "cell_type": "code",
   "execution_count": null,
   "metadata": {},
   "outputs": [],
   "source": [
    "#Mean being 222 dollar and standard deviation 606. This show up in the histogram below as 100 dollar is the most\n",
    "#common amount of daily rentals. The average being 222 dolars. There are rental in the higher price range."
   ]
  },
  {
   "cell_type": "code",
   "execution_count": 15,
   "metadata": {},
   "outputs": [
    {
     "data": {
      "text/plain": [
       "<matplotlib.legend.Legend at 0x289cbaf7eb0>"
      ]
     },
     "execution_count": 15,
     "metadata": {},
     "output_type": "execute_result"
    },
    {
     "data": {
      "image/png": "[encoded data removed]",
      "text/plain": [
       "<Figure size 432x288 with 1 Axes>"
      ]
     },
     "metadata": {
      "needs_background": "light"
     },
     "output_type": "display_data"
    }
   ],
   "source": [
    "#Histogram of Prices (price_am)\n",
    "hist_price= dfAirbnbSelected.price_am\n",
    "plt.hist(hist_price,range=[0,500],label='Price')\n",
    "plt.xlabel('Price')\n",
    "plt.ylabel('Frequency')\n",
    "plt.legend()\n"
   ]
  },
  {
   "cell_type": "code",
   "execution_count": 23,
   "metadata": {},
   "outputs": [],
   "source": [
    "#Change the host acceptance rate from string to float (host_acceptance_rate)\n",
    "dfAirbnbSelected['host_acceptance_rt'] = dfAirbnbSelected['host_acceptance_rate'].astype(str)\n",
    "dfAirbnbSelected['host_acceptance_rt'] = dfAirbnbSelected['host_acceptance_rt'].str.replace(\"[ ,% ]\", \"\").astype(\"float\")\n",
    "#dfAirbnbSelected = dfAirbnbSelected.drop(columns = ['price'])"
   ]
  },
  {
   "cell_type": "code",
   "execution_count": 24,
   "metadata": {},
   "outputs": [
    {
     "data": {
      "text/plain": [
       "0          0.0\n",
       "1         36.0\n",
       "2        100.0\n",
       "3         60.0\n",
       "4          NaN\n",
       "         ...  \n",
       "31531     97.0\n",
       "31532     95.0\n",
       "31533      NaN\n",
       "31534    100.0\n",
       "31535     76.0\n",
       "Name: host_acceptance_rt, Length: 31536, dtype: float64"
      ]
     },
     "execution_count": 24,
     "metadata": {},
     "output_type": "execute_result"
    }
   ],
   "source": [
    "dfAirbnbSelected['host_acceptance_rt']"
   ]
  },
  {
   "cell_type": "code",
   "execution_count": 25,
   "metadata": {},
   "outputs": [
    {
     "name": "stdout",
     "output_type": "stream",
     "text": [
      "Summary Statistics for Host Acceptance Rate\n",
      "Mean: 84.82787945291375\n",
      "Variance: 577.5961767737639\n",
      "Standard Deviation: 24.033230676997295\n",
      "Mode: 0    100.0\n",
      "dtype: float64\n"
     ]
    }
   ],
   "source": [
    "#Vitals of Host acceptance rate (host_acceptance_rt)\n",
    "print ('Summary Statistics for Host Acceptance Rate')\n",
    "print('Mean:',dfAirbnbSelected.host_acceptance_rt.mean())\n",
    "print('Variance:',dfAirbnbSelected.host_acceptance_rt.var())\n",
    "print('Standard Deviation:',dfAirbnbSelected.host_acceptance_rt.std())\n",
    "print('Mode:',dfAirbnbSelected.host_acceptance_rt.mode())"
   ]
  },
  {
   "cell_type": "code",
   "execution_count": null,
   "metadata": {},
   "outputs": [],
   "source": [
    "#This is kind of a surprise I expected accpetance rates to be higher. Average is 84.82. The common is 100.\n",
    "#Standar deviation of 24 indicating most acceptance rates are below the 84 mean."
   ]
  },
  {
   "cell_type": "code",
   "execution_count": 27,
   "metadata": {},
   "outputs": [
    {
     "data": {
      "text/plain": [
       "<matplotlib.legend.Legend at 0x1fe3a294940>"
      ]
     },
     "execution_count": 27,
     "metadata": {},
     "output_type": "execute_result"
    },
    {
     "data": {
      "image/png": "[encoded data removed]",
      "text/plain": [
       "<Figure size 432x288 with 1 Axes>"
      ]
     },
     "metadata": {
      "needs_background": "light"
     },
     "output_type": "display_data"
    }
   ],
   "source": [
    "#Histogram of Host acceptance rate\n",
    "hist_host_accpt_rate= dfAirbnbSelected.host_acceptance_rt\n",
    "plt.hist(hist_host_accpt_rate, bins=15,label='Host Acceptance Rate')\n",
    "plt.xlabel('Host Acceptance Rate')\n",
    "plt.ylabel('Frequency')\n",
    "plt.legend()"
   ]
  },
  {
   "cell_type": "code",
   "execution_count": 21,
   "metadata": {},
   "outputs": [
    {
     "name": "stdout",
     "output_type": "stream",
     "text": [
      "Summary Statistics for Number Accomodations\n",
      "Mean: 3.55980466768138\n",
      "Variance: 6.513626395963844\n",
      "Standard Deviation: 2.5521807138139425\n",
      "Mode: 0    2\n",
      "dtype: int64\n"
     ]
    }
   ],
   "source": [
    "#Vitals on how many people are accommodate by the listing (accommodates)\n",
    "print ('Summary Statistics for Number Accomodations')\n",
    "print('Mean:',dfAirbnbSelected.accommodates.mean())\n",
    "print('Variance:',dfAirbnbSelected.accommodates.var())\n",
    "print('Standard Deviation:',dfAirbnbSelected.accommodates.std())\n",
    "print('Mode:',dfAirbnbSelected.accommodates.mode())"
   ]
  },
  {
   "cell_type": "code",
   "execution_count": null,
   "metadata": {},
   "outputs": [],
   "source": [
    "#Accomodation average at 3.5598 with most at around 2. So it would seem couples or individuals without families\n",
    "#might use Airbnb more than other types."
   ]
  },
  {
   "cell_type": "code",
   "execution_count": 12,
   "metadata": {},
   "outputs": [
    {
     "data": {
      "text/plain": [
       "<matplotlib.legend.Legend at 0x1fe38ff0580>"
      ]
     },
     "execution_count": 12,
     "metadata": {},
     "output_type": "execute_result"
    },
    {
     "data": {
      "image/png": "[encoded data removed]",
      "text/plain": [
       "<Figure size 432x288 with 1 Axes>"
      ]
     },
     "metadata": {
      "needs_background": "light"
     },
     "output_type": "display_data"
    }
   ],
   "source": [
    "#Histogram on how many people are accommodate by the listing (accommodates)\n",
    "hist_accommodates= dfAirbnbSelected.accommodates\n",
    "plt.hist(hist_accommodates, bins=5,label='Number Accommodated')\n",
    "plt.xlabel('Number Accomodated')\n",
    "plt.ylabel('Frequency')\n",
    "plt.legend()"
   ]
  },
  {
   "cell_type": "code",
   "execution_count": 23,
   "metadata": {},
   "outputs": [
    {
     "name": "stdout",
     "output_type": "stream",
     "text": [
      "Summary Statistics for Number of Listing By Host\n",
      "Mean: 31.955280685061847\n",
      "Variance: 27332.075452622277\n",
      "Standard Deviation: 165.32415265962283\n",
      "Mode: 0    1.0\n",
      "dtype: float64\n"
     ]
    }
   ],
   "source": [
    "#Vitals number of listing by host (host_listing_count)\n",
    "print ('Summary Statistics for Number of Listing By Host')\n",
    "print('Mean:',dfAirbnbSelected.host_listings_count.mean())\n",
    "print('Variance:',dfAirbnbSelected.host_listings_count.var())\n",
    "print('Standard Deviation:',dfAirbnbSelected.host_listings_count.std())\n",
    "print('Mode:',dfAirbnbSelected.host_listings_count.mode())"
   ]
  },
  {
   "cell_type": "code",
   "execution_count": 10,
   "metadata": {},
   "outputs": [
    {
     "name": "stdout",
     "output_type": "stream",
     "text": [
      "Median: 2.0\n"
     ]
    }
   ],
   "source": [
    "print ('Median:',dfAirbnbSelected.host_listings_count.median())"
   ]
  },
  {
   "cell_type": "code",
   "execution_count": null,
   "metadata": {},
   "outputs": [],
   "source": [
    "#This was surprising. Average number of host listing is 31.955 Standard deviation says data points are above the \n",
    "#mean but a lot. the median is 2 and the mode is 1. Not sure how to explain that."
   ]
  },
  {
   "cell_type": "code",
   "execution_count": 26,
   "metadata": {},
   "outputs": [
    {
     "data": {
      "text/plain": [
       "<matplotlib.legend.Legend at 0x289ccba3940>"
      ]
     },
     "execution_count": 26,
     "metadata": {},
     "output_type": "execute_result"
    },
    {
     "data": {
      "image/png": "[encoded data removed]",
      "text/plain": [
       "<Figure size 432x288 with 1 Axes>"
      ]
     },
     "metadata": {
      "needs_background": "light"
     },
     "output_type": "display_data"
    }
   ],
   "source": [
    "#Histogram of number of listing by host (host_listing count)\n",
    "hist_host_listing_count= dfAirbnbSelected.host_listings_count\n",
    "plt.hist(hist_price,range=[0,200],label='Number of Rentals by Host')\n",
    "plt.xlabel('Host Listing Count')\n",
    "plt.ylabel('Frequency')\n",
    "plt.legend()"
   ]
  },
  {
   "cell_type": "code",
   "execution_count": 27,
   "metadata": {},
   "outputs": [
    {
     "name": "stdout",
     "output_type": "stream",
     "text": [
      "Summary Statistics for Minimum Nights Required\n",
      "Mean: 18.371321664129884\n",
      "Variance: 1014.6250776381735\n",
      "Standard Deviation: 31.853180023950095\n",
      "Mode: 0    30\n",
      "dtype: int64\n"
     ]
    }
   ],
   "source": [
    "#Vitals for Minimum Nights Required (minimum_nights)\n",
    "print ('Summary Statistics for Minimum Nights Required')\n",
    "print('Mean:',dfAirbnbSelected.minimum_nights.mean())\n",
    "print('Variance:',dfAirbnbSelected.minimum_nights.var())\n",
    "print('Standard Deviation:',dfAirbnbSelected.minimum_nights.std())\n",
    "print('Mode:',dfAirbnbSelected.minimum_nights.mode())"
   ]
  },
  {
   "cell_type": "code",
   "execution_count": null,
   "metadata": {},
   "outputs": [],
   "source": [
    "#If the mean is 18.37 minimum night stays. That seems odd."
   ]
  },
  {
   "cell_type": "code",
   "execution_count": 15,
   "metadata": {},
   "outputs": [
    {
     "data": {
      "text/plain": [
       "<matplotlib.legend.Legend at 0x21fc4acb040>"
      ]
     },
     "execution_count": 15,
     "metadata": {},
     "output_type": "execute_result"
    },
    {
     "data": {
      "image/png": "[encoded data removed]",
      "text/plain": [
       "<Figure size 432x288 with 1 Axes>"
      ]
     },
     "metadata": {
      "needs_background": "light"
     },
     "output_type": "display_data"
    }
   ],
   "source": [
    "#Histogram on minimum nights stay (minimum_nights)\n",
    "hist_min_nights_stay= dfAirbnbSelected.minimum_nights\n",
    "plt.hist(hist_min_nights_stay,range=[0,40],label='Minimum Nights Stay')\n",
    "plt.xlabel('Minimum Nights Stay')\n",
    "plt.ylabel('Frequency')\n",
    "plt.legend()"
   ]
  },
  {
   "cell_type": "code",
   "execution_count": 29,
   "metadata": {},
   "outputs": [
    {
     "name": "stdout",
     "output_type": "stream",
     "text": [
      "Summary Statistics for Availability\n",
      "Mean: 12.028253424657533\n",
      "Variance: 148.18664424287593\n",
      "Standard Deviation: 12.173193674745995\n",
      "Mode: 0    0\n",
      "dtype: int64\n"
     ]
    }
   ],
   "source": [
    "#Vitals for Availability (availability_30)\n",
    "print ('Summary Statistics for Availability')\n",
    "print('Mean:',dfAirbnbSelected.availability_30.mean())\n",
    "print('Variance:',dfAirbnbSelected.availability_30.var())\n",
    "print('Standard Deviation:',dfAirbnbSelected.availability_30.std())\n",
    "print('Mode:',dfAirbnbSelected.availability_30.mode())"
   ]
  },
  {
   "cell_type": "code",
   "execution_count": null,
   "metadata": {},
   "outputs": [],
   "source": [
    "#Availability being at 12.02 days. People are renting for 12 days on average."
   ]
  },
  {
   "cell_type": "code",
   "execution_count": 30,
   "metadata": {},
   "outputs": [
    {
     "data": {
      "image/png": "[encoded data removed]",
      "text/plain": [
       "<Figure size 432x288 with 1 Axes>"
      ]
     },
     "metadata": {
      "needs_background": "light"
     },
     "output_type": "display_data"
    },
    {
     "data": {
      "text/plain": [
       "<Figure size 576x432 with 0 Axes>"
      ]
     },
     "metadata": {},
     "output_type": "display_data"
    }
   ],
   "source": [
    "#Histogram on availability in the last 30 days (availability_30)\n",
    "\n",
    "hist_availability_30=thinkstats2.Hist(dfAirbnbSelected.availability_30, label='Avaiability in the Last 30 days')\n",
    "thinkplot.Hist(hist_availability_30)\n",
    "thinkplot.Show(xlabel='Availability', ylabel='Frequency')"
   ]
  },
  {
   "cell_type": "code",
   "execution_count": 31,
   "metadata": {},
   "outputs": [
    {
     "data": {
      "text/plain": [
       "0        0\n",
       "1        2\n",
       "2        4\n",
       "3        2\n",
       "4        0\n",
       "        ..\n",
       "31531    0\n",
       "31532    0\n",
       "31533    0\n",
       "31534    0\n",
       "31535    0\n",
       "Name: number_of_reviews_ltm, Length: 31536, dtype: int64"
      ]
     },
     "execution_count": 31,
     "metadata": {},
     "output_type": "execute_result"
    }
   ],
   "source": [
    "dfAirbnbSelected.number_of_reviews_ltm"
   ]
  },
  {
   "cell_type": "code",
   "execution_count": 12,
   "metadata": {},
   "outputs": [
    {
     "name": "stdout",
     "output_type": "stream",
     "text": [
      "Summary Statistics for Number of Reviews (LTM)\n",
      "Mean: 8.838723997970574\n",
      "Variance: 239.5647930950657\n",
      "Standard Deviation: 15.47788076886063\n",
      "Mode: 0    0\n",
      "dtype: int64\n",
      "Median: 2.0\n"
     ]
    }
   ],
   "source": [
    "#Vital of Number of Reviews (number_of_reviews_ltm)\n",
    "print ('Summary Statistics for Number of Reviews (LTM)')\n",
    "print('Mean:',dfAirbnbSelected.number_of_reviews_ltm.mean())\n",
    "print('Variance:',dfAirbnbSelected.number_of_reviews_ltm.var())\n",
    "print('Standard Deviation:',dfAirbnbSelected.number_of_reviews_ltm.std())\n",
    "print('Mode:',dfAirbnbSelected.number_of_reviews_ltm.mode())\n",
    "print('Median:',dfAirbnbSelected.number_of_reviews_ltm.median())"
   ]
  },
  {
   "cell_type": "code",
   "execution_count": null,
   "metadata": {},
   "outputs": [],
   "source": [
    "#The number of reviews is about 8 per host. With clusting around 15."
   ]
  },
  {
   "cell_type": "code",
   "execution_count": 53,
   "metadata": {},
   "outputs": [
    {
     "data": {
      "text/plain": [
       "<matplotlib.legend.Legend at 0x289cc77fa90>"
      ]
     },
     "execution_count": 53,
     "metadata": {},
     "output_type": "execute_result"
    },
    {
     "data": {
      "image/png": "[encoded data removed]",
      "text/plain": [
       "<Figure size 432x288 with 1 Axes>"
      ]
     },
     "metadata": {
      "needs_background": "light"
     },
     "output_type": "display_data"
    }
   ],
   "source": [
    "#Histogram of Number of Reviews (number_of_reviews_ltm)\n",
    "hist_number_of_reviews_ltm= dfAirbnbSelected.number_of_reviews_ltm\n",
    "plt.hist(hist_number_of_reviews_ltm, range=[0,65],label='Number of Reviews (LTM)')\n",
    "plt.xlabel('Number of Review (LTM)')\n",
    "plt.ylabel('Frequency')\n",
    "plt.legend()"
   ]
  },
  {
   "cell_type": "code",
   "execution_count": 8,
   "metadata": {},
   "outputs": [
    {
     "name": "stdout",
     "output_type": "stream",
     "text": [
      "host_is_superhost\n",
      "Mean: 0.36555661274976214\n",
      "Variance: 0.23193233155024479\n",
      "Standard Deviation: 0.48159353354280493\n",
      "Mode: 0    0.0\n",
      "dtype: float64\n"
     ]
    }
   ],
   "source": [
    "#Vital of types of hosts (host_is_superhost)\n",
    "print ('host_is_superhost')\n",
    "print('Mean:',dfAirbnbSelected.host_is_superhost.mean())\n",
    "print('Variance:',dfAirbnbSelected.host_is_superhost.var())\n",
    "print('Standard Deviation:',dfAirbnbSelected.host_is_superhost.std())\n",
    "print('Mode:',dfAirbnbSelected.host_is_superhost.mode())\n"
   ]
  },
  {
   "cell_type": "code",
   "execution_count": 28,
   "metadata": {},
   "outputs": [
    {
     "data": {
      "text/plain": [
       "<matplotlib.legend.Legend at 0x1fe39528040>"
      ]
     },
     "execution_count": 28,
     "metadata": {},
     "output_type": "execute_result"
    },
    {
     "data": {
      "image/png": "[encoded data removed]",
      "text/plain": [
       "<Figure size 432x288 with 1 Axes>"
      ]
     },
     "metadata": {
      "needs_background": "light"
     },
     "output_type": "display_data"
    }
   ],
   "source": [
    "#Histogram is host superhost\n",
    "hist_host_is_super= dfAirbnbSelected.host_is_superhost\n",
    "plt.hist(hist_host_is_super,label='Type of Host')\n",
    "plt.xlabel('Type of Host')\n",
    "plt.ylabel('Frequency')\n",
    "plt.legend()"
   ]
  },
  {
   "cell_type": "code",
   "execution_count": 31,
   "metadata": {},
   "outputs": [
    {
     "name": "stdout",
     "output_type": "stream",
     "text": [
      "neighbourhood_cleansed\n"
     ]
    },
    {
     "data": {
      "text/plain": [
       "<matplotlib.legend.Legend at 0x1a5d7a5afd0>"
      ]
     },
     "execution_count": 31,
     "metadata": {},
     "output_type": "execute_result"
    },
    {
     "data": {
      "image/png": "[encoded data removed]",
      "text/plain": [
       "<Figure size 432x288 with 1 Axes>"
      ]
     },
     "metadata": {
      "needs_background": "light"
     },
     "output_type": "display_data"
    }
   ],
   "source": [
    "#Histogram of Locations cleaned by Airbnb\n",
    "print ('neighbourhood_cleansed')\n",
    "\n",
    "hist_neighbourhood_cleansed= dfAirbnbSelected.neighbourhood_cleansed\n",
    "plt.hist(hist_neighbourhood_cleansed,label='Number of Neighbourhoods')\n",
    "plt.xlabel('Neighbourhoods')\n",
    "plt.ylabel('Frequency')\n",
    "plt.xticks(rotation='vertical')\n",
    "plt.legend()"
   ]
  },
  {
   "cell_type": "code",
   "execution_count": 19,
   "metadata": {},
   "outputs": [
    {
     "data": {
      "text/plain": [
       "<matplotlib.legend.Legend at 0x1a5c97d19a0>"
      ]
     },
     "execution_count": 19,
     "metadata": {},
     "output_type": "execute_result"
    },
    {
     "data": {
      "image/png": "[encoded data removed]",
      "text/plain": [
       "<Figure size 432x288 with 1 Axes>"
      ]
     },
     "metadata": {
      "needs_background": "light"
     },
     "output_type": "display_data"
    }
   ],
   "source": [
    "hist_neighbourhood_cleansed= dfAirbnbSelected.neighbourhood_cleansed\n",
    "plt.hist(hist_neighbourhood_cleansed,range=[0,20],label='Number of Neighbourhoods')\n",
    "plt.xlabel('Neighbourhoods')\n",
    "plt.ylabel('Frequency')\n",
    "plt.xticks(rotation='vertical')\n",
    "plt.legend()"
   ]
  },
  {
   "cell_type": "code",
   "execution_count": null,
   "metadata": {},
   "outputs": [],
   "source": [
    "#Santa Monica appears to be popular rental area Compared to other places."
   ]
  },
  {
   "cell_type": "code",
   "execution_count": 35,
   "metadata": {},
   "outputs": [
    {
     "name": "stdout",
     "output_type": "stream",
     "text": [
      "Property Type\n"
     ]
    },
    {
     "data": {
      "text/plain": [
       "<matplotlib.legend.Legend at 0x25a7d84b250>"
      ]
     },
     "execution_count": 35,
     "metadata": {},
     "output_type": "execute_result"
    },
    {
     "data": {
      "image/png": "[encoded data removed]",
      "text/plain": [
       "<Figure size 432x288 with 1 Axes>"
      ]
     },
     "metadata": {
      "needs_background": "light"
     },
     "output_type": "display_data"
    }
   ],
   "source": [
    "print('Property Type')\n",
    "hist_property_type= dfAirbnbSelected.property_type\n",
    "plt.hist(hist_property_type,bins=10,label='Type of Property')\n",
    "plt.xlabel('Type of Property')\n",
    "plt.ylabel('Frequency')\n",
    "plt.legend()"
   ]
  },
  {
   "cell_type": "code",
   "execution_count": 24,
   "metadata": {},
   "outputs": [
    {
     "name": "stdout",
     "output_type": "stream",
     "text": [
      "Property Type\n"
     ]
    },
    {
     "data": {
      "text/plain": [
       "<matplotlib.legend.Legend at 0x1a5ca026e80>"
      ]
     },
     "execution_count": 24,
     "metadata": {},
     "output_type": "execute_result"
    },
    {
     "data": {
      "image/png": "[encoded data removed]",
      "text/plain": [
       "<Figure size 432x288 with 1 Axes>"
      ]
     },
     "metadata": {
      "needs_background": "light"
     },
     "output_type": "display_data"
    }
   ],
   "source": [
    "print('Property Type')\n",
    "hist_property_type= dfAirbnbSelected.property_type\n",
    "plt.hist(hist_property_type,range=[0,20],label='Type of Property')\n",
    "plt.xlabel('Type of Property')\n",
    "plt.ylabel('Frequency')\n",
    "plt.xticks(rotation='vertical')\n",
    "plt.legend()"
   ]
  },
  {
   "cell_type": "code",
   "execution_count": null,
   "metadata": {},
   "outputs": [],
   "source": [
    "#This is surprising. I expect lessor property types. Apartments seems to be pretty high and guesthouses. \n",
    "#The guesthouse has to be a regional thing."
   ]
  },
  {
   "cell_type": "code",
   "execution_count": 10,
   "metadata": {},
   "outputs": [],
   "source": [
    "#Probablity Mass Function\n",
    "\n",
    "#Make dataframe with review rate super host and host\n",
    "dfsuperhosts = dfAirbnbSelected[dfAirbnbSelected.host_is_superhost == 1]\n",
    "dfregularhosts = dfAirbnbSelected[dfAirbnbSelected.host_is_superhost != 1]\n"
   ]
  },
  {
   "cell_type": "code",
   "execution_count": 33,
   "metadata": {},
   "outputs": [],
   "source": [
    "#PMF\n",
    "superhosts_pmf = thinkstats2.Pmf(dfsuperhosts.number_of_reviews_ltm, label='superhosts')\n",
    "regularhosts_pmf = thinkstats2.Pmf(dfregularhosts.number_of_reviews_ltm, label='regularhosts')"
   ]
  },
  {
   "cell_type": "code",
   "execution_count": 39,
   "metadata": {},
   "outputs": [
    {
     "data": {
      "image/png": "[encoded data removed]",
      "text/plain": [
       "<Figure size 864x432 with 2 Axes>"
      ]
     },
     "metadata": {
      "needs_background": "light"
     },
     "output_type": "display_data"
    },
    {
     "data": {
      "text/plain": [
       "<Figure size 576x432 with 0 Axes>"
      ]
     },
     "metadata": {},
     "output_type": "display_data"
    }
   ],
   "source": [
    "#PMF Bar graph and step function side by side.\n",
    "width=1\n",
    "axis = [0, 40, 0, 0.45]\n",
    "thinkplot.PrePlot(2, cols=2)\n",
    "thinkplot.Hist(superhosts_pmf, align='right', width=width)\n",
    "thinkplot.Hist(regularhosts_pmf, align='left', width=width)\n",
    "thinkplot.Config(xlabel='Number of Reviews (LTM)', ylabel='PMF', axis=axis)\n",
    "\n",
    "thinkplot.PrePlot(2)\n",
    "thinkplot.SubPlot(2)\n",
    "thinkplot.Pmfs([superhosts_pmf, regularhosts_pmf])\n",
    "thinkplot.Show(xlabel='Number of Reviews (LTM)',axis=axis)"
   ]
  },
  {
   "cell_type": "code",
   "execution_count": null,
   "metadata": {},
   "outputs": [],
   "source": [
    "#No really different in being a Super Host compared to Regular Host."
   ]
  },
  {
   "cell_type": "code",
   "execution_count": 31,
   "metadata": {},
   "outputs": [],
   "source": [
    "superhosts_pmf2 = thinkstats2.Pmf(dfsuperhosts.price_am, label='superhosts')\n",
    "regularhosts_pmf2 = thinkstats2.Pmf(dfregularhosts.price_am, label='regularhosts')"
   ]
  },
  {
   "cell_type": "code",
   "execution_count": 35,
   "metadata": {},
   "outputs": [
    {
     "data": {
      "image/png": "[encoded data removed]",
      "text/plain": [
       "<Figure size 864x432 with 2 Axes>"
      ]
     },
     "metadata": {
      "needs_background": "light"
     },
     "output_type": "display_data"
    },
    {
     "data": {
      "text/plain": [
       "<Figure size 576x432 with 0 Axes>"
      ]
     },
     "metadata": {},
     "output_type": "display_data"
    }
   ],
   "source": [
    "width=1\n",
    "axis = [15, 200, 0, 0.03]\n",
    "thinkplot.PrePlot(2, cols=2)\n",
    "thinkplot.Hist(superhosts_pmf2, align='right', width=width)\n",
    "thinkplot.Hist(regularhosts_pmf2, align='left', width=width)\n",
    "thinkplot.Config(xlabel='Price', ylabel='PMF', axis=axis)\n",
    "\n",
    "thinkplot.PrePlot(2)\n",
    "thinkplot.SubPlot(2)\n",
    "thinkplot.Pmfs([superhosts_pmf2, regularhosts_pmf2])\n",
    "thinkplot.Show(xlabel='Price',axis=axis)"
   ]
  },
  {
   "cell_type": "code",
   "execution_count": 59,
   "metadata": {},
   "outputs": [],
   "source": [
    "#CDF of One variable\n",
    "\n",
    "superhosts_cdf = thinkstats2.Cdf(dfsuperhosts.number_of_reviews_ltm, label='superhosts')"
   ]
  },
  {
   "cell_type": "code",
   "execution_count": 41,
   "metadata": {},
   "outputs": [
    {
     "data": {
      "image/png": "[encoded data removed]",
      "text/plain": [
       "<Figure size 432x288 with 1 Axes>"
      ]
     },
     "metadata": {
      "needs_background": "light"
     },
     "output_type": "display_data"
    },
    {
     "data": {
      "text/plain": [
       "<Figure size 576x432 with 0 Axes>"
      ]
     },
     "metadata": {},
     "output_type": "display_data"
    }
   ],
   "source": [
    "#Plot CDF\n",
    "thinkplot.Cdf(superhosts_cdf)\n",
    "thinkplot.Show(xlabel='Number of Reviews', ylabel='CDF')"
   ]
  },
  {
   "cell_type": "code",
   "execution_count": 60,
   "metadata": {},
   "outputs": [],
   "source": [
    "#CDF of regularhost\n",
    "regularhosts_cdf = thinkstats2.Cdf(dfregularhosts.number_of_reviews_ltm, label='regularhosts')\n"
   ]
  },
  {
   "cell_type": "code",
   "execution_count": 41,
   "metadata": {},
   "outputs": [
    {
     "data": {
      "image/png": "[encoded data removed]",
      "text/plain": [
       "<Figure size 432x288 with 1 Axes>"
      ]
     },
     "metadata": {
      "needs_background": "light"
     },
     "output_type": "display_data"
    },
    {
     "data": {
      "text/plain": [
       "<Figure size 576x432 with 0 Axes>"
      ]
     },
     "metadata": {},
     "output_type": "display_data"
    }
   ],
   "source": [
    "#Plot CDF Regular host and number of reviews\n",
    "thinkplot.Cdf(regularhosts_cdf)\n",
    "thinkplot.Show(xlabel='Number of Reviews', ylabel='CDF')"
   ]
  },
  {
   "cell_type": "code",
   "execution_count": 61,
   "metadata": {},
   "outputs": [
    {
     "data": {
      "image/png": "[encoded data removed]",
      "text/plain": [
       "<Figure size 432x288 with 1 Axes>"
      ]
     },
     "metadata": {
      "needs_background": "light"
     },
     "output_type": "display_data"
    },
    {
     "data": {
      "text/plain": [
       "<Figure size 576x432 with 0 Axes>"
      ]
     },
     "metadata": {},
     "output_type": "display_data"
    }
   ],
   "source": [
    "thinkplot.PrePlot(2)\n",
    "thinkplot.Cdfs([superhosts_cdf, regularhosts_cdf])\n",
    "thinkplot.Show(xlabel='Number of Reviews', ylabel='CDF')"
   ]
  },
  {
   "cell_type": "code",
   "execution_count": 12,
   "metadata": {},
   "outputs": [],
   "source": [
    "superhosts_price_cdf = thinkstats2.Cdf(dfsuperhosts.price_am, label='superhosts')"
   ]
  },
  {
   "cell_type": "code",
   "execution_count": 11,
   "metadata": {},
   "outputs": [
    {
     "data": {
      "text/plain": [
       "2         74.00\n",
       "5         55.00\n",
       "6         70.00\n",
       "7        130.00\n",
       "8         79.00\n",
       "          ...  \n",
       "31511    208.00\n",
       "31523    143.00\n",
       "31531    248.00\n",
       "31532    160.14\n",
       "31535    894.00\n",
       "Name: price_am, Length: 11526, dtype: float64"
      ]
     },
     "execution_count": 11,
     "metadata": {},
     "output_type": "execute_result"
    }
   ],
   "source": [
    "dfsuperhosts.price_am"
   ]
  },
  {
   "cell_type": "code",
   "execution_count": 13,
   "metadata": {},
   "outputs": [
    {
     "data": {
      "text/plain": [
       "Cdf([   0.   12.   13. ... 6250. 9995. 9999.], [2.60281104e-04 3.47041471e-04 4.33801839e-04 ... 9.99826479e-01\n",
       " 9.99913240e-01 1.00000000e+00], 'superhosts')"
      ]
     },
     "execution_count": 13,
     "metadata": {},
     "output_type": "execute_result"
    }
   ],
   "source": [
    "superhosts_price_cdf"
   ]
  },
  {
   "cell_type": "code",
   "execution_count": 14,
   "metadata": {},
   "outputs": [
    {
     "data": {
      "image/png": "[encoded data removed]",
      "text/plain": [
       "<Figure size 432x288 with 1 Axes>"
      ]
     },
     "metadata": {
      "needs_background": "light"
     },
     "output_type": "display_data"
    },
    {
     "data": {
      "text/plain": [
       "<Figure size 576x432 with 0 Axes>"
      ]
     },
     "metadata": {},
     "output_type": "display_data"
    }
   ],
   "source": [
    "#Plot CDF of Price and Super Host\n",
    "thinkplot.Cdf(superhosts_price_cdf)\n",
    "thinkplot.Show(xlabel='Price', ylabel='CDF')"
   ]
  },
  {
   "cell_type": "code",
   "execution_count": 58,
   "metadata": {},
   "outputs": [],
   "source": [
    "regularhosts_price_cdf = thinkstats2.Cdf(dfregularhosts.price_am, label='regularhosts')"
   ]
  },
  {
   "cell_type": "code",
   "execution_count": 45,
   "metadata": {},
   "outputs": [
    {
     "data": {
      "image/png": "[encoded data removed]",
      "text/plain": [
       "<Figure size 432x288 with 1 Axes>"
      ]
     },
     "metadata": {
      "needs_background": "light"
     },
     "output_type": "display_data"
    },
    {
     "data": {
      "text/plain": [
       "<Figure size 576x432 with 0 Axes>"
      ]
     },
     "metadata": {},
     "output_type": "display_data"
    }
   ],
   "source": [
    "#Plot CDF of Price and Regular host\n",
    "thinkplot.Cdf(regularhosts_price_cdf)\n",
    "thinkplot.Show(xlabel='Price', ylabel='CDF')"
   ]
  },
  {
   "cell_type": "code",
   "execution_count": 54,
   "metadata": {},
   "outputs": [
    {
     "data": {
      "image/png": "[encoded data removed]",
      "text/plain": [
       "<Figure size 432x288 with 1 Axes>"
      ]
     },
     "metadata": {
      "needs_background": "light"
     },
     "output_type": "display_data"
    },
    {
     "data": {
      "text/plain": [
       "<Figure size 576x432 with 0 Axes>"
      ]
     },
     "metadata": {},
     "output_type": "display_data"
    }
   ],
   "source": [
    "#Compare both Super Host to Regular Host using CDFs and price\n",
    "thinkplot.PrePlot(2)\n",
    "thinkplot.Cdfs([superhosts_price_cdf, regularhosts_price_cdf])\n",
    "thinkplot.Show(xlabel='Price ($)', ylabel='CDF')"
   ]
  },
  {
   "cell_type": "code",
   "execution_count": null,
   "metadata": {},
   "outputs": [],
   "source": [
    "superhost_price_cdf"
   ]
  },
  {
   "cell_type": "code",
   "execution_count": 46,
   "metadata": {},
   "outputs": [],
   "source": [
    "price_am = dfAirbnbSelected.price_am\n",
    "cdf = thinkstats2.Cdf(price_am, label='Price ($)')"
   ]
  },
  {
   "cell_type": "code",
   "execution_count": 47,
   "metadata": {},
   "outputs": [],
   "source": [
    "sample = np.random.choice(price_am, 100, replace=True)\n",
    "ranks = [cdf.PercentileRank(x) for x in sample]"
   ]
  },
  {
   "cell_type": "code",
   "execution_count": 49,
   "metadata": {},
   "outputs": [
    {
     "data": {
      "image/png": "[encoded data removed]",
      "text/plain": [
       "<Figure size 432x288 with 1 Axes>"
      ]
     },
     "metadata": {
      "needs_background": "light"
     },
     "output_type": "display_data"
    },
    {
     "data": {
      "text/plain": [
       "<Figure size 576x432 with 0 Axes>"
      ]
     },
     "metadata": {},
     "output_type": "display_data"
    }
   ],
   "source": [
    "rank_cdf = thinkstats2.Cdf(ranks)\n",
    "thinkplot.Cdf(rank_cdf)\n",
    "thinkplot.Show(xlabel='percentile rank', ylabel='CDF', title='Percentile Rank of Prices')"
   ]
  },
  {
   "cell_type": "code",
   "execution_count": 20,
   "metadata": {},
   "outputs": [],
   "source": [
    "#Plot Analytical distribution of Price\n",
    "priceairbnb=dfAirbnbSelected.price_am.dropna()"
   ]
  },
  {
   "cell_type": "code",
   "execution_count": 48,
   "metadata": {},
   "outputs": [
    {
     "data": {
      "text/plain": [
       "24999.0"
      ]
     },
     "execution_count": 48,
     "metadata": {},
     "output_type": "execute_result"
    }
   ],
   "source": [
    "max(dfAirbnbSelected.price_am.dropna())\n",
    "#Mean: 222.68233637747355\n",
    "#Variance: 368210.0867693615\n",
    "#Standard Deviation: 606.803169709389\n",
    "#Mode: 0    100.0\n"
   ]
  },
  {
   "cell_type": "code",
   "execution_count": 21,
   "metadata": {},
   "outputs": [
    {
     "data": {
      "text/plain": [
       "0        115.00\n",
       "1        176.00\n",
       "2         74.00\n",
       "3        155.00\n",
       "4         50.00\n",
       "          ...  \n",
       "31531    248.00\n",
       "31532    160.14\n",
       "31533     60.00\n",
       "31534    149.00\n",
       "31535    894.00\n",
       "Name: price_am, Length: 31536, dtype: float64"
      ]
     },
     "execution_count": 21,
     "metadata": {},
     "output_type": "execute_result"
    }
   ],
   "source": [
    "priceairbnb"
   ]
  },
  {
   "cell_type": "code",
   "execution_count": 24,
   "metadata": {},
   "outputs": [
    {
     "name": "stdout",
     "output_type": "stream",
     "text": [
      "Mean, Var 177.30854397204428 52277.81109959485\n",
      "Sigma 228.6434147304375\n"
     ]
    },
    {
     "data": {
      "image/png": "[encoded data removed]",
      "text/plain": [
       "<Figure size 432x288 with 1 Axes>"
      ]
     },
     "metadata": {
      "needs_background": "light"
     },
     "output_type": "display_data"
    }
   ],
   "source": [
    "#plot Analytical distribution of Price\n",
    "\n",
    "mu, var = thinkstats2.TrimmedMeanVar(priceairbnb, p=0.01)\n",
    "print('Mean, Var', mu, var)\n",
    "    \n",
    "# plot the model\n",
    "sigma = np.sqrt(var)\n",
    "print('Sigma', sigma)\n",
    "xs, ps = thinkstats2.RenderNormalCdf(mu, sigma, low=0, high=25000)\n",
    "\n",
    "thinkplot.Plot(xs, ps, label='model', color='0.1')\n",
    "\n",
    "# plot the data\n",
    "cdf = thinkstats2.Cdf(priceairbnb, label='data')\n",
    "\n",
    "thinkplot.PrePlot(1)\n",
    "thinkplot.Cdf(cdf) \n",
    "thinkplot.Config(title='Prices on Rentals',\n",
    "                 xlabel='Price',\n",
    "                 ylabel='CDF')"
   ]
  },
  {
   "cell_type": "code",
   "execution_count": 28,
   "metadata": {},
   "outputs": [
    {
     "data": {
      "image/png": "[encoded data removed]",
      "text/plain": [
       "<Figure size 432x288 with 1 Axes>"
      ]
     },
     "metadata": {
      "needs_background": "light"
     },
     "output_type": "display_data"
    }
   ],
   "source": [
    "mean, var = thinkstats2.TrimmedMeanVar(priceairbnb, p=0.01)\n",
    "std = np.sqrt(var)\n",
    "\n",
    "xs = [0, 6]\n",
    "fxs, fys = thinkstats2.FitLine(xs, mean, std)\n",
    "thinkplot.Plot(fxs, fys, linewidth=4, color='0.8')\n",
    "\n",
    "xs, ys = thinkstats2.NormalProbability(priceairbnb)\n",
    "thinkplot.Plot(xs, ys, label='Price')\n",
    "\n",
    "thinkplot.Config(title='Normal probability plot',\n",
    "                 xlabel='Standard deviations from mean',\n",
    "                 ylabel='Price')"
   ]
  },
  {
   "cell_type": "code",
   "execution_count": 41,
   "metadata": {},
   "outputs": [],
   "source": [
    "#Look at lower prices\n",
    "#If removing rental prices over 1000 this would all a look at the majority of rentals at mean on price is $222\n",
    "priceairbnb2=dfAirbnbSelected.price_am <= 1000\n",
    "\n"
   ]
  },
  {
   "cell_type": "code",
   "execution_count": 44,
   "metadata": {},
   "outputs": [
    {
     "data": {
      "image/png": "[encoded data removed]",
      "text/plain": [
       "<Figure size 432x288 with 1 Axes>"
      ]
     },
     "metadata": {
      "needs_background": "light"
     },
     "output_type": "display_data"
    }
   ],
   "source": [
    "mean, var = thinkstats2.TrimmedMeanVar(priceairbnb2, p=0.01)\n",
    "std = np.sqrt(var)\n",
    "\n",
    "xs = [0, 5]\n",
    "fxs, fys = thinkstats2.FitLine(xs, mean, std)\n",
    "thinkplot.Plot(fxs, fys, linewidth=4, color='0.8')\n",
    "\n",
    "xs, ys = thinkstats2.NormalProbability(priceairbnb2)\n",
    "thinkplot.Plot(xs, ys, label='Price 1000 Under')\n",
    "\n",
    "thinkplot.Config(title='Normal probability plot',\n",
    "                 xlabel='Standard deviations from mean',\n",
    "                 ylabel='Price')"
   ]
  },
  {
   "cell_type": "code",
   "execution_count": 38,
   "metadata": {},
   "outputs": [
    {
     "data": {
      "image/png": "[encoded data removed]",
      "text/plain": [
       "<Figure size 432x288 with 1 Axes>"
      ]
     },
     "metadata": {
      "needs_background": "light"
     },
     "output_type": "display_data"
    }
   ],
   "source": [
    "mean, var = thinkstats2.TrimmedMeanVar(priceairbnb, p=0.01)\n",
    "std = np.sqrt(var)\n",
    "\n",
    "xs = [0, 6]\n",
    "fxs, fys = thinkstats2.FitLine(xs, mean, std)\n",
    "thinkplot.Plot(fxs, fys, linewidth=4, color='0.8')\n",
    "\n",
    "thinkplot.PrePlot(2) \n",
    "xs, ys = thinkstats2.NormalProbability(priceairbnb)\n",
    "thinkplot.Plot(xs, ys, label='Full Price Range')\n",
    "\n",
    "xs, ys = thinkstats2.NormalProbability(priceairbnb2)\n",
    "thinkplot.Plot(xs, ys, label='Price less than 1000')\n",
    "thinkplot.Config(title='Normal probability plot',\n",
    "                 xlabel='Standard deviations from mean',\n",
    "                 ylabel='Price')"
   ]
  },
  {
   "cell_type": "code",
   "execution_count": null,
   "metadata": {},
   "outputs": [],
   "source": [
    "#Prices still climb at the standard deviation from the mean. But prices under 1000 dollars are more in line with\n",
    "#the model (gray line). The higher prices "
   ]
  },
  {
   "cell_type": "code",
   "execution_count": 44,
   "metadata": {},
   "outputs": [],
   "source": [
    "#Create to scatter plots comapring two variables"
   ]
  },
  {
   "cell_type": "code",
   "execution_count": 45,
   "metadata": {},
   "outputs": [
    {
     "data": {
      "text/plain": [
       "31536"
      ]
     },
     "execution_count": 45,
     "metadata": {},
     "output_type": "execute_result"
    }
   ],
   "source": [
    "#Just checking number rows\n",
    "len(dfAirbnbSelected)"
   ]
  },
  {
   "cell_type": "code",
   "execution_count": 62,
   "metadata": {},
   "outputs": [],
   "source": [
    "def SampleRows(dfAirbnbSelected, nrows, replace=False):\n",
    "    indices = np.random.choice(dfAirbnbSelected.index, nrows, replace=replace)\n",
    "    sampleAirbnb = dfAirbnbSelected.loc[indices]\n",
    "    return sampleAirbnb"
   ]
  },
  {
   "cell_type": "code",
   "execution_count": 70,
   "metadata": {},
   "outputs": [],
   "source": [
    "sampleAirbnb = SampleRows(dfAirbnbSelected, 5000)\n",
    "price, review_ltm=sampleAirbnb.price_am, sampleAirbnb.number_of_reviews_ltm"
   ]
  },
  {
   "cell_type": "code",
   "execution_count": 71,
   "metadata": {},
   "outputs": [],
   "source": [
    "def Jitter(values, jitter=0.5):\n",
    "    n = len(values)\n",
    "    return np.random.normal(0, jitter, n) + values"
   ]
  },
  {
   "cell_type": "code",
   "execution_count": 73,
   "metadata": {},
   "outputs": [],
   "source": [
    "price = Jitter(price)\n",
    "review_ltm = Jitter(review_ltm)"
   ]
  },
  {
   "cell_type": "code",
   "execution_count": 56,
   "metadata": {},
   "outputs": [
    {
     "data": {
      "image/png": "[encoded data removed]",
      "text/plain": [
       "<Figure size 432x288 with 1 Axes>"
      ]
     },
     "metadata": {
      "needs_background": "light"
     },
     "output_type": "display_data"
    }
   ],
   "source": [
    "#Scatter plot 1 comparing two variables Price and Number of Review (LTM)\n",
    "thinkplot.Scatter(price, review_ltm, alpha=0.1, s=10)\n",
    "thinkplot.Config(xlabel='Price in Dollars',\n",
    "                 ylabel='Number of Reviews (LTM)',\n",
    "                 axis=[0, 500, 0, 100],\n",
    "                 legend=False)"
   ]
  },
  {
   "cell_type": "code",
   "execution_count": 76,
   "metadata": {},
   "outputs": [
    {
     "data": {
      "image/png": "[encoded data removed]",
      "text/plain": [
       "<Figure size 432x288 with 1 Axes>"
      ]
     },
     "metadata": {
      "needs_background": "light"
     },
     "output_type": "display_data"
    }
   ],
   "source": [
    "#Scatter plot 1 comparing two variables Price and Number of Review (LTM)\n",
    "thinkplot.Scatter(price, review_ltm,alpha=0.2, s=30)\n",
    "thinkplot.Config(xlabel='Price in Dollars',\n",
    "                 ylabel='Number of Reviews (LTM)',\n",
    "                 axis=[0, 500, 0, 100],\n",
    "                 legend=False)"
   ]
  },
  {
   "cell_type": "code",
   "execution_count": 14,
   "metadata": {},
   "outputs": [],
   "source": [
    "#Correlation, covariance, Non-Linear Relationship\n",
    "\n",
    "#Covariance\n",
    "def Cov(xs, ys, meanx=None, meany=None):\n",
    "    xs = np.asarray(xs)\n",
    "    ys = np.asarray(ys)\n",
    "\n",
    "    if meanx is None:\n",
    "        meanx = np.mean(xs)\n",
    "    if meany is None:\n",
    "        meany = np.mean(ys)\n",
    "\n",
    "    cov = np.dot(xs-meanx, ys-meany) / len(xs)\n",
    "    return cov\n",
    "\n",
    "import pandas as pd\n",
    "\n",
    "#Spearman Correlation\n",
    "def SpearmanCorr(xs, ys):\n",
    "    xranks = pd.Series(xs).rank()\n",
    "    yranks = pd.Series(ys).rank()\n",
    "    return Corr(xranks, yranks)\n",
    "\n",
    "#Pearson's Correlation \n",
    "def Corr(xs, ys):\n",
    "    xs = np.asarray(xs)\n",
    "    ys = np.asarray(ys)\n",
    "\n",
    "    meanx, varx = thinkstats2.MeanVar(xs)\n",
    "    meany, vary = thinkstats2.MeanVar(ys)\n",
    "\n",
    "    corr = Cov(xs, ys, meanx, meany) / np.sqrt(varx * vary)\n",
    "    return corr"
   ]
  },
  {
   "cell_type": "code",
   "execution_count": 22,
   "metadata": {},
   "outputs": [
    {
     "data": {
      "text/plain": [
       "array([[ 1.        , -0.06051343],\n",
       "       [-0.06051343,  1.        ]])"
      ]
     },
     "execution_count": 22,
     "metadata": {},
     "output_type": "execute_result"
    }
   ],
   "source": [
    "#Correlation of full volume\n",
    "np.corrcoef(dfAirbnbSelected.price_am, dfAirbnbSelected.number_of_reviews_ltm)"
   ]
  },
  {
   "cell_type": "code",
   "execution_count": 23,
   "metadata": {},
   "outputs": [
    {
     "data": {
      "text/plain": [
       "-568.3257384317659"
      ]
     },
     "execution_count": 23,
     "metadata": {},
     "output_type": "execute_result"
    }
   ],
   "source": [
    "#Covariance of full volume\n",
    "Cov(dfAirbnbSelected.price_am, dfAirbnbSelected.number_of_reviews_ltm)"
   ]
  },
  {
   "cell_type": "code",
   "execution_count": 24,
   "metadata": {},
   "outputs": [
    {
     "data": {
      "text/plain": [
       "-0.019010774108232136"
      ]
     },
     "execution_count": 24,
     "metadata": {},
     "output_type": "execute_result"
    }
   ],
   "source": [
    "#Spearman Corr of full volume\n",
    "SpearmanCorr(dfAirbnbSelected.price_am, dfAirbnbSelected.number_of_reviews_ltm)"
   ]
  },
  {
   "cell_type": "code",
   "execution_count": 64,
   "metadata": {},
   "outputs": [],
   "source": [
    "#Scatter plot 2 comparing two variables \n",
    "def SampleRows2(dfAirbnbSelected, nrows, replace=False):\n",
    "    indices = np.random.choice(dfAirbnbSelected.index, nrows, replace=replace)\n",
    "    sampleAirbnb2 = dfAirbnbSelected.loc[indices]\n",
    "    return sampleAirbnb2"
   ]
  },
  {
   "cell_type": "code",
   "execution_count": 65,
   "metadata": {},
   "outputs": [],
   "source": [
    "sampleAirbnb2 = SampleRows2(dfAirbnbSelected, 5000)\n",
    "accommodates, availability_30=sampleAirbnb.accommodates, sampleAirbnb.availability_30"
   ]
  },
  {
   "cell_type": "code",
   "execution_count": 68,
   "metadata": {},
   "outputs": [],
   "source": [
    "accommodates = Jitter(accommodates)\n",
    "availability_30 = Jitter(availability_30)"
   ]
  },
  {
   "cell_type": "code",
   "execution_count": 76,
   "metadata": {},
   "outputs": [
    {
     "data": {
      "image/png": "[encoded data removed]",
      "text/plain": [
       "<Figure size 432x288 with 1 Axes>"
      ]
     },
     "metadata": {
      "needs_background": "light"
     },
     "output_type": "display_data"
    }
   ],
   "source": [
    "thinkplot.Scatter(accommodates, availability_30, alpha=0.2,s=20 )\n",
    "thinkplot.Config(xlabel='Number of Accommodates',\n",
    "                 ylabel='Availability Last 30 Days',\n",
    "                 axis=[0, 12, 0, 31],\n",
    "                 legend=False)"
   ]
  },
  {
   "cell_type": "code",
   "execution_count": 27,
   "metadata": {},
   "outputs": [
    {
     "name": "stdout",
     "output_type": "stream",
     "text": [
      "Correlation:  [[1.         0.03854838]\n",
      " [0.03854838 1.        ]]\n"
     ]
    }
   ],
   "source": [
    "#Correlation, covariance, Non-Linear Relationship\n",
    "#Correlation of full volume\n",
    "print('Correlation: ',np.corrcoef(dfAirbnbSelected.accommodates, dfAirbnbSelected.availability_30))\n"
   ]
  },
  {
   "cell_type": "code",
   "execution_count": 28,
   "metadata": {},
   "outputs": [
    {
     "name": "stdout",
     "output_type": "stream",
     "text": [
      "Covariance:  1.197590501049465\n"
     ]
    }
   ],
   "source": [
    "#Covariance of full volume\n",
    "print('Covariance: ',Cov(dfAirbnbSelected.accommodates, dfAirbnbSelected.availability_30))"
   ]
  },
  {
   "cell_type": "code",
   "execution_count": 29,
   "metadata": {},
   "outputs": [
    {
     "name": "stdout",
     "output_type": "stream",
     "text": [
      "Spearman Correlation:  0.002101257473645003\n"
     ]
    }
   ],
   "source": [
    "#Spearman Corr of full volume\n",
    "print('Spearman Correlation: ', SpearmanCorr(dfAirbnbSelected.accommodates, dfAirbnbSelected.availability_30))\n"
   ]
  },
  {
   "cell_type": "code",
   "execution_count": 23,
   "metadata": {},
   "outputs": [],
   "source": [
    "import seaborn as sns\n"
   ]
  },
  {
   "cell_type": "code",
   "execution_count": 13,
   "metadata": {},
   "outputs": [],
   "source": [
    "#Scatter plot of Price and location\n",
    "sampleAirbnb = SampleRows(dfAirbnbSelected, 5000)\n",
    "price_am, neighbourhood_cleansed=sampleAirbnb.price_am, sampleAirbnb.neighbourhood_cleansed\n"
   ]
  },
  {
   "cell_type": "code",
   "execution_count": 30,
   "metadata": {},
   "outputs": [
    {
     "data": {
      "text/plain": [
       "(0.0, 700.0)"
      ]
     },
     "execution_count": 30,
     "metadata": {},
     "output_type": "execute_result"
    },
    {
     "data": {
      "image/png": "[encoded data removed]",
      "text/plain": [
       "<Figure size 360x360 with 1 Axes>"
      ]
     },
     "metadata": {
      "needs_background": "light"
     },
     "output_type": "display_data"
    }
   ],
   "source": [
    "sns.catplot(x='price_am', y='neighbourhood_cleansed', kind=\"swarm\", data=sampleAirbnb)\n",
    "plt.ylim(0, 20)\n",
    "plt.xlim(0,700)"
   ]
  },
  {
   "cell_type": "code",
   "execution_count": 21,
   "metadata": {},
   "outputs": [
    {
     "data": {
      "image/png": "[encoded data removed]",
      "text/plain": [
       "<Figure size 432x288 with 1 Axes>"
      ]
     },
     "metadata": {
      "needs_background": "light"
     },
     "output_type": "display_data"
    }
   ],
   "source": [
    "thinkplot.Scatter(price_am, neighbourhood_cleansed, alpha=0.2,s=20 )\n",
    "thinkplot.Config(xlabel='Price',\n",
    "                 ylabel='Location',\n",
    "                 axis=[0, 500, 0, 20],\n",
    "                 legend=False)"
   ]
  },
  {
   "cell_type": "code",
   "execution_count": 63,
   "metadata": {},
   "outputs": [],
   "source": [
    "sampleAirbnb = SampleRows(dfAirbnbSelected, 5000)\n",
    "price_am, host_is_superhost=sampleAirbnb.price_am, sampleAirbnb.host_is_superhost\n"
   ]
  },
  {
   "cell_type": "code",
   "execution_count": 64,
   "metadata": {},
   "outputs": [
    {
     "data": {
      "image/png": "[encoded data removed]",
      "text/plain": [
       "<Figure size 432x288 with 1 Axes>"
      ]
     },
     "metadata": {
      "needs_background": "light"
     },
     "output_type": "display_data"
    }
   ],
   "source": [
    "thinkplot.Scatter(price_am, host_is_superhost, alpha=0.2,s=20 )\n",
    "thinkplot.Config(xlabel='Price',\n",
    "                 ylabel='Host Type',\n",
    "                 legend=True)"
   ]
  },
  {
   "cell_type": "code",
   "execution_count": 65,
   "metadata": {},
   "outputs": [],
   "source": [
    "#Hypothesis Test -Permutation test\n",
    "class DiffMeansPermute(thinkstats2.HypothesisTest):\n",
    "\n",
    "    def TestStatistic(self, data):\n",
    "        group1, group2 = data\n",
    "        test_stat = abs(group1.mean() - group2.mean())\n",
    "        return test_stat\n",
    "\n",
    "    def MakeModel(self):\n",
    "        group1, group2 = self.data\n",
    "        self.n, self.m = len(group1), len(group2)\n",
    "        self.pool = np.hstack((group1, group2))\n",
    "\n",
    "    def RunModel(self):\n",
    "        np.random.shuffle(self.pool)\n",
    "        data = self.pool[:self.n], self.pool[self.n:]\n",
    "        return data\n"
   ]
  },
  {
   "cell_type": "code",
   "execution_count": 67,
   "metadata": {},
   "outputs": [],
   "source": [
    "#Perform the Permutation test\n",
    "\n",
    "data = dfsuperhosts.number_of_reviews_ltm.values, dfregularhosts.number_of_reviews_ltm.values"
   ]
  },
  {
   "cell_type": "code",
   "execution_count": 68,
   "metadata": {},
   "outputs": [
    {
     "data": {
      "text/plain": [
       "0.0"
      ]
     },
     "execution_count": 68,
     "metadata": {},
     "output_type": "execute_result"
    }
   ],
   "source": [
    "#Run Permutation\n",
    "\n",
    "ht = DiffMeansPermute(data)\n",
    "pvalue = ht.PValue()\n",
    "pvalue"
   ]
  },
  {
   "cell_type": "code",
   "execution_count": null,
   "metadata": {},
   "outputs": [],
   "source": [
    "#With a pvalue of 0 it would indicate there is no relationship between the number of review and host is a \n",
    "#super host or regular host"
   ]
  },
  {
   "cell_type": "code",
   "execution_count": 35,
   "metadata": {},
   "outputs": [
    {
     "data": {
      "image/png": "[encoded data removed]",
      "text/plain": [
       "<Figure size 432x288 with 1 Axes>"
      ]
     },
     "metadata": {
      "needs_background": "light"
     },
     "output_type": "display_data"
    }
   ],
   "source": [
    "ht.PlotCdf()\n",
    "thinkplot.Config(xlabel='test statistic',\n",
    "                   ylabel='CDF')"
   ]
  },
  {
   "cell_type": "code",
   "execution_count": 74,
   "metadata": {},
   "outputs": [],
   "source": [
    "#Run a test between host and price\n",
    "data = dfsuperhosts.price_am.values, dfregularhosts.price_am.values"
   ]
  },
  {
   "cell_type": "code",
   "execution_count": 75,
   "metadata": {},
   "outputs": [
    {
     "data": {
      "text/plain": [
       "0.0"
      ]
     },
     "execution_count": 75,
     "metadata": {},
     "output_type": "execute_result"
    }
   ],
   "source": [
    "ht = DiffMeansPermute(data)\n",
    "pvalue = ht.PValue()\n",
    "pvalue"
   ]
  },
  {
   "cell_type": "code",
   "execution_count": 76,
   "metadata": {},
   "outputs": [
    {
     "data": {
      "image/png": "[encoded data removed]",
      "text/plain": [
       "<Figure size 432x288 with 1 Axes>"
      ]
     },
     "metadata": {
      "needs_background": "light"
     },
     "output_type": "display_data"
    }
   ],
   "source": [
    "ht.PlotCdf()\n",
    "thinkplot.Config(xlabel='test statistic',\n",
    "                   ylabel='CDF')"
   ]
  },
  {
   "cell_type": "code",
   "execution_count": 66,
   "metadata": {},
   "outputs": [],
   "source": [
    "class DiffMeansOneSided(DiffMeansPermute):\n",
    "\n",
    "    def TestStatistic(self, data):\n",
    "        group1, group2 = data\n",
    "        test_stat = group1.mean() - group2.mean()\n",
    "        return test_stat"
   ]
  },
  {
   "cell_type": "code",
   "execution_count": 77,
   "metadata": {},
   "outputs": [
    {
     "data": {
      "text/plain": [
       "1.0"
      ]
     },
     "execution_count": 77,
     "metadata": {},
     "output_type": "execute_result"
    }
   ],
   "source": [
    "#Difference is one sided\n",
    "ht = DiffMeansOneSided(data)\n",
    "pvalue = ht.PValue()\n",
    "pvalue"
   ]
  },
  {
   "cell_type": "code",
   "execution_count": 78,
   "metadata": {},
   "outputs": [],
   "source": [
    "class DiffStdPermute(DiffMeansPermute):\n",
    "\n",
    "    def TestStatistic(self, data):\n",
    "        group1, group2 = data\n",
    "        test_stat = group1.std() - group2.std()\n",
    "        return test_stat"
   ]
  },
  {
   "cell_type": "code",
   "execution_count": 79,
   "metadata": {},
   "outputs": [
    {
     "data": {
      "text/plain": [
       "1.0"
      ]
     },
     "execution_count": 79,
     "metadata": {},
     "output_type": "execute_result"
    }
   ],
   "source": [
    "#Testing the difference in standard deviation\n",
    "ht = DiffStdPermute(data)\n",
    "pvalue = ht.PValue()\n",
    "pvalue"
   ]
  },
  {
   "cell_type": "code",
   "execution_count": 80,
   "metadata": {},
   "outputs": [],
   "source": [
    "class CorrelationPermute(thinkstats2.HypothesisTest):\n",
    "\n",
    "    def TestStatistic(self, data):\n",
    "        xs, ys = data\n",
    "        test_stat = abs(thinkstats2.Corr(xs, ys))\n",
    "        return test_stat\n",
    "\n",
    "    def RunModel(self):\n",
    "        xs, ys = self.data\n",
    "        xs = np.random.permutation(xs)\n",
    "        return xs, ys"
   ]
  },
  {
   "cell_type": "code",
   "execution_count": 81,
   "metadata": {},
   "outputs": [
    {
     "data": {
      "text/plain": [
       "0.0"
      ]
     },
     "execution_count": 81,
     "metadata": {},
     "output_type": "execute_result"
    }
   ],
   "source": [
    "cleaned = dfAirbnbSelected.dropna(subset=['price_am', 'host_is_superhost'])\n",
    "data = cleaned.price_am.values, cleaned.host_is_superhost.values\n",
    "ht = CorrelationPermute(data)\n",
    "pvalue = ht.PValue()\n",
    "pvalue"
   ]
  },
  {
   "cell_type": "code",
   "execution_count": 49,
   "metadata": {},
   "outputs": [],
   "source": [
    "#Regression analysis\n",
    "import statsmodels.formula.api as smf\n",
    "\n"
   ]
  },
  {
   "cell_type": "code",
   "execution_count": 58,
   "metadata": {},
   "outputs": [
    {
     "data": {
      "text/html": [
       "<table class=\"simpletable\">\n",
       "<caption>OLS Regression Results</caption>\n",
       "<tr>\n",
       "  <th>Dep. Variable:</th>        <td>price_am</td>     <th>  R-squared:         </th>  <td>   0.005</td>  \n",
       "</tr>\n",
       "<tr>\n",
       "  <th>Model:</th>                   <td>OLS</td>       <th>  Adj. R-squared:    </th>  <td>   0.005</td>  \n",
       "</tr>\n",
       "<tr>\n",
       "  <th>Method:</th>             <td>Least Squares</td>  <th>  F-statistic:       </th>  <td>   78.42</td>  \n",
       "</tr>\n",
       "<tr>\n",
       "  <th>Date:</th>             <td>Fri, 20 Nov 2020</td> <th>  Prob (F-statistic):</th>  <td>1.07e-34</td>  \n",
       "</tr>\n",
       "<tr>\n",
       "  <th>Time:</th>                 <td>20:37:38</td>     <th>  Log-Likelihood:    </th> <td>-2.4671e+05</td>\n",
       "</tr>\n",
       "<tr>\n",
       "  <th>No. Observations:</th>      <td> 31530</td>      <th>  AIC:               </th>  <td>4.934e+05</td> \n",
       "</tr>\n",
       "<tr>\n",
       "  <th>Df Residuals:</th>          <td> 31527</td>      <th>  BIC:               </th>  <td>4.935e+05</td> \n",
       "</tr>\n",
       "<tr>\n",
       "  <th>Df Model:</th>              <td>     2</td>      <th>                     </th>      <td> </td>     \n",
       "</tr>\n",
       "<tr>\n",
       "  <th>Covariance Type:</th>      <td>nonrobust</td>    <th>                     </th>      <td> </td>     \n",
       "</tr>\n",
       "</table>\n",
       "<table class=\"simpletable\">\n",
       "<tr>\n",
       "          <td></td>             <th>coef</th>     <th>std err</th>      <th>t</th>      <th>P>|t|</th>  <th>[0.025</th>    <th>0.975]</th>  \n",
       "</tr>\n",
       "<tr>\n",
       "  <th>Intercept</th>         <td>  251.5333</td> <td>    4.430</td> <td>   56.786</td> <td> 0.000</td> <td>  242.851</td> <td>  260.215</td>\n",
       "</tr>\n",
       "<tr>\n",
       "  <th>number_of_reviews</th> <td>   -0.5837</td> <td>    0.054</td> <td>  -10.764</td> <td> 0.000</td> <td>   -0.690</td> <td>   -0.477</td>\n",
       "</tr>\n",
       "<tr>\n",
       "  <th>host_is_superhost</th> <td>  -22.4859</td> <td>    7.390</td> <td>   -3.043</td> <td> 0.002</td> <td>  -36.971</td> <td>   -8.001</td>\n",
       "</tr>\n",
       "</table>\n",
       "<table class=\"simpletable\">\n",
       "<tr>\n",
       "  <th>Omnibus:</th>       <td>58919.971</td> <th>  Durbin-Watson:     </th>   <td>   1.704</td>   \n",
       "</tr>\n",
       "<tr>\n",
       "  <th>Prob(Omnibus):</th>  <td> 0.000</td>   <th>  Jarque-Bera (JB):  </th> <td>127680971.003</td>\n",
       "</tr>\n",
       "<tr>\n",
       "  <th>Skew:</th>           <td>14.166</td>   <th>  Prob(JB):          </th>   <td>    0.00</td>   \n",
       "</tr>\n",
       "<tr>\n",
       "  <th>Kurtosis:</th>       <td>313.460</td>  <th>  Cond. No.          </th>   <td>    170.</td>   \n",
       "</tr>\n",
       "</table><br/><br/>Warnings:<br/>[1] Standard Errors assume that the covariance matrix of the errors is correctly specified."
      ],
      "text/plain": [
       "<class 'statsmodels.iolib.summary.Summary'>\n",
       "\"\"\"\n",
       "                            OLS Regression Results                            \n",
       "==============================================================================\n",
       "Dep. Variable:               price_am   R-squared:                       0.005\n",
       "Model:                            OLS   Adj. R-squared:                  0.005\n",
       "Method:                 Least Squares   F-statistic:                     78.42\n",
       "Date:                Fri, 20 Nov 2020   Prob (F-statistic):           1.07e-34\n",
       "Time:                        20:37:38   Log-Likelihood:            -2.4671e+05\n",
       "No. Observations:               31530   AIC:                         4.934e+05\n",
       "Df Residuals:                   31527   BIC:                         4.935e+05\n",
       "Df Model:                           2                                         \n",
       "Covariance Type:            nonrobust                                         \n",
       "=====================================================================================\n",
       "                        coef    std err          t      P>|t|      [0.025      0.975]\n",
       "-------------------------------------------------------------------------------------\n",
       "Intercept           251.5333      4.430     56.786      0.000     242.851     260.215\n",
       "number_of_reviews    -0.5837      0.054    -10.764      0.000      -0.690      -0.477\n",
       "host_is_superhost   -22.4859      7.390     -3.043      0.002     -36.971      -8.001\n",
       "==============================================================================\n",
       "Omnibus:                    58919.971   Durbin-Watson:                   1.704\n",
       "Prob(Omnibus):                  0.000   Jarque-Bera (JB):        127680971.003\n",
       "Skew:                          14.166   Prob(JB):                         0.00\n",
       "Kurtosis:                     313.460   Cond. No.                         170.\n",
       "==============================================================================\n",
       "\n",
       "Warnings:\n",
       "[1] Standard Errors assume that the covariance matrix of the errors is correctly specified.\n",
       "\"\"\""
      ]
     },
     "execution_count": 58,
     "metadata": {},
     "output_type": "execute_result"
    }
   ],
   "source": [
    "#How is being a super host and the number of reviews impacts the prices?\n",
    "\n",
    "formula = 'price_am ~ number_of_reviews + host_is_superhost'\n",
    "results = smf.ols(formula, data=dfAirbnbSelected).fit()\n",
    "results.summary()\n"
   ]
  },
  {
   "cell_type": "code",
   "execution_count": 61,
   "metadata": {},
   "outputs": [
    {
     "data": {
      "text/plain": [
       "(251.53329197381086, -0.5837329069350886)"
      ]
     },
     "execution_count": 61,
     "metadata": {},
     "output_type": "execute_result"
    }
   ],
   "source": [
    "inter = results.params['Intercept']\n",
    "slope = results.params['number_of_reviews']\n",
    "inter, slope"
   ]
  },
  {
   "cell_type": "code",
   "execution_count": 62,
   "metadata": {},
   "outputs": [
    {
     "data": {
      "text/plain": [
       "5.688580624221516e-27"
      ]
     },
     "execution_count": 62,
     "metadata": {},
     "output_type": "execute_result"
    }
   ],
   "source": [
    "slope_pvalue = results.pvalues['number_of_reviews']\n",
    "slope_pvalue"
   ]
  },
  {
   "cell_type": "code",
   "execution_count": 63,
   "metadata": {},
   "outputs": [
    {
     "data": {
      "text/plain": [
       "0.004949874635915008"
      ]
     },
     "execution_count": 63,
     "metadata": {},
     "output_type": "execute_result"
    }
   ],
   "source": [
    "results.rsquared"
   ]
  },
  {
   "cell_type": "code",
   "execution_count": 25,
   "metadata": {},
   "outputs": [
    {
     "data": {
      "text/html": [
       "<table class=\"simpletable\">\n",
       "<caption>OLS Regression Results</caption>\n",
       "<tr>\n",
       "  <th>Dep. Variable:</th>        <td>price_am</td>     <th>  R-squared:         </th>  <td>   0.006</td>  \n",
       "</tr>\n",
       "<tr>\n",
       "  <th>Model:</th>                   <td>OLS</td>       <th>  Adj. R-squared:    </th>  <td>   0.006</td>  \n",
       "</tr>\n",
       "<tr>\n",
       "  <th>Method:</th>             <td>Least Squares</td>  <th>  F-statistic:       </th>  <td>   51.77</td>  \n",
       "</tr>\n",
       "<tr>\n",
       "  <th>Date:</th>             <td>Sat, 14 Nov 2020</td> <th>  Prob (F-statistic):</th>  <td>2.40e-33</td>  \n",
       "</tr>\n",
       "<tr>\n",
       "  <th>Time:</th>                 <td>21:22:54</td>     <th>  Log-Likelihood:    </th> <td>-1.6955e+05</td>\n",
       "</tr>\n",
       "<tr>\n",
       "  <th>No. Observations:</th>      <td> 23869</td>      <th>  AIC:               </th>  <td>3.391e+05</td> \n",
       "</tr>\n",
       "<tr>\n",
       "  <th>Df Residuals:</th>          <td> 23865</td>      <th>  BIC:               </th>  <td>3.391e+05</td> \n",
       "</tr>\n",
       "<tr>\n",
       "  <th>Df Model:</th>              <td>     3</td>      <th>                     </th>      <td> </td>     \n",
       "</tr>\n",
       "<tr>\n",
       "  <th>Covariance Type:</th>      <td>nonrobust</td>    <th>                     </th>      <td> </td>     \n",
       "</tr>\n",
       "</table>\n",
       "<table class=\"simpletable\">\n",
       "<tr>\n",
       "             <td></td>               <th>coef</th>     <th>std err</th>      <th>t</th>      <th>P>|t|</th>  <th>[0.025</th>    <th>0.975]</th>  \n",
       "</tr>\n",
       "<tr>\n",
       "  <th>Intercept</th>              <td>  106.1794</td> <td>   21.112</td> <td>    5.029</td> <td> 0.000</td> <td>   64.799</td> <td>  147.560</td>\n",
       "</tr>\n",
       "<tr>\n",
       "  <th>host_is_superhost[T.t]</th> <td>    1.5575</td> <td>    3.995</td> <td>    0.390</td> <td> 0.697</td> <td>   -6.273</td> <td>    9.388</td>\n",
       "</tr>\n",
       "<tr>\n",
       "  <th>review_scores_rating</th>   <td>    4.4738</td> <td>    0.366</td> <td>   12.209</td> <td> 0.000</td> <td>    3.756</td> <td>    5.192</td>\n",
       "</tr>\n",
       "<tr>\n",
       "  <th>review_scores_value</th>    <td>  -37.6201</td> <td>    3.422</td> <td>  -10.995</td> <td> 0.000</td> <td>  -44.327</td> <td>  -30.913</td>\n",
       "</tr>\n",
       "</table>\n",
       "<table class=\"simpletable\">\n",
       "<tr>\n",
       "  <th>Omnibus:</th>       <td>39792.047</td> <th>  Durbin-Watson:     </th>   <td>   1.940</td>  \n",
       "</tr>\n",
       "<tr>\n",
       "  <th>Prob(Omnibus):</th>  <td> 0.000</td>   <th>  Jarque-Bera (JB):  </th> <td>50824017.150</td>\n",
       "</tr>\n",
       "<tr>\n",
       "  <th>Skew:</th>           <td>11.152</td>   <th>  Prob(JB):          </th>   <td>    0.00</td>  \n",
       "</tr>\n",
       "<tr>\n",
       "  <th>Kurtosis:</th>       <td>227.957</td>  <th>  Cond. No.          </th>   <td>1.06e+03</td>  \n",
       "</tr>\n",
       "</table><br/><br/>Warnings:<br/>[1] Standard Errors assume that the covariance matrix of the errors is correctly specified.<br/>[2] The condition number is large, 1.06e+03. This might indicate that there are<br/>strong multicollinearity or other numerical problems."
      ],
      "text/plain": [
       "<class 'statsmodels.iolib.summary.Summary'>\n",
       "\"\"\"\n",
       "                            OLS Regression Results                            \n",
       "==============================================================================\n",
       "Dep. Variable:               price_am   R-squared:                       0.006\n",
       "Model:                            OLS   Adj. R-squared:                  0.006\n",
       "Method:                 Least Squares   F-statistic:                     51.77\n",
       "Date:                Sat, 14 Nov 2020   Prob (F-statistic):           2.40e-33\n",
       "Time:                        21:22:54   Log-Likelihood:            -1.6955e+05\n",
       "No. Observations:               23869   AIC:                         3.391e+05\n",
       "Df Residuals:                   23865   BIC:                         3.391e+05\n",
       "Df Model:                           3                                         \n",
       "Covariance Type:            nonrobust                                         \n",
       "==========================================================================================\n",
       "                             coef    std err          t      P>|t|      [0.025      0.975]\n",
       "------------------------------------------------------------------------------------------\n",
       "Intercept                106.1794     21.112      5.029      0.000      64.799     147.560\n",
       "host_is_superhost[T.t]     1.5575      3.995      0.390      0.697      -6.273       9.388\n",
       "review_scores_rating       4.4738      0.366     12.209      0.000       3.756       5.192\n",
       "review_scores_value      -37.6201      3.422    -10.995      0.000     -44.327     -30.913\n",
       "==============================================================================\n",
       "Omnibus:                    39792.047   Durbin-Watson:                   1.940\n",
       "Prob(Omnibus):                  0.000   Jarque-Bera (JB):         50824017.150\n",
       "Skew:                          11.152   Prob(JB):                         0.00\n",
       "Kurtosis:                     227.957   Cond. No.                     1.06e+03\n",
       "==============================================================================\n",
       "\n",
       "Warnings:\n",
       "[1] Standard Errors assume that the covariance matrix of the errors is correctly specified.\n",
       "[2] The condition number is large, 1.06e+03. This might indicate that there are\n",
       "strong multicollinearity or other numerical problems.\n",
       "\"\"\""
      ]
     },
     "execution_count": 25,
     "metadata": {},
     "output_type": "execute_result"
    }
   ],
   "source": [
    "#Are prices impacted by being a super host having good review scores and review score values.\n",
    "formula = 'price_am ~ host_is_superhost + review_scores_rating + review_scores_value'\n",
    "results = smf.ols(formula, data=dfAirbnbSelected).fit()\n",
    "results.summary()\n"
   ]
  },
  {
   "cell_type": "code",
   "execution_count": 45,
   "metadata": {},
   "outputs": [],
   "source": [
    "#Convert string for host since and last scraped to get Host experience. \n",
    "#Aka how long has the host been a Airbnb host member\n",
    "\n",
    "dfAirbnbSelected.host_since = pd.to_datetime(dfAirbnbSelected.host_since)\n",
    "dfAirbnbSelected.last_scraped = pd.to_datetime(dfAirbnbSelected.last_scraped)\n"
   ]
  },
  {
   "cell_type": "code",
   "execution_count": 46,
   "metadata": {},
   "outputs": [],
   "source": [
    "dfAirbnbSelected[['host_since','last_scraped']]\n",
    "dfAirbnbSelected['host_experience_days'] = (dfAirbnbSelected['last_scraped'] - dfAirbnbSelected['host_since']).dt.days\n"
   ]
  },
  {
   "cell_type": "code",
   "execution_count": 47,
   "metadata": {},
   "outputs": [
    {
     "data": {
      "text/html": [
       "<div>\n",
       "<style scoped>\n",
       "    .dataframe tbody tr th:only-of-type {\n",
       "        vertical-align: middle;\n",
       "    }\n",
       "\n",
       "    .dataframe tbody tr th {\n",
       "        vertical-align: top;\n",
       "    }\n",
       "\n",
       "    .dataframe thead th {\n",
       "        text-align: right;\n",
       "    }\n",
       "</style>\n",
       "<table border=\"1\" class=\"dataframe\">\n",
       "  <thead>\n",
       "    <tr style=\"text-align: right;\">\n",
       "      <th></th>\n",
       "      <th>host_experience_days</th>\n",
       "      <th>host_since</th>\n",
       "      <th>last_scraped</th>\n",
       "    </tr>\n",
       "  </thead>\n",
       "  <tbody>\n",
       "    <tr>\n",
       "      <th>0</th>\n",
       "      <td>4459.0</td>\n",
       "      <td>2008-06-27</td>\n",
       "      <td>2020-09-11</td>\n",
       "    </tr>\n",
       "    <tr>\n",
       "      <th>1</th>\n",
       "      <td>4446.0</td>\n",
       "      <td>2008-07-11</td>\n",
       "      <td>2020-09-12</td>\n",
       "    </tr>\n",
       "    <tr>\n",
       "      <th>2</th>\n",
       "      <td>4377.0</td>\n",
       "      <td>2008-09-16</td>\n",
       "      <td>2020-09-10</td>\n",
       "    </tr>\n",
       "    <tr>\n",
       "      <th>3</th>\n",
       "      <td>4376.0</td>\n",
       "      <td>2008-09-17</td>\n",
       "      <td>2020-09-10</td>\n",
       "    </tr>\n",
       "    <tr>\n",
       "      <th>4</th>\n",
       "      <td>4368.0</td>\n",
       "      <td>2008-09-25</td>\n",
       "      <td>2020-09-10</td>\n",
       "    </tr>\n",
       "    <tr>\n",
       "      <th>...</th>\n",
       "      <td>...</td>\n",
       "      <td>...</td>\n",
       "      <td>...</td>\n",
       "    </tr>\n",
       "    <tr>\n",
       "      <th>31531</th>\n",
       "      <td>779.0</td>\n",
       "      <td>2018-07-25</td>\n",
       "      <td>2020-09-11</td>\n",
       "    </tr>\n",
       "    <tr>\n",
       "      <th>31532</th>\n",
       "      <td>296.0</td>\n",
       "      <td>2019-11-20</td>\n",
       "      <td>2020-09-11</td>\n",
       "    </tr>\n",
       "    <tr>\n",
       "      <th>31533</th>\n",
       "      <td>59.0</td>\n",
       "      <td>2020-07-14</td>\n",
       "      <td>2020-09-11</td>\n",
       "    </tr>\n",
       "    <tr>\n",
       "      <th>31534</th>\n",
       "      <td>505.0</td>\n",
       "      <td>2019-04-25</td>\n",
       "      <td>2020-09-11</td>\n",
       "    </tr>\n",
       "    <tr>\n",
       "      <th>31535</th>\n",
       "      <td>1955.0</td>\n",
       "      <td>2015-05-05</td>\n",
       "      <td>2020-09-10</td>\n",
       "    </tr>\n",
       "  </tbody>\n",
       "</table>\n",
       "<p>31536 rows × 3 columns</p>\n",
       "</div>"
      ],
      "text/plain": [
       "       host_experience_days host_since last_scraped\n",
       "0                    4459.0 2008-06-27   2020-09-11\n",
       "1                    4446.0 2008-07-11   2020-09-12\n",
       "2                    4377.0 2008-09-16   2020-09-10\n",
       "3                    4376.0 2008-09-17   2020-09-10\n",
       "4                    4368.0 2008-09-25   2020-09-10\n",
       "...                     ...        ...          ...\n",
       "31531                 779.0 2018-07-25   2020-09-11\n",
       "31532                 296.0 2019-11-20   2020-09-11\n",
       "31533                  59.0 2020-07-14   2020-09-11\n",
       "31534                 505.0 2019-04-25   2020-09-11\n",
       "31535                1955.0 2015-05-05   2020-09-10\n",
       "\n",
       "[31536 rows x 3 columns]"
      ]
     },
     "execution_count": 47,
     "metadata": {},
     "output_type": "execute_result"
    }
   ],
   "source": [
    "dfAirbnbSelected[['host_experience_days','host_since','last_scraped']]\n"
   ]
  },
  {
   "cell_type": "code",
   "execution_count": 51,
   "metadata": {},
   "outputs": [
    {
     "data": {
      "text/html": [
       "<table class=\"simpletable\">\n",
       "<caption>OLS Regression Results</caption>\n",
       "<tr>\n",
       "  <th>Dep. Variable:</th>        <td>price_am</td>     <th>  R-squared:         </th>  <td>   0.000</td>  \n",
       "</tr>\n",
       "<tr>\n",
       "  <th>Model:</th>                   <td>OLS</td>       <th>  Adj. R-squared:    </th>  <td>   0.000</td>  \n",
       "</tr>\n",
       "<tr>\n",
       "  <th>Method:</th>             <td>Least Squares</td>  <th>  F-statistic:       </th>  <td>   1.551</td>  \n",
       "</tr>\n",
       "<tr>\n",
       "  <th>Date:</th>             <td>Fri, 20 Nov 2020</td> <th>  Prob (F-statistic):</th>   <td> 0.213</td>   \n",
       "</tr>\n",
       "<tr>\n",
       "  <th>Time:</th>                 <td>20:14:37</td>     <th>  Log-Likelihood:    </th> <td>-2.4679e+05</td>\n",
       "</tr>\n",
       "<tr>\n",
       "  <th>No. Observations:</th>      <td> 31530</td>      <th>  AIC:               </th>  <td>4.936e+05</td> \n",
       "</tr>\n",
       "<tr>\n",
       "  <th>Df Residuals:</th>          <td> 31528</td>      <th>  BIC:               </th>  <td>4.936e+05</td> \n",
       "</tr>\n",
       "<tr>\n",
       "  <th>Df Model:</th>              <td>     1</td>      <th>                     </th>      <td> </td>     \n",
       "</tr>\n",
       "<tr>\n",
       "  <th>Covariance Type:</th>      <td>nonrobust</td>    <th>                     </th>      <td> </td>     \n",
       "</tr>\n",
       "</table>\n",
       "<table class=\"simpletable\">\n",
       "<tr>\n",
       "            <td></td>              <th>coef</th>     <th>std err</th>      <th>t</th>      <th>P>|t|</th>  <th>[0.025</th>    <th>0.975]</th>  \n",
       "</tr>\n",
       "<tr>\n",
       "  <th>Intercept</th>            <td>  230.7114</td> <td>    7.289</td> <td>   31.653</td> <td> 0.000</td> <td>  216.425</td> <td>  244.998</td>\n",
       "</tr>\n",
       "<tr>\n",
       "  <th>host_experience_days</th> <td>   -0.0048</td> <td>    0.004</td> <td>   -1.245</td> <td> 0.213</td> <td>   -0.012</td> <td>    0.003</td>\n",
       "</tr>\n",
       "</table>\n",
       "<table class=\"simpletable\">\n",
       "<tr>\n",
       "  <th>Omnibus:</th>       <td>58940.762</td> <th>  Durbin-Watson:     </th>   <td>   1.702</td>   \n",
       "</tr>\n",
       "<tr>\n",
       "  <th>Prob(Omnibus):</th>  <td> 0.000</td>   <th>  Jarque-Bera (JB):  </th> <td>127227807.258</td>\n",
       "</tr>\n",
       "<tr>\n",
       "  <th>Skew:</th>           <td>14.180</td>   <th>  Prob(JB):          </th>   <td>    0.00</td>   \n",
       "</tr>\n",
       "<tr>\n",
       "  <th>Kurtosis:</th>       <td>312.902</td>  <th>  Cond. No.          </th>   <td>4.07e+03</td>   \n",
       "</tr>\n",
       "</table><br/><br/>Warnings:<br/>[1] Standard Errors assume that the covariance matrix of the errors is correctly specified.<br/>[2] The condition number is large, 4.07e+03. This might indicate that there are<br/>strong multicollinearity or other numerical problems."
      ],
      "text/plain": [
       "<class 'statsmodels.iolib.summary.Summary'>\n",
       "\"\"\"\n",
       "                            OLS Regression Results                            \n",
       "==============================================================================\n",
       "Dep. Variable:               price_am   R-squared:                       0.000\n",
       "Model:                            OLS   Adj. R-squared:                  0.000\n",
       "Method:                 Least Squares   F-statistic:                     1.551\n",
       "Date:                Fri, 20 Nov 2020   Prob (F-statistic):              0.213\n",
       "Time:                        20:14:37   Log-Likelihood:            -2.4679e+05\n",
       "No. Observations:               31530   AIC:                         4.936e+05\n",
       "Df Residuals:                   31528   BIC:                         4.936e+05\n",
       "Df Model:                           1                                         \n",
       "Covariance Type:            nonrobust                                         \n",
       "========================================================================================\n",
       "                           coef    std err          t      P>|t|      [0.025      0.975]\n",
       "----------------------------------------------------------------------------------------\n",
       "Intercept              230.7114      7.289     31.653      0.000     216.425     244.998\n",
       "host_experience_days    -0.0048      0.004     -1.245      0.213      -0.012       0.003\n",
       "==============================================================================\n",
       "Omnibus:                    58940.762   Durbin-Watson:                   1.702\n",
       "Prob(Omnibus):                  0.000   Jarque-Bera (JB):        127227807.258\n",
       "Skew:                          14.180   Prob(JB):                         0.00\n",
       "Kurtosis:                     312.902   Cond. No.                     4.07e+03\n",
       "==============================================================================\n",
       "\n",
       "Warnings:\n",
       "[1] Standard Errors assume that the covariance matrix of the errors is correctly specified.\n",
       "[2] The condition number is large, 4.07e+03. This might indicate that there are\n",
       "strong multicollinearity or other numerical problems.\n",
       "\"\"\""
      ]
     },
     "execution_count": 51,
     "metadata": {},
     "output_type": "execute_result"
    }
   ],
   "source": [
    "#Does host experince impact price?\n",
    "formula = 'price_am ~ host_experience_days'\n",
    "results = smf.ols(formula, data=dfAirbnbSelected).fit()\n",
    "results.summary()"
   ]
  },
  {
   "cell_type": "code",
   "execution_count": 55,
   "metadata": {},
   "outputs": [
    {
     "data": {
      "text/plain": [
       "(230.71136028755896, -0.0047575313383367845)"
      ]
     },
     "execution_count": 55,
     "metadata": {},
     "output_type": "execute_result"
    }
   ],
   "source": [
    "inter = results.params['Intercept']\n",
    "slope = results.params['host_experience_days']\n",
    "inter, slope"
   ]
  },
  {
   "cell_type": "code",
   "execution_count": 56,
   "metadata": {},
   "outputs": [
    {
     "data": {
      "text/plain": [
       "0.21301352847260646"
      ]
     },
     "execution_count": 56,
     "metadata": {},
     "output_type": "execute_result"
    }
   ],
   "source": [
    "slope_pvalue = results.pvalues['host_experience_days']\n",
    "slope_pvalue"
   ]
  },
  {
   "cell_type": "code",
   "execution_count": 57,
   "metadata": {},
   "outputs": [
    {
     "data": {
      "text/plain": [
       "4.918842128232015e-05"
      ]
     },
     "execution_count": 57,
     "metadata": {},
     "output_type": "execute_result"
    }
   ],
   "source": [
    "results.rsquared"
   ]
  },
  {
   "cell_type": "code",
   "execution_count": 84,
   "metadata": {},
   "outputs": [
    {
     "data": {
      "text/html": [
       "<table class=\"simpletable\">\n",
       "<caption>OLS Regression Results</caption>\n",
       "<tr>\n",
       "  <th>Dep. Variable:</th>        <td>price_am</td>     <th>  R-squared:         </th>  <td>   0.166</td>  \n",
       "</tr>\n",
       "<tr>\n",
       "  <th>Model:</th>                   <td>OLS</td>       <th>  Adj. R-squared:    </th>  <td>   0.159</td>  \n",
       "</tr>\n",
       "<tr>\n",
       "  <th>Method:</th>             <td>Least Squares</td>  <th>  F-statistic:       </th>  <td>   23.73</td>  \n",
       "</tr>\n",
       "<tr>\n",
       "  <th>Date:</th>             <td>Thu, 19 Nov 2020</td> <th>  Prob (F-statistic):</th>   <td>  0.00</td>   \n",
       "</tr>\n",
       "<tr>\n",
       "  <th>Time:</th>                 <td>22:37:01</td>     <th>  Log-Likelihood:    </th> <td>-2.4398e+05</td>\n",
       "</tr>\n",
       "<tr>\n",
       "  <th>No. Observations:</th>      <td> 31536</td>      <th>  AIC:               </th>  <td>4.885e+05</td> \n",
       "</tr>\n",
       "<tr>\n",
       "  <th>Df Residuals:</th>          <td> 31273</td>      <th>  BIC:               </th>  <td>4.907e+05</td> \n",
       "</tr>\n",
       "<tr>\n",
       "  <th>Df Model:</th>              <td>   262</td>      <th>                     </th>      <td> </td>     \n",
       "</tr>\n",
       "<tr>\n",
       "  <th>Covariance Type:</th>      <td>nonrobust</td>    <th>                     </th>      <td> </td>     \n",
       "</tr>\n",
       "</table>\n",
       "<table class=\"simpletable\">\n",
       "<tr>\n",
       "                                 <td></td>                                    <th>coef</th>     <th>std err</th>      <th>t</th>      <th>P>|t|</th>  <th>[0.025</th>    <th>0.975]</th>  \n",
       "</tr>\n",
       "<tr>\n",
       "  <th>Intercept</th>                                                       <td>  139.0000</td> <td>  321.311</td> <td>    0.433</td> <td> 0.665</td> <td> -490.781</td> <td>  768.781</td>\n",
       "</tr>\n",
       "<tr>\n",
       "  <th>neighbourhood_cleansed[T.Adams-Normandie]</th>                       <td>  -55.1591</td> <td>  334.798</td> <td>   -0.165</td> <td> 0.869</td> <td> -711.376</td> <td>  601.058</td>\n",
       "</tr>\n",
       "<tr>\n",
       "  <th>neighbourhood_cleansed[T.Agoura Hills]</th>                          <td>   86.0263</td> <td>  333.753</td> <td>    0.258</td> <td> 0.797</td> <td> -568.143</td> <td>  740.195</td>\n",
       "</tr>\n",
       "<tr>\n",
       "  <th>neighbourhood_cleansed[T.Agua Dulce]</th>                            <td>   81.3471</td> <td>  354.067</td> <td>    0.230</td> <td> 0.818</td> <td> -612.638</td> <td>  775.332</td>\n",
       "</tr>\n",
       "<tr>\n",
       "  <th>neighbourhood_cleansed[T.Alhambra]</th>                              <td>  -38.8273</td> <td>  323.097</td> <td>   -0.120</td> <td> 0.904</td> <td> -672.111</td> <td>  594.456</td>\n",
       "</tr>\n",
       "<tr>\n",
       "  <th>neighbourhood_cleansed[T.Alondra Park]</th>                          <td>  -16.6429</td> <td>  354.067</td> <td>   -0.047</td> <td> 0.963</td> <td> -710.628</td> <td>  677.342</td>\n",
       "</tr>\n",
       "<tr>\n",
       "  <th>neighbourhood_cleansed[T.Altadena]</th>                              <td>   39.8513</td> <td>  323.436</td> <td>    0.123</td> <td> 0.902</td> <td> -594.096</td> <td>  673.799</td>\n",
       "</tr>\n",
       "<tr>\n",
       "  <th>neighbourhood_cleansed[T.Angeles Crest]</th>                         <td>   54.6667</td> <td>  454.402</td> <td>    0.120</td> <td> 0.904</td> <td> -835.979</td> <td>  945.312</td>\n",
       "</tr>\n",
       "<tr>\n",
       "  <th>neighbourhood_cleansed[T.Arcadia]</th>                               <td>  -15.2731</td> <td>  323.798</td> <td>   -0.047</td> <td> 0.962</td> <td> -649.930</td> <td>  619.384</td>\n",
       "</tr>\n",
       "<tr>\n",
       "  <th>neighbourhood_cleansed[T.Arleta]</th>                                <td>  -84.0000</td> <td>  393.523</td> <td>   -0.213</td> <td> 0.831</td> <td> -855.322</td> <td>  687.322</td>\n",
       "</tr>\n",
       "<tr>\n",
       "  <th>neighbourhood_cleansed[T.Arlington Heights]</th>                     <td>  -70.0247</td> <td>  325.439</td> <td>   -0.215</td> <td> 0.830</td> <td> -707.898</td> <td>  567.849</td>\n",
       "</tr>\n",
       "<tr>\n",
       "  <th>neighbourhood_cleansed[T.Artesia]</th>                               <td>  -39.3636</td> <td>  362.487</td> <td>   -0.109</td> <td> 0.914</td> <td> -749.853</td> <td>  671.126</td>\n",
       "</tr>\n",
       "<tr>\n",
       "  <th>neighbourhood_cleansed[T.Athens]</th>                                <td>  -44.6000</td> <td>  406.429</td> <td>   -0.110</td> <td> 0.913</td> <td> -841.218</td> <td>  752.018</td>\n",
       "</tr>\n",
       "<tr>\n",
       "  <th>neighbourhood_cleansed[T.Atwater Village]</th>                       <td>    6.3714</td> <td>  326.932</td> <td>    0.019</td> <td> 0.984</td> <td> -634.427</td> <td>  647.170</td>\n",
       "</tr>\n",
       "<tr>\n",
       "  <th>neighbourhood_cleansed[T.Avalon]</th>                                <td>  365.2659</td> <td>  324.466</td> <td>    1.126</td> <td> 0.260</td> <td> -270.700</td> <td> 1001.232</td>\n",
       "</tr>\n",
       "<tr>\n",
       "  <th>neighbourhood_cleansed[T.Avocado Heights]</th>                       <td>  -23.3636</td> <td>  362.487</td> <td>   -0.064</td> <td> 0.949</td> <td> -733.853</td> <td>  687.126</td>\n",
       "</tr>\n",
       "<tr>\n",
       "  <th>neighbourhood_cleansed[T.Azusa]</th>                                 <td>  -30.1083</td> <td>  328.755</td> <td>   -0.092</td> <td> 0.927</td> <td> -674.481</td> <td>  614.265</td>\n",
       "</tr>\n",
       "<tr>\n",
       "  <th>neighbourhood_cleansed[T.Baldwin Hills/Crenshaw]</th>                <td>  -34.8197</td> <td>  329.117</td> <td>   -0.106</td> <td> 0.916</td> <td> -679.902</td> <td>  610.262</td>\n",
       "</tr>\n",
       "<tr>\n",
       "  <th>neighbourhood_cleansed[T.Baldwin Park]</th>                          <td>  -56.3143</td> <td>  334.798</td> <td>   -0.168</td> <td> 0.866</td> <td> -712.532</td> <td>  599.903</td>\n",
       "</tr>\n",
       "<tr>\n",
       "  <th>neighbourhood_cleansed[T.Bel-Air]</th>                               <td> 2470.4658</td> <td>  330.809</td> <td>    7.468</td> <td> 0.000</td> <td> 1822.066</td> <td> 3118.865</td>\n",
       "</tr>\n",
       "<tr>\n",
       "  <th>neighbourhood_cleansed[T.Bell]</th>                                  <td>  -81.4275</td> <td>  425.054</td> <td>   -0.192</td> <td> 0.848</td> <td> -914.550</td> <td>  751.695</td>\n",
       "</tr>\n",
       "<tr>\n",
       "  <th>neighbourhood_cleansed[T.Bell Gardens]</th>                          <td>  -52.2500</td> <td>  425.054</td> <td>   -0.123</td> <td> 0.902</td> <td> -885.373</td> <td>  780.873</td>\n",
       "</tr>\n",
       "<tr>\n",
       "  <th>neighbourhood_cleansed[T.Bellflower]</th>                            <td>  -58.6364</td> <td>  335.598</td> <td>   -0.175</td> <td> 0.861</td> <td> -716.422</td> <td>  599.149</td>\n",
       "</tr>\n",
       "<tr>\n",
       "  <th>neighbourhood_cleansed[T.Beverly Crest]</th>                         <td> 1110.0992</td> <td>  324.969</td> <td>    3.416</td> <td> 0.001</td> <td>  473.147</td> <td> 1747.051</td>\n",
       "</tr>\n",
       "<tr>\n",
       "  <th>neighbourhood_cleansed[T.Beverly Grove]</th>                         <td>  149.1169</td> <td>  322.487</td> <td>    0.462</td> <td> 0.644</td> <td> -482.970</td> <td>  781.204</td>\n",
       "</tr>\n",
       "<tr>\n",
       "  <th>neighbourhood_cleansed[T.Beverly Hills]</th>                         <td>  707.3917</td> <td>  322.252</td> <td>    2.195</td> <td> 0.028</td> <td>   75.764</td> <td> 1339.019</td>\n",
       "</tr>\n",
       "<tr>\n",
       "  <th>neighbourhood_cleansed[T.Beverlywood]</th>                           <td>   38.3750</td> <td>  340.801</td> <td>    0.113</td> <td> 0.910</td> <td> -629.609</td> <td>  706.359</td>\n",
       "</tr>\n",
       "<tr>\n",
       "  <th>neighbourhood_cleansed[T.Boyle Heights]</th>                         <td>  -38.1558</td> <td>  327.510</td> <td>   -0.117</td> <td> 0.907</td> <td> -680.089</td> <td>  603.777</td>\n",
       "</tr>\n",
       "<tr>\n",
       "  <th>neighbourhood_cleansed[T.Bradbury]</th>                              <td>  -59.0000</td> <td>  508.037</td> <td>   -0.116</td> <td> 0.908</td> <td>-1054.772</td> <td>  936.772</td>\n",
       "</tr>\n",
       "<tr>\n",
       "  <th>neighbourhood_cleansed[T.Brentwood]</th>                             <td>  224.7973</td> <td>  324.101</td> <td>    0.694</td> <td> 0.488</td> <td> -410.453</td> <td>  860.047</td>\n",
       "</tr>\n",
       "<tr>\n",
       "  <th>neighbourhood_cleansed[T.Broadway-Manchester]</th>                   <td>  -56.7273</td> <td>  362.487</td> <td>   -0.156</td> <td> 0.876</td> <td> -767.217</td> <td>  653.762</td>\n",
       "</tr>\n",
       "<tr>\n",
       "  <th>neighbourhood_cleansed[T.Burbank]</th>                               <td>   -7.5955</td> <td>  322.733</td> <td>   -0.024</td> <td> 0.981</td> <td> -640.166</td> <td>  624.975</td>\n",
       "</tr>\n",
       "<tr>\n",
       "  <th>neighbourhood_cleansed[T.Calabasas]</th>                             <td>   44.3654</td> <td>  330.449</td> <td>    0.134</td> <td> 0.893</td> <td> -603.328</td> <td>  692.059</td>\n",
       "</tr>\n",
       "<tr>\n",
       "  <th>neighbourhood_cleansed[T.Canoga Park]</th>                           <td>  -37.1852</td> <td>  330.115</td> <td>   -0.113</td> <td> 0.910</td> <td> -684.224</td> <td>  609.854</td>\n",
       "</tr>\n",
       "<tr>\n",
       "  <th>neighbourhood_cleansed[T.Carson]</th>                                <td>  -67.2073</td> <td>  327.135</td> <td>   -0.205</td> <td> 0.837</td> <td> -708.406</td> <td>  573.991</td>\n",
       "</tr>\n",
       "<tr>\n",
       "  <th>neighbourhood_cleansed[T.Carthay]</th>                               <td>   45.9545</td> <td>  328.532</td> <td>    0.140</td> <td> 0.889</td> <td> -597.981</td> <td>  689.890</td>\n",
       "</tr>\n",
       "<tr>\n",
       "  <th>neighbourhood_cleansed[T.Castaic]</th>                               <td>  -14.8000</td> <td>  366.350</td> <td>   -0.040</td> <td> 0.968</td> <td> -732.861</td> <td>  703.261</td>\n",
       "</tr>\n",
       "<tr>\n",
       "  <th>neighbourhood_cleansed[T.Castaic Canyons]</th>                       <td>  102.2353</td> <td>  348.510</td> <td>    0.293</td> <td> 0.769</td> <td> -580.859</td> <td>  785.329</td>\n",
       "</tr>\n",
       "<tr>\n",
       "  <th>neighbourhood_cleansed[T.Central-Alameda]</th>                       <td>   54.8750</td> <td>  376.770</td> <td>    0.146</td> <td> 0.884</td> <td> -683.609</td> <td>  793.359</td>\n",
       "</tr>\n",
       "<tr>\n",
       "  <th>neighbourhood_cleansed[T.Century City]</th>                          <td>   64.3182</td> <td>  342.518</td> <td>    0.188</td> <td> 0.851</td> <td> -607.031</td> <td>  735.667</td>\n",
       "</tr>\n",
       "<tr>\n",
       "  <th>neighbourhood_cleansed[T.Cerritos]</th>                              <td>  -49.0628</td> <td>  340.043</td> <td>   -0.144</td> <td> 0.885</td> <td> -715.561</td> <td>  617.435</td>\n",
       "</tr>\n",
       "<tr>\n",
       "  <th>neighbourhood_cleansed[T.Charter Oak]</th>                           <td>  -88.6364</td> <td>  362.487</td> <td>   -0.245</td> <td> 0.807</td> <td> -799.126</td> <td>  621.853</td>\n",
       "</tr>\n",
       "<tr>\n",
       "  <th>neighbourhood_cleansed[T.Chatsworth]</th>                            <td>   24.6997</td> <td>  333.440</td> <td>    0.074</td> <td> 0.941</td> <td> -628.855</td> <td>  678.255</td>\n",
       "</tr>\n",
       "<tr>\n",
       "  <th>neighbourhood_cleansed[T.Chesterfield Square]</th>                   <td>  -51.7143</td> <td>  354.067</td> <td>   -0.146</td> <td> 0.884</td> <td> -745.700</td> <td>  642.271</td>\n",
       "</tr>\n",
       "<tr>\n",
       "  <th>neighbourhood_cleansed[T.Cheviot Hills]</th>                         <td>   71.7813</td> <td>  336.035</td> <td>    0.214</td> <td> 0.831</td> <td> -586.860</td> <td>  730.422</td>\n",
       "</tr>\n",
       "<tr>\n",
       "  <th>neighbourhood_cleansed[T.Chinatown]</th>                             <td>  -29.9912</td> <td>  331.000</td> <td>   -0.091</td> <td> 0.928</td> <td> -678.765</td> <td>  618.783</td>\n",
       "</tr>\n",
       "<tr>\n",
       "  <th>neighbourhood_cleansed[T.Citrus]</th>                                <td>  -93.2500</td> <td>  425.054</td> <td>   -0.219</td> <td> 0.826</td> <td> -926.373</td> <td>  739.873</td>\n",
       "</tr>\n",
       "<tr>\n",
       "  <th>neighbourhood_cleansed[T.Claremont]</th>                             <td>   27.4258</td> <td>  330.279</td> <td>    0.083</td> <td> 0.934</td> <td> -619.934</td> <td>  674.786</td>\n",
       "</tr>\n",
       "<tr>\n",
       "  <th>neighbourhood_cleansed[T.Commerce]</th>                              <td>  213.2500</td> <td>  425.054</td> <td>    0.502</td> <td> 0.616</td> <td> -619.873</td> <td> 1046.373</td>\n",
       "</tr>\n",
       "<tr>\n",
       "  <th>neighbourhood_cleansed[T.Compton]</th>                               <td>    0.4000</td> <td>  344.567</td> <td>    0.001</td> <td> 0.999</td> <td> -674.965</td> <td>  675.765</td>\n",
       "</tr>\n",
       "<tr>\n",
       "  <th>neighbourhood_cleansed[T.Covina]</th>                                <td>  -52.9167</td> <td>  331.199</td> <td>   -0.160</td> <td> 0.873</td> <td> -702.081</td> <td>  596.247</td>\n",
       "</tr>\n",
       "<tr>\n",
       "  <th>neighbourhood_cleansed[T.Cudahy]</th>                                <td> -125.0000</td> <td>  642.621</td> <td>   -0.195</td> <td> 0.846</td> <td>-1384.563</td> <td> 1134.563</td>\n",
       "</tr>\n",
       "<tr>\n",
       "  <th>neighbourhood_cleansed[T.Culver City]</th>                           <td>   22.6424</td> <td>  322.862</td> <td>    0.070</td> <td> 0.944</td> <td> -610.179</td> <td>  655.464</td>\n",
       "</tr>\n",
       "<tr>\n",
       "  <th>neighbourhood_cleansed[T.Cypress Park]</th>                          <td>  -48.5191</td> <td>  362.487</td> <td>   -0.134</td> <td> 0.894</td> <td> -759.008</td> <td>  661.970</td>\n",
       "</tr>\n",
       "<tr>\n",
       "  <th>neighbourhood_cleansed[T.Del Aire]</th>                              <td>  -23.2115</td> <td>  330.449</td> <td>   -0.070</td> <td> 0.944</td> <td> -670.905</td> <td>  624.482</td>\n",
       "</tr>\n",
       "<tr>\n",
       "  <th>neighbourhood_cleansed[T.Del Rey]</th>                               <td>    6.3025</td> <td>  323.484</td> <td>    0.019</td> <td> 0.984</td> <td> -627.739</td> <td>  640.344</td>\n",
       "</tr>\n",
       "<tr>\n",
       "  <th>neighbourhood_cleansed[T.Desert View Highlands]</th>                 <td>  -57.6667</td> <td>  454.402</td> <td>   -0.127</td> <td> 0.899</td> <td> -948.312</td> <td>  832.979</td>\n",
       "</tr>\n",
       "<tr>\n",
       "  <th>neighbourhood_cleansed[T.Diamond Bar]</th>                           <td>  -17.5330</td> <td>  324.366</td> <td>   -0.054</td> <td> 0.957</td> <td> -653.303</td> <td>  618.237</td>\n",
       "</tr>\n",
       "<tr>\n",
       "  <th>neighbourhood_cleansed[T.Downey]</th>                                <td>  -32.4746</td> <td>  329.378</td> <td>   -0.099</td> <td> 0.921</td> <td> -678.069</td> <td>  613.120</td>\n",
       "</tr>\n",
       "<tr>\n",
       "  <th>neighbourhood_cleansed[T.Downtown]</th>                              <td>   50.6890</td> <td>  321.744</td> <td>    0.158</td> <td> 0.875</td> <td> -579.943</td> <td>  681.321</td>\n",
       "</tr>\n",
       "<tr>\n",
       "  <th>neighbourhood_cleansed[T.Duarte]</th>                                <td>  -47.9091</td> <td>  342.518</td> <td>   -0.140</td> <td> 0.889</td> <td> -719.258</td> <td>  623.440</td>\n",
       "</tr>\n",
       "<tr>\n",
       "  <th>neighbourhood_cleansed[T.Eagle Rock]</th>                            <td>    5.3146</td> <td>  325.335</td> <td>    0.016</td> <td> 0.987</td> <td> -632.356</td> <td>  642.985</td>\n",
       "</tr>\n",
       "<tr>\n",
       "  <th>neighbourhood_cleansed[T.East Compton]</th>                          <td>  -53.5000</td> <td>  508.037</td> <td>   -0.105</td> <td> 0.916</td> <td>-1049.272</td> <td>  942.272</td>\n",
       "</tr>\n",
       "<tr>\n",
       "  <th>neighbourhood_cleansed[T.East Hollywood]</th>                        <td>  -47.7239</td> <td>  322.301</td> <td>   -0.148</td> <td> 0.882</td> <td> -679.446</td> <td>  583.998</td>\n",
       "</tr>\n",
       "<tr>\n",
       "  <th>neighbourhood_cleansed[T.East Los Angeles]</th>                      <td>  -39.0952</td> <td>  325.404</td> <td>   -0.120</td> <td> 0.904</td> <td> -676.900</td> <td>  598.709</td>\n",
       "</tr>\n",
       "<tr>\n",
       "  <th>neighbourhood_cleansed[T.East Pasadena]</th>                         <td>   25.4285</td> <td>  333.142</td> <td>    0.076</td> <td> 0.939</td> <td> -627.543</td> <td>  678.400</td>\n",
       "</tr>\n",
       "<tr>\n",
       "  <th>neighbourhood_cleansed[T.East San Gabriel]</th>                      <td>  -57.8392</td> <td>  327.280</td> <td>   -0.177</td> <td> 0.860</td> <td> -699.320</td> <td>  583.642</td>\n",
       "</tr>\n",
       "<tr>\n",
       "  <th>neighbourhood_cleansed[T.East Whittier]</th>                         <td>  -14.0000</td> <td>  508.037</td> <td>   -0.028</td> <td> 0.978</td> <td>-1009.772</td> <td>  981.772</td>\n",
       "</tr>\n",
       "<tr>\n",
       "  <th>neighbourhood_cleansed[T.Echo Park]</th>                             <td>  -12.6677</td> <td>  322.590</td> <td>   -0.039</td> <td> 0.969</td> <td> -644.957</td> <td>  619.621</td>\n",
       "</tr>\n",
       "<tr>\n",
       "  <th>neighbourhood_cleansed[T.El Monte]</th>                              <td>  -20.2909</td> <td>  325.663</td> <td>   -0.062</td> <td> 0.950</td> <td> -658.603</td> <td>  618.021</td>\n",
       "</tr>\n",
       "<tr>\n",
       "  <th>neighbourhood_cleansed[T.El Segundo]</th>                            <td>  -14.1865</td> <td>  324.640</td> <td>   -0.044</td> <td> 0.965</td> <td> -650.494</td> <td>  622.121</td>\n",
       "</tr>\n",
       "<tr>\n",
       "  <th>neighbourhood_cleansed[T.El Sereno]</th>                             <td>  -12.6719</td> <td>  330.115</td> <td>   -0.038</td> <td> 0.969</td> <td> -659.711</td> <td>  634.367</td>\n",
       "</tr>\n",
       "<tr>\n",
       "  <th>neighbourhood_cleansed[T.Elysian Park]</th>                          <td>  -22.1250</td> <td>  350.140</td> <td>   -0.063</td> <td> 0.950</td> <td> -708.413</td> <td>  664.163</td>\n",
       "</tr>\n",
       "<tr>\n",
       "  <th>neighbourhood_cleansed[T.Elysian Valley]</th>                        <td>  -41.0000</td> <td>  347.055</td> <td>   -0.118</td> <td> 0.906</td> <td> -721.242</td> <td>  639.242</td>\n",
       "</tr>\n",
       "<tr>\n",
       "  <th>neighbourhood_cleansed[T.Encino]</th>                                <td>  351.2563</td> <td>  325.113</td> <td>    1.080</td> <td> 0.280</td> <td> -285.978</td> <td>  988.491</td>\n",
       "</tr>\n",
       "<tr>\n",
       "  <th>neighbourhood_cleansed[T.Exposition Park]</th>                       <td>  -11.1877</td> <td>  325.868</td> <td>   -0.034</td> <td> 0.973</td> <td> -649.903</td> <td>  627.527</td>\n",
       "</tr>\n",
       "<tr>\n",
       "  <th>neighbourhood_cleansed[T.Fairfax]</th>                               <td>  129.1552</td> <td>  323.296</td> <td>    0.399</td> <td> 0.690</td> <td> -504.518</td> <td>  762.828</td>\n",
       "</tr>\n",
       "<tr>\n",
       "  <th>neighbourhood_cleansed[T.Florence]</th>                              <td>   25.0000</td> <td>  425.054</td> <td>    0.059</td> <td> 0.953</td> <td> -808.123</td> <td>  858.123</td>\n",
       "</tr>\n",
       "<tr>\n",
       "  <th>neighbourhood_cleansed[T.Florence-Firestone]</th>                    <td>  500.2222</td> <td>  347.055</td> <td>    1.441</td> <td> 0.150</td> <td> -180.019</td> <td> 1180.464</td>\n",
       "</tr>\n",
       "<tr>\n",
       "  <th>neighbourhood_cleansed[T.Gardena]</th>                               <td>  -51.2483</td> <td>  325.956</td> <td>   -0.157</td> <td> 0.875</td> <td> -690.135</td> <td>  587.639</td>\n",
       "</tr>\n",
       "<tr>\n",
       "  <th>neighbourhood_cleansed[T.Glassell Park]</th>                         <td>  -30.6111</td> <td>  327.936</td> <td>   -0.093</td> <td> 0.926</td> <td> -673.379</td> <td>  612.157</td>\n",
       "</tr>\n",
       "<tr>\n",
       "  <th>neighbourhood_cleansed[T.Glendale]</th>                              <td>   15.1907</td> <td>  322.170</td> <td>    0.047</td> <td> 0.962</td> <td> -616.275</td> <td>  646.657</td>\n",
       "</tr>\n",
       "<tr>\n",
       "  <th>neighbourhood_cleansed[T.Glendora]</th>                              <td>   -7.7833</td> <td>  329.245</td> <td>   -0.024</td> <td> 0.981</td> <td> -653.117</td> <td>  637.551</td>\n",
       "</tr>\n",
       "<tr>\n",
       "  <th>neighbourhood_cleansed[T.Gramercy Park]</th>                         <td>  122.8571</td> <td>  354.067</td> <td>    0.347</td> <td> 0.729</td> <td> -571.128</td> <td>  816.842</td>\n",
       "</tr>\n",
       "<tr>\n",
       "  <th>neighbourhood_cleansed[T.Granada Hills]</th>                         <td>   30.1842</td> <td>  333.753</td> <td>    0.090</td> <td> 0.928</td> <td> -623.985</td> <td>  684.353</td>\n",
       "</tr>\n",
       "<tr>\n",
       "  <th>neighbourhood_cleansed[T.Green Meadows]</th>                         <td> -112.8947</td> <td>  333.753</td> <td>   -0.338</td> <td> 0.735</td> <td> -767.064</td> <td>  541.274</td>\n",
       "</tr>\n",
       "<tr>\n",
       "  <th>neighbourhood_cleansed[T.Green Valley]</th>                          <td>   54.9844</td> <td>  371.017</td> <td>    0.148</td> <td> 0.882</td> <td> -672.225</td> <td>  782.193</td>\n",
       "</tr>\n",
       "<tr>\n",
       "  <th>neighbourhood_cleansed[T.Griffith Park]</th>                         <td> -113.1594</td> <td>  348.510</td> <td>   -0.325</td> <td> 0.745</td> <td> -796.253</td> <td>  569.934</td>\n",
       "</tr>\n",
       "<tr>\n",
       "  <th>neighbourhood_cleansed[T.Hacienda Heights]</th>                      <td>  -33.5067</td> <td>  323.312</td> <td>   -0.104</td> <td> 0.917</td> <td> -667.212</td> <td>  600.199</td>\n",
       "</tr>\n",
       "<tr>\n",
       "  <th>neighbourhood_cleansed[T.Hancock Park]</th>                          <td>  100.0247</td> <td>  327.207</td> <td>    0.306</td> <td> 0.760</td> <td> -541.313</td> <td>  741.363</td>\n",
       "</tr>\n",
       "<tr>\n",
       "  <th>neighbourhood_cleansed[T.Harbor City]</th>                           <td>   41.1111</td> <td>  338.691</td> <td>    0.121</td> <td> 0.903</td> <td> -622.737</td> <td>  704.959</td>\n",
       "</tr>\n",
       "<tr>\n",
       "  <th>neighbourhood_cleansed[T.Harbor Gateway]</th>                        <td>  -47.6857</td> <td>  334.798</td> <td>   -0.142</td> <td> 0.887</td> <td> -703.903</td> <td>  608.532</td>\n",
       "</tr>\n",
       "<tr>\n",
       "  <th>neighbourhood_cleansed[T.Harvard Heights]</th>                       <td>  -65.4949</td> <td>  326.998</td> <td>   -0.200</td> <td> 0.841</td> <td> -706.424</td> <td>  575.434</td>\n",
       "</tr>\n",
       "<tr>\n",
       "  <th>neighbourhood_cleansed[T.Harvard Park]</th>                          <td>  -78.0725</td> <td>  425.054</td> <td>   -0.184</td> <td> 0.854</td> <td> -911.195</td> <td>  755.050</td>\n",
       "</tr>\n",
       "<tr>\n",
       "  <th>neighbourhood_cleansed[T.Hasley Canyon]</th>                         <td>  -26.5000</td> <td>  508.037</td> <td>   -0.052</td> <td> 0.958</td> <td>-1022.272</td> <td>  969.272</td>\n",
       "</tr>\n",
       "<tr>\n",
       "  <th>neighbourhood_cleansed[T.Hawaiian Gardens]</th>                      <td>  -54.0000</td> <td>  642.621</td> <td>   -0.084</td> <td> 0.933</td> <td>-1313.563</td> <td> 1205.563</td>\n",
       "</tr>\n",
       "<tr>\n",
       "  <th>neighbourhood_cleansed[T.Hawthorne]</th>                             <td>  -34.7116</td> <td>  324.328</td> <td>   -0.107</td> <td> 0.915</td> <td> -670.407</td> <td>  600.983</td>\n",
       "</tr>\n",
       "<tr>\n",
       "  <th>neighbourhood_cleansed[T.Hermosa Beach]</th>                         <td>  160.8028</td> <td>  323.736</td> <td>    0.497</td> <td> 0.619</td> <td> -473.732</td> <td>  795.337</td>\n",
       "</tr>\n",
       "<tr>\n",
       "  <th>neighbourhood_cleansed[T.Highland Park]</th>                         <td>  -25.1634</td> <td>  324.309</td> <td>   -0.078</td> <td> 0.938</td> <td> -660.822</td> <td>  610.495</td>\n",
       "</tr>\n",
       "<tr>\n",
       "  <th>neighbourhood_cleansed[T.Historic South-Central]</th>                <td>  -66.6667</td> <td>  328.872</td> <td>   -0.203</td> <td> 0.839</td> <td> -711.269</td> <td>  577.935</td>\n",
       "</tr>\n",
       "<tr>\n",
       "  <th>neighbourhood_cleansed[T.Hollywood]</th>                             <td>   12.1177</td> <td>  321.626</td> <td>    0.038</td> <td> 0.970</td> <td> -618.283</td> <td>  642.518</td>\n",
       "</tr>\n",
       "<tr>\n",
       "  <th>neighbourhood_cleansed[T.Hollywood Hills]</th>                       <td>  163.5847</td> <td>  321.978</td> <td>    0.508</td> <td> 0.611</td> <td> -467.506</td> <td>  794.675</td>\n",
       "</tr>\n",
       "<tr>\n",
       "  <th>neighbourhood_cleansed[T.Hollywood Hills West]</th>                  <td>  761.5374</td> <td>  322.337</td> <td>    2.363</td> <td> 0.018</td> <td>  129.745</td> <td> 1393.330</td>\n",
       "</tr>\n",
       "<tr>\n",
       "  <th>neighbourhood_cleansed[T.Huntington Park]</th>                       <td>  -55.3333</td> <td>  393.523</td> <td>   -0.141</td> <td> 0.888</td> <td> -826.655</td> <td>  715.988</td>\n",
       "</tr>\n",
       "<tr>\n",
       "  <th>neighbourhood_cleansed[T.Hyde Park]</th>                             <td>  -38.2016</td> <td>  329.805</td> <td>   -0.116</td> <td> 0.908</td> <td> -684.632</td> <td>  608.229</td>\n",
       "</tr>\n",
       "<tr>\n",
       "  <th>neighbourhood_cleansed[T.Industry]</th>                              <td>  -30.5378</td> <td>  330.626</td> <td>   -0.092</td> <td> 0.926</td> <td> -678.578</td> <td>  617.502</td>\n",
       "</tr>\n",
       "<tr>\n",
       "  <th>neighbourhood_cleansed[T.Inglewood]</th>                             <td>  -20.8395</td> <td>  322.493</td> <td>   -0.065</td> <td> 0.948</td> <td> -652.938</td> <td>  611.259</td>\n",
       "</tr>\n",
       "<tr>\n",
       "  <th>neighbourhood_cleansed[T.Irwindale]</th>                             <td>  -82.6000</td> <td>  406.429</td> <td>   -0.203</td> <td> 0.839</td> <td> -879.218</td> <td>  714.018</td>\n",
       "</tr>\n",
       "<tr>\n",
       "  <th>neighbourhood_cleansed[T.Jefferson Park]</th>                        <td>  -29.0422</td> <td>  330.115</td> <td>   -0.088</td> <td> 0.930</td> <td> -676.081</td> <td>  617.997</td>\n",
       "</tr>\n",
       "<tr>\n",
       "  <th>neighbourhood_cleansed[T.Koreatown]</th>                             <td>  -10.5070</td> <td>  322.315</td> <td>   -0.033</td> <td> 0.974</td> <td> -642.257</td> <td>  621.244</td>\n",
       "</tr>\n",
       "<tr>\n",
       "  <th>neighbourhood_cleansed[T.La Canada Flintridge]</th>                  <td>  133.4051</td> <td>  331.407</td> <td>    0.403</td> <td> 0.687</td> <td> -516.165</td> <td>  782.975</td>\n",
       "</tr>\n",
       "<tr>\n",
       "  <th>neighbourhood_cleansed[T.La Crescenta-Montrose]</th>                 <td>  -12.8750</td> <td>  340.801</td> <td>   -0.038</td> <td> 0.970</td> <td> -680.859</td> <td>  655.109</td>\n",
       "</tr>\n",
       "<tr>\n",
       "  <th>neighbourhood_cleansed[T.La Habra Heights]</th>                      <td>    0.5294</td> <td>  348.510</td> <td>    0.002</td> <td> 0.999</td> <td> -682.564</td> <td>  683.623</td>\n",
       "</tr>\n",
       "<tr>\n",
       "  <th>neighbourhood_cleansed[T.La Mirada]</th>                             <td>  -84.3967</td> <td>  371.017</td> <td>   -0.227</td> <td> 0.820</td> <td> -811.606</td> <td>  642.812</td>\n",
       "</tr>\n",
       "<tr>\n",
       "  <th>neighbourhood_cleansed[T.La Puente]</th>                             <td>  -40.5614</td> <td>  354.067</td> <td>   -0.115</td> <td> 0.909</td> <td> -734.547</td> <td>  653.424</td>\n",
       "</tr>\n",
       "<tr>\n",
       "  <th>neighbourhood_cleansed[T.La Verne]</th>                              <td>  -42.4731</td> <td>  350.140</td> <td>   -0.121</td> <td> 0.903</td> <td> -728.762</td> <td>  643.815</td>\n",
       "</tr>\n",
       "<tr>\n",
       "  <th>neighbourhood_cleansed[T.Ladera Heights]</th>                        <td>   69.4106</td> <td>  331.199</td> <td>    0.210</td> <td> 0.834</td> <td> -579.753</td> <td>  718.574</td>\n",
       "</tr>\n",
       "<tr>\n",
       "  <th>neighbourhood_cleansed[T.Lake Balboa]</th>                           <td>    7.7196</td> <td>  328.322</td> <td>    0.024</td> <td> 0.981</td> <td> -635.804</td> <td>  651.243</td>\n",
       "</tr>\n",
       "<tr>\n",
       "  <th>neighbourhood_cleansed[T.Lake Hughes]</th>                           <td>  161.0000</td> <td>  642.621</td> <td>    0.251</td> <td> 0.802</td> <td>-1098.563</td> <td> 1420.563</td>\n",
       "</tr>\n",
       "<tr>\n",
       "  <th>neighbourhood_cleansed[T.Lake Los Angeles]</th>                      <td>   -6.1429</td> <td>  384.040</td> <td>   -0.016</td> <td> 0.987</td> <td> -758.876</td> <td>  746.590</td>\n",
       "</tr>\n",
       "<tr>\n",
       "  <th>neighbourhood_cleansed[T.Lake View Terrace]</th>                     <td>  -84.5000</td> <td>  508.037</td> <td>   -0.166</td> <td> 0.868</td> <td>-1080.272</td> <td>  911.272</td>\n",
       "</tr>\n",
       "<tr>\n",
       "  <th>neighbourhood_cleansed[T.Lakewood]</th>                              <td>   -9.8972</td> <td>  330.809</td> <td>   -0.030</td> <td> 0.976</td> <td> -658.297</td> <td>  638.502</td>\n",
       "</tr>\n",
       "<tr>\n",
       "  <th>neighbourhood_cleansed[T.Lancaster]</th>                             <td>  -79.4918</td> <td>  325.237</td> <td>   -0.244</td> <td> 0.807</td> <td> -716.969</td> <td>  557.986</td>\n",
       "</tr>\n",
       "<tr>\n",
       "  <th>neighbourhood_cleansed[T.Larchmont]</th>                             <td>   44.8405</td> <td>  327.759</td> <td>    0.137</td> <td> 0.891</td> <td> -597.580</td> <td>  687.261</td>\n",
       "</tr>\n",
       "<tr>\n",
       "  <th>neighbourhood_cleansed[T.Lawndale]</th>                              <td>  -67.1071</td> <td>  326.998</td> <td>   -0.205</td> <td> 0.837</td> <td> -708.036</td> <td>  573.822</td>\n",
       "</tr>\n",
       "<tr>\n",
       "  <th>neighbourhood_cleansed[T.Leimert Park]</th>                          <td>  -23.9642</td> <td>  333.142</td> <td>   -0.072</td> <td> 0.943</td> <td> -676.936</td> <td>  629.007</td>\n",
       "</tr>\n",
       "<tr>\n",
       "  <th>neighbourhood_cleansed[T.Lennox]</th>                                <td>  -55.2710</td> <td>  337.521</td> <td>   -0.164</td> <td> 0.870</td> <td> -716.826</td> <td>  606.284</td>\n",
       "</tr>\n",
       "<tr>\n",
       "  <th>neighbourhood_cleansed[T.Leona Valley]</th>                          <td>  -49.0000</td> <td>  642.621</td> <td>   -0.076</td> <td> 0.939</td> <td>-1308.563</td> <td> 1210.563</td>\n",
       "</tr>\n",
       "<tr>\n",
       "  <th>neighbourhood_cleansed[T.Lincoln Heights]</th>                       <td>  -37.9344</td> <td>  329.117</td> <td>   -0.115</td> <td> 0.908</td> <td> -683.016</td> <td>  607.148</td>\n",
       "</tr>\n",
       "<tr>\n",
       "  <th>neighbourhood_cleansed[T.Lomita]</th>                                <td>  -32.1200</td> <td>  340.043</td> <td>   -0.094</td> <td> 0.925</td> <td> -698.618</td> <td>  634.378</td>\n",
       "</tr>\n",
       "<tr>\n",
       "  <th>neighbourhood_cleansed[T.Long Beach]</th>                            <td>    7.7701</td> <td>  321.615</td> <td>    0.024</td> <td> 0.981</td> <td> -622.607</td> <td>  638.148</td>\n",
       "</tr>\n",
       "<tr>\n",
       "  <th>neighbourhood_cleansed[T.Lopez/Kagel Canyons]</th>                   <td>    8.5000</td> <td>  508.037</td> <td>    0.017</td> <td> 0.987</td> <td> -987.272</td> <td> 1004.272</td>\n",
       "</tr>\n",
       "<tr>\n",
       "  <th>neighbourhood_cleansed[T.Los Feliz]</th>                             <td>   64.3030</td> <td>  322.887</td> <td>    0.199</td> <td> 0.842</td> <td> -568.568</td> <td>  697.174</td>\n",
       "</tr>\n",
       "<tr>\n",
       "  <th>neighbourhood_cleansed[T.Lynwood]</th>                               <td>  -70.1285</td> <td>  344.567</td> <td>   -0.204</td> <td> 0.839</td> <td> -745.494</td> <td>  605.237</td>\n",
       "</tr>\n",
       "<tr>\n",
       "  <th>neighbourhood_cleansed[T.Malibu]</th>                                <td> 1499.7460</td> <td>  322.550</td> <td>    4.650</td> <td> 0.000</td> <td>  867.534</td> <td> 2131.957</td>\n",
       "</tr>\n",
       "<tr>\n",
       "  <th>neighbourhood_cleansed[T.Manchester Square]</th>                     <td>   -0.7140</td> <td>  351.978</td> <td>   -0.002</td> <td> 0.998</td> <td> -690.605</td> <td>  689.177</td>\n",
       "</tr>\n",
       "<tr>\n",
       "  <th>neighbourhood_cleansed[T.Manhattan Beach]</th>                       <td>  231.8163</td> <td>  323.760</td> <td>    0.716</td> <td> 0.474</td> <td> -402.767</td> <td>  866.399</td>\n",
       "</tr>\n",
       "<tr>\n",
       "  <th>neighbourhood_cleansed[T.Mar Vista]</th>                             <td>   48.6209</td> <td>  323.117</td> <td>    0.150</td> <td> 0.880</td> <td> -584.702</td> <td>  681.944</td>\n",
       "</tr>\n",
       "<tr>\n",
       "  <th>neighbourhood_cleansed[T.Marina del Rey]</th>                        <td>   92.0648</td> <td>  323.642</td> <td>    0.284</td> <td> 0.776</td> <td> -542.286</td> <td>  726.415</td>\n",
       "</tr>\n",
       "<tr>\n",
       "  <th>neighbourhood_cleansed[T.Mayflower Village]</th>                     <td>  -54.6871</td> <td>  343.495</td> <td>   -0.159</td> <td> 0.874</td> <td> -727.952</td> <td>  618.578</td>\n",
       "</tr>\n",
       "<tr>\n",
       "  <th>neighbourhood_cleansed[T.Maywood]</th>                               <td>  -83.6000</td> <td>  366.350</td> <td>   -0.228</td> <td> 0.819</td> <td> -801.661</td> <td>  634.461</td>\n",
       "</tr>\n",
       "<tr>\n",
       "  <th>neighbourhood_cleansed[T.Mid-City]</th>                              <td>  -18.7917</td> <td>  322.621</td> <td>   -0.058</td> <td> 0.954</td> <td> -651.142</td> <td>  613.558</td>\n",
       "</tr>\n",
       "<tr>\n",
       "  <th>neighbourhood_cleansed[T.Mid-Wilshire]</th>                          <td>   16.9531</td> <td>  322.287</td> <td>    0.053</td> <td> 0.958</td> <td> -614.742</td> <td>  648.648</td>\n",
       "</tr>\n",
       "<tr>\n",
       "  <th>neighbourhood_cleansed[T.Mission Hills]</th>                         <td>  -35.7143</td> <td>  384.040</td> <td>   -0.093</td> <td> 0.926</td> <td> -788.447</td> <td>  717.019</td>\n",
       "</tr>\n",
       "<tr>\n",
       "  <th>neighbourhood_cleansed[T.Monrovia]</th>                              <td>  -38.6248</td> <td>  326.564</td> <td>   -0.118</td> <td> 0.906</td> <td> -678.703</td> <td>  601.453</td>\n",
       "</tr>\n",
       "<tr>\n",
       "  <th>neighbourhood_cleansed[T.Montebello]</th>                            <td>  -33.2685</td> <td>  335.598</td> <td>   -0.099</td> <td> 0.921</td> <td> -691.054</td> <td>  624.517</td>\n",
       "</tr>\n",
       "<tr>\n",
       "  <th>neighbourhood_cleansed[T.Montecito Heights]</th>                     <td>  -13.6491</td> <td>  329.658</td> <td>   -0.041</td> <td> 0.967</td> <td> -659.791</td> <td>  632.493</td>\n",
       "</tr>\n",
       "<tr>\n",
       "  <th>neighbourhood_cleansed[T.Monterey Park]</th>                         <td>  -25.6545</td> <td>  323.418</td> <td>   -0.079</td> <td> 0.937</td> <td> -659.566</td> <td>  608.257</td>\n",
       "</tr>\n",
       "<tr>\n",
       "  <th>neighbourhood_cleansed[T.Mount Washington]</th>                      <td>    3.5367</td> <td>  326.398</td> <td>    0.011</td> <td> 0.991</td> <td> -636.216</td> <td>  643.289</td>\n",
       "</tr>\n",
       "<tr>\n",
       "  <th>neighbourhood_cleansed[T.North El Monte]</th>                        <td>  -40.6667</td> <td>  347.055</td> <td>   -0.117</td> <td> 0.907</td> <td> -720.908</td> <td>  639.575</td>\n",
       "</tr>\n",
       "<tr>\n",
       "  <th>neighbourhood_cleansed[T.North Hills]</th>                           <td>  -48.7949</td> <td>  333.440</td> <td>   -0.146</td> <td> 0.884</td> <td> -702.350</td> <td>  604.760</td>\n",
       "</tr>\n",
       "<tr>\n",
       "  <th>neighbourhood_cleansed[T.North Hollywood]</th>                       <td>    3.1294</td> <td>  322.628</td> <td>    0.010</td> <td> 0.992</td> <td> -629.235</td> <td>  635.494</td>\n",
       "</tr>\n",
       "<tr>\n",
       "  <th>neighbourhood_cleansed[T.North Whittier]</th>                        <td>  125.6667</td> <td>  454.402</td> <td>    0.277</td> <td> 0.782</td> <td> -764.979</td> <td> 1016.312</td>\n",
       "</tr>\n",
       "<tr>\n",
       "  <th>neighbourhood_cleansed[T.Northeast Antelope Valley]</th>             <td>   23.8889</td> <td>  371.017</td> <td>    0.064</td> <td> 0.949</td> <td> -703.320</td> <td>  751.098</td>\n",
       "</tr>\n",
       "<tr>\n",
       "  <th>neighbourhood_cleansed[T.Northridge]</th>                            <td>   16.6113</td> <td>  326.867</td> <td>    0.051</td> <td> 0.959</td> <td> -624.061</td> <td>  657.283</td>\n",
       "</tr>\n",
       "<tr>\n",
       "  <th>neighbourhood_cleansed[T.Northwest Antelope Valley]</th>             <td> -114.0000</td> <td>  642.621</td> <td>   -0.177</td> <td> 0.859</td> <td>-1373.563</td> <td> 1145.563</td>\n",
       "</tr>\n",
       "<tr>\n",
       "  <th>neighbourhood_cleansed[T.Northwest Palmdale]</th>                    <td>  -59.5455</td> <td>  362.487</td> <td>   -0.164</td> <td> 0.870</td> <td> -770.035</td> <td>  650.944</td>\n",
       "</tr>\n",
       "<tr>\n",
       "  <th>neighbourhood_cleansed[T.Norwalk]</th>                               <td>  -56.4419</td> <td>  330.115</td> <td>   -0.171</td> <td> 0.864</td> <td> -703.481</td> <td>  590.597</td>\n",
       "</tr>\n",
       "<tr>\n",
       "  <th>neighbourhood_cleansed[T.Pacific Palisades]</th>                     <td>  272.2000</td> <td>  324.617</td> <td>    0.839</td> <td> 0.402</td> <td> -364.063</td> <td>  908.463</td>\n",
       "</tr>\n",
       "<tr>\n",
       "  <th>neighbourhood_cleansed[T.Pacoima]</th>                               <td>  -48.8667</td> <td>  351.978</td> <td>   -0.139</td> <td> 0.890</td> <td> -738.758</td> <td>  641.024</td>\n",
       "</tr>\n",
       "<tr>\n",
       "  <th>neighbourhood_cleansed[T.Palmdale]</th>                              <td>  -76.1252</td> <td>  326.681</td> <td>   -0.233</td> <td> 0.816</td> <td> -716.433</td> <td>  564.183</td>\n",
       "</tr>\n",
       "<tr>\n",
       "  <th>neighbourhood_cleansed[T.Palms]</th>                                 <td>  -19.8973</td> <td>  323.455</td> <td>   -0.062</td> <td> 0.951</td> <td> -653.882</td> <td>  614.087</td>\n",
       "</tr>\n",
       "<tr>\n",
       "  <th>neighbourhood_cleansed[T.Palos Verdes Estates]</th>                  <td>  158.1315</td> <td>  356.462</td> <td>    0.444</td> <td> 0.657</td> <td> -540.548</td> <td>  856.811</td>\n",
       "</tr>\n",
       "<tr>\n",
       "  <th>neighbourhood_cleansed[T.Panorama City]</th>                         <td>  -58.5000</td> <td>  342.518</td> <td>   -0.171</td> <td> 0.864</td> <td> -729.849</td> <td>  612.849</td>\n",
       "</tr>\n",
       "<tr>\n",
       "  <th>neighbourhood_cleansed[T.Paramount]</th>                             <td>  -69.4000</td> <td>  366.350</td> <td>   -0.189</td> <td> 0.850</td> <td> -787.461</td> <td>  648.661</td>\n",
       "</tr>\n",
       "<tr>\n",
       "  <th>neighbourhood_cleansed[T.Pasadena]</th>                              <td>   20.4404</td> <td>  322.324</td> <td>    0.063</td> <td> 0.949</td> <td> -611.327</td> <td>  652.208</td>\n",
       "</tr>\n",
       "<tr>\n",
       "  <th>neighbourhood_cleansed[T.Pico Rivera]</th>                           <td>  -72.9854</td> <td>  333.440</td> <td>   -0.219</td> <td> 0.827</td> <td> -726.540</td> <td>  580.570</td>\n",
       "</tr>\n",
       "<tr>\n",
       "  <th>neighbourhood_cleansed[T.Pico-Robertson]</th>                        <td>   72.7423</td> <td>  324.551</td> <td>    0.224</td> <td> 0.823</td> <td> -563.390</td> <td>  708.875</td>\n",
       "</tr>\n",
       "<tr>\n",
       "  <th>neighbourhood_cleansed[T.Pico-Union]</th>                            <td>  -34.2768</td> <td>  326.292</td> <td>   -0.105</td> <td> 0.916</td> <td> -673.823</td> <td>  605.269</td>\n",
       "</tr>\n",
       "<tr>\n",
       "  <th>neighbourhood_cleansed[T.Playa Vista]</th>                           <td>   37.3086</td> <td>  328.221</td> <td>    0.114</td> <td> 0.910</td> <td> -606.018</td> <td>  680.635</td>\n",
       "</tr>\n",
       "<tr>\n",
       "  <th>neighbourhood_cleansed[T.Playa del Rey]</th>                         <td>   93.9374</td> <td>  326.095</td> <td>    0.288</td> <td> 0.773</td> <td> -545.221</td> <td>  733.096</td>\n",
       "</tr>\n",
       "<tr>\n",
       "  <th>neighbourhood_cleansed[T.Pomona]</th>                                <td>  -35.1588</td> <td>  325.548</td> <td>   -0.108</td> <td> 0.914</td> <td> -673.245</td> <td>  602.928</td>\n",
       "</tr>\n",
       "<tr>\n",
       "  <th>neighbourhood_cleansed[T.Porter Ranch]</th>                          <td>   -6.4667</td> <td>  351.978</td> <td>   -0.018</td> <td> 0.985</td> <td> -696.358</td> <td>  683.424</td>\n",
       "</tr>\n",
       "<tr>\n",
       "  <th>neighbourhood_cleansed[T.Quartz Hill]</th>                           <td>  -65.0000</td> <td>  384.040</td> <td>   -0.169</td> <td> 0.866</td> <td> -817.733</td> <td>  687.733</td>\n",
       "</tr>\n",
       "<tr>\n",
       "  <th>neighbourhood_cleansed[T.Rancho Dominguez]</th>                      <td>  -90.2500</td> <td>  425.054</td> <td>   -0.212</td> <td> 0.832</td> <td> -923.373</td> <td>  742.873</td>\n",
       "</tr>\n",
       "<tr>\n",
       "  <th>neighbourhood_cleansed[T.Rancho Palos Verdes]</th>                   <td>  237.4611</td> <td>  327.759</td> <td>    0.724</td> <td> 0.469</td> <td> -404.959</td> <td>  879.882</td>\n",
       "</tr>\n",
       "<tr>\n",
       "  <th>neighbourhood_cleansed[T.Rancho Park]</th>                           <td>  -21.3226</td> <td>  336.499</td> <td>   -0.063</td> <td> 0.949</td> <td> -680.874</td> <td>  638.229</td>\n",
       "</tr>\n",
       "<tr>\n",
       "  <th>neighbourhood_cleansed[T.Redondo Beach]</th>                         <td>   49.2042</td> <td>  322.725</td> <td>    0.152</td> <td> 0.879</td> <td> -583.350</td> <td>  681.758</td>\n",
       "</tr>\n",
       "<tr>\n",
       "  <th>neighbourhood_cleansed[T.Reseda]</th>                                <td>   42.7629</td> <td>  326.398</td> <td>    0.131</td> <td> 0.896</td> <td> -596.989</td> <td>  682.515</td>\n",
       "</tr>\n",
       "<tr>\n",
       "  <th>neighbourhood_cleansed[T.Ridge Route]</th>                           <td>  -61.0000</td> <td>  642.621</td> <td>   -0.095</td> <td> 0.924</td> <td>-1320.563</td> <td> 1198.563</td>\n",
       "</tr>\n",
       "<tr>\n",
       "  <th>neighbourhood_cleansed[T.Rolling Hills]</th>                         <td> 2528.6000</td> <td>  406.429</td> <td>    6.222</td> <td> 0.000</td> <td> 1731.982</td> <td> 3325.218</td>\n",
       "</tr>\n",
       "<tr>\n",
       "  <th>neighbourhood_cleansed[T.Rolling Hills Estates]</th>                 <td>   42.8333</td> <td>  393.523</td> <td>    0.109</td> <td> 0.913</td> <td> -728.488</td> <td>  814.155</td>\n",
       "</tr>\n",
       "<tr>\n",
       "  <th>neighbourhood_cleansed[T.Rosemead]</th>                              <td>    8.4416</td> <td>  327.510</td> <td>    0.026</td> <td> 0.979</td> <td> -633.491</td> <td>  650.374</td>\n",
       "</tr>\n",
       "<tr>\n",
       "  <th>neighbourhood_cleansed[T.Rowland Heights]</th>                       <td>  -53.7965</td> <td>  322.234</td> <td>   -0.167</td> <td> 0.867</td> <td> -685.389</td> <td>  577.795</td>\n",
       "</tr>\n",
       "<tr>\n",
       "  <th>neighbourhood_cleansed[T.San Dimas]</th>                             <td>   31.3684</td> <td>  333.753</td> <td>    0.094</td> <td> 0.925</td> <td> -622.801</td> <td>  685.537</td>\n",
       "</tr>\n",
       "<tr>\n",
       "  <th>neighbourhood_cleansed[T.San Fernando]</th>                          <td>  -86.4444</td> <td>  371.017</td> <td>   -0.233</td> <td> 0.816</td> <td> -813.653</td> <td>  640.765</td>\n",
       "</tr>\n",
       "<tr>\n",
       "  <th>neighbourhood_cleansed[T.San Gabriel]</th>                           <td>    0.5631</td> <td>  324.809</td> <td>    0.002</td> <td> 0.999</td> <td> -636.076</td> <td>  637.203</td>\n",
       "</tr>\n",
       "<tr>\n",
       "  <th>neighbourhood_cleansed[T.San Marino]</th>                            <td>   76.2650</td> <td>  354.067</td> <td>    0.215</td> <td> 0.829</td> <td> -617.720</td> <td>  770.250</td>\n",
       "</tr>\n",
       "<tr>\n",
       "  <th>neighbourhood_cleansed[T.San Pasqual]</th>                           <td>    9.0138</td> <td>  343.495</td> <td>    0.026</td> <td> 0.979</td> <td> -664.251</td> <td>  682.278</td>\n",
       "</tr>\n",
       "<tr>\n",
       "  <th>neighbourhood_cleansed[T.San Pedro]</th>                             <td>    8.7931</td> <td>  325.912</td> <td>    0.027</td> <td> 0.978</td> <td> -630.007</td> <td>  647.593</td>\n",
       "</tr>\n",
       "<tr>\n",
       "  <th>neighbourhood_cleansed[T.Santa Clarita]</th>                         <td>   -5.9757</td> <td>  324.573</td> <td>   -0.018</td> <td> 0.985</td> <td> -642.151</td> <td>  630.200</td>\n",
       "</tr>\n",
       "<tr>\n",
       "  <th>neighbourhood_cleansed[T.Santa Fe Springs]</th>                      <td>  -89.6667</td> <td>  454.402</td> <td>   -0.197</td> <td> 0.844</td> <td> -980.312</td> <td>  800.979</td>\n",
       "</tr>\n",
       "<tr>\n",
       "  <th>neighbourhood_cleansed[T.Santa Monica]</th>                          <td>   50.6931</td> <td>  321.733</td> <td>    0.158</td> <td> 0.875</td> <td> -579.917</td> <td>  681.303</td>\n",
       "</tr>\n",
       "<tr>\n",
       "  <th>neighbourhood_cleansed[T.Sawtelle]</th>                              <td>  -17.2137</td> <td>  322.380</td> <td>   -0.053</td> <td> 0.957</td> <td> -649.091</td> <td>  614.664</td>\n",
       "</tr>\n",
       "<tr>\n",
       "  <th>neighbourhood_cleansed[T.Sepulveda Basin]</th>                       <td>   37.0000</td> <td>  406.429</td> <td>    0.091</td> <td> 0.927</td> <td> -759.618</td> <td>  833.618</td>\n",
       "</tr>\n",
       "<tr>\n",
       "  <th>neighbourhood_cleansed[T.Shadow Hills]</th>                          <td>  -14.6875</td> <td>  350.140</td> <td>   -0.042</td> <td> 0.967</td> <td> -700.976</td> <td>  671.601</td>\n",
       "</tr>\n",
       "<tr>\n",
       "  <th>neighbourhood_cleansed[T.Sherman Oaks]</th>                          <td>  148.3310</td> <td>  322.738</td> <td>    0.460</td> <td> 0.646</td> <td> -484.247</td> <td>  780.909</td>\n",
       "</tr>\n",
       "<tr>\n",
       "  <th>neighbourhood_cleansed[T.Sierra Madre]</th>                          <td>   -5.9167</td> <td>  340.801</td> <td>   -0.017</td> <td> 0.986</td> <td> -673.901</td> <td>  662.067</td>\n",
       "</tr>\n",
       "<tr>\n",
       "  <th>neighbourhood_cleansed[T.Signal Hill]</th>                           <td>  -23.6565</td> <td>  334.083</td> <td>   -0.071</td> <td> 0.944</td> <td> -678.472</td> <td>  631.159</td>\n",
       "</tr>\n",
       "<tr>\n",
       "  <th>neighbourhood_cleansed[T.Silver Lake]</th>                           <td>   23.5244</td> <td>  322.370</td> <td>    0.073</td> <td> 0.942</td> <td> -608.334</td> <td>  655.383</td>\n",
       "</tr>\n",
       "<tr>\n",
       "  <th>neighbourhood_cleansed[T.South El Monte]</th>                        <td>  -35.6667</td> <td>  393.523</td> <td>   -0.091</td> <td> 0.928</td> <td> -806.988</td> <td>  735.655</td>\n",
       "</tr>\n",
       "<tr>\n",
       "  <th>neighbourhood_cleansed[T.South Gate]</th>                            <td>  -37.5000</td> <td>  350.140</td> <td>   -0.107</td> <td> 0.915</td> <td> -723.788</td> <td>  648.788</td>\n",
       "</tr>\n",
       "<tr>\n",
       "  <th>neighbourhood_cleansed[T.South Park]</th>                            <td>   23.4286</td> <td>  384.040</td> <td>    0.061</td> <td> 0.951</td> <td> -729.304</td> <td>  776.161</td>\n",
       "</tr>\n",
       "<tr>\n",
       "  <th>neighbourhood_cleansed[T.South Pasadena]</th>                        <td>   27.4562</td> <td>  327.431</td> <td>    0.084</td> <td> 0.933</td> <td> -614.322</td> <td>  669.235</td>\n",
       "</tr>\n",
       "<tr>\n",
       "  <th>neighbourhood_cleansed[T.South San Gabriel]</th>                     <td>  -77.1923</td> <td>  339.342</td> <td>   -0.227</td> <td> 0.820</td> <td> -742.316</td> <td>  587.931</td>\n",
       "</tr>\n",
       "<tr>\n",
       "  <th>neighbourhood_cleansed[T.South San Jose Hills]</th>                  <td>  -45.7143</td> <td>  384.040</td> <td>   -0.119</td> <td> 0.905</td> <td> -798.447</td> <td>  707.019</td>\n",
       "</tr>\n",
       "<tr>\n",
       "  <th>neighbourhood_cleansed[T.South Whittier]</th>                        <td>  -15.3024</td> <td>  348.510</td> <td>   -0.044</td> <td> 0.965</td> <td> -698.396</td> <td>  667.792</td>\n",
       "</tr>\n",
       "<tr>\n",
       "  <th>neighbourhood_cleansed[T.Southeast Antelope Valley]</th>             <td>  360.8462</td> <td>  356.462</td> <td>    1.012</td> <td> 0.311</td> <td> -337.834</td> <td> 1059.526</td>\n",
       "</tr>\n",
       "<tr>\n",
       "  <th>neighbourhood_cleansed[T.Stevenson Ranch]</th>                       <td>   62.7778</td> <td>  371.017</td> <td>    0.169</td> <td> 0.866</td> <td> -664.431</td> <td>  789.987</td>\n",
       "</tr>\n",
       "<tr>\n",
       "  <th>neighbourhood_cleansed[T.Studio City]</th>                           <td>  149.0399</td> <td>  322.897</td> <td>    0.462</td> <td> 0.644</td> <td> -483.852</td> <td>  781.931</td>\n",
       "</tr>\n",
       "<tr>\n",
       "  <th>neighbourhood_cleansed[T.Sun Valley]</th>                            <td>    6.8485</td> <td>  328.532</td> <td>    0.021</td> <td> 0.983</td> <td> -637.087</td> <td>  650.784</td>\n",
       "</tr>\n",
       "<tr>\n",
       "  <th>neighbourhood_cleansed[T.Sun Village]</th>                           <td>  -37.2857</td> <td>  384.040</td> <td>   -0.097</td> <td> 0.923</td> <td> -790.019</td> <td>  715.447</td>\n",
       "</tr>\n",
       "<tr>\n",
       "  <th>neighbourhood_cleansed[T.Sunland]</th>                               <td>  -62.4286</td> <td>  384.040</td> <td>   -0.163</td> <td> 0.871</td> <td> -815.161</td> <td>  690.304</td>\n",
       "</tr>\n",
       "<tr>\n",
       "  <th>neighbourhood_cleansed[T.Sylmar]</th>                                <td>  -48.5500</td> <td>  344.567</td> <td>   -0.141</td> <td> 0.888</td> <td> -723.915</td> <td>  626.815</td>\n",
       "</tr>\n",
       "<tr>\n",
       "  <th>neighbourhood_cleansed[T.Tarzana]</th>                               <td>  117.4123</td> <td>  325.511</td> <td>    0.361</td> <td> 0.718</td> <td> -520.602</td> <td>  755.427</td>\n",
       "</tr>\n",
       "<tr>\n",
       "  <th>neighbourhood_cleansed[T.Temple City]</th>                           <td>  -59.4232</td> <td>  324.941</td> <td>   -0.183</td> <td> 0.855</td> <td> -696.321</td> <td>  577.475</td>\n",
       "</tr>\n",
       "<tr>\n",
       "  <th>neighbourhood_cleansed[T.Toluca Lake]</th>                           <td>   51.3116</td> <td>  329.957</td> <td>    0.156</td> <td> 0.876</td> <td> -595.418</td> <td>  698.041</td>\n",
       "</tr>\n",
       "<tr>\n",
       "  <th>neighbourhood_cleansed[T.Topanga]</th>                               <td>  190.3428</td> <td>  323.180</td> <td>    0.589</td> <td> 0.556</td> <td> -443.104</td> <td>  823.789</td>\n",
       "</tr>\n",
       "<tr>\n",
       "  <th>neighbourhood_cleansed[T.Torrance]</th>                              <td>   -2.2451</td> <td>  323.111</td> <td>   -0.007</td> <td> 0.994</td> <td> -635.555</td> <td>  631.065</td>\n",
       "</tr>\n",
       "<tr>\n",
       "  <th>neighbourhood_cleansed[T.Tujunga]</th>                               <td>  -46.0476</td> <td>  343.495</td> <td>   -0.134</td> <td> 0.893</td> <td> -719.312</td> <td>  627.217</td>\n",
       "</tr>\n",
       "<tr>\n",
       "  <th>neighbourhood_cleansed[T.Tujunga Canyons]</th>                       <td>   51.3750</td> <td>  376.770</td> <td>    0.136</td> <td> 0.892</td> <td> -687.109</td> <td>  789.859</td>\n",
       "</tr>\n",
       "<tr>\n",
       "  <th>neighbourhood_cleansed[T.Unincorporated Catalina Island]</th>        <td>   49.8947</td> <td>  345.748</td> <td>    0.144</td> <td> 0.885</td> <td> -627.785</td> <td>  727.574</td>\n",
       "</tr>\n",
       "<tr>\n",
       "  <th>neighbourhood_cleansed[T.Unincorporated Santa Monica Mountains]</th> <td>  566.9063</td> <td>  325.237</td> <td>    1.743</td> <td> 0.081</td> <td>  -70.571</td> <td> 1204.384</td>\n",
       "</tr>\n",
       "<tr>\n",
       "  <th>neighbourhood_cleansed[T.Unincorporated Santa Susana Mountains]</th> <td>   80.4000</td> <td>  366.350</td> <td>    0.219</td> <td> 0.826</td> <td> -637.661</td> <td>  798.461</td>\n",
       "</tr>\n",
       "<tr>\n",
       "  <th>neighbourhood_cleansed[T.Universal City]</th>                        <td>  195.6667</td> <td>  454.402</td> <td>    0.431</td> <td> 0.667</td> <td> -694.979</td> <td> 1086.312</td>\n",
       "</tr>\n",
       "<tr>\n",
       "  <th>neighbourhood_cleansed[T.University Park]</th>                       <td>  -72.6271</td> <td>  329.378</td> <td>   -0.220</td> <td> 0.825</td> <td> -718.221</td> <td>  572.967</td>\n",
       "</tr>\n",
       "<tr>\n",
       "  <th>neighbourhood_cleansed[T.Val Verde]</th>                             <td>  -62.6667</td> <td>  454.402</td> <td>   -0.138</td> <td> 0.890</td> <td> -953.312</td> <td>  827.979</td>\n",
       "</tr>\n",
       "<tr>\n",
       "  <th>neighbourhood_cleansed[T.Valinda]</th>                               <td>  -62.8261</td> <td>  341.623</td> <td>   -0.184</td> <td> 0.854</td> <td> -732.422</td> <td>  606.770</td>\n",
       "</tr>\n",
       "<tr>\n",
       "  <th>neighbourhood_cleansed[T.Valley Glen]</th>                           <td>   60.8374</td> <td>  324.617</td> <td>    0.187</td> <td> 0.851</td> <td> -575.426</td> <td>  697.100</td>\n",
       "</tr>\n",
       "<tr>\n",
       "  <th>neighbourhood_cleansed[T.Valley Village]</th>                        <td>   59.9008</td> <td>  325.269</td> <td>    0.184</td> <td> 0.854</td> <td> -577.640</td> <td>  697.442</td>\n",
       "</tr>\n",
       "<tr>\n",
       "  <th>neighbourhood_cleansed[T.Van Nuys]</th>                              <td>  -12.7785</td> <td>  324.007</td> <td>   -0.039</td> <td> 0.969</td> <td> -647.845</td> <td>  622.288</td>\n",
       "</tr>\n",
       "<tr>\n",
       "  <th>neighbourhood_cleansed[T.Venice]</th>                                <td>  120.9224</td> <td>  321.617</td> <td>    0.376</td> <td> 0.707</td> <td> -509.460</td> <td>  751.305</td>\n",
       "</tr>\n",
       "<tr>\n",
       "  <th>neighbourhood_cleansed[T.Vermont Knolls]</th>                        <td>  -59.1111</td> <td>  347.055</td> <td>   -0.170</td> <td> 0.865</td> <td> -739.353</td> <td>  621.131</td>\n",
       "</tr>\n",
       "<tr>\n",
       "  <th>neighbourhood_cleansed[T.Vermont Square]</th>                        <td>  -63.6165</td> <td>  329.658</td> <td>   -0.193</td> <td> 0.847</td> <td> -709.759</td> <td>  582.526</td>\n",
       "</tr>\n",
       "<tr>\n",
       "  <th>neighbourhood_cleansed[T.Vermont Vista]</th>                         <td>  -66.0000</td> <td>  384.040</td> <td>   -0.172</td> <td> 0.864</td> <td> -818.733</td> <td>  686.733</td>\n",
       "</tr>\n",
       "<tr>\n",
       "  <th>neighbourhood_cleansed[T.Vermont-Slauson]</th>                       <td>  -23.3092</td> <td>  359.236</td> <td>   -0.065</td> <td> 0.948</td> <td> -727.426</td> <td>  680.808</td>\n",
       "</tr>\n",
       "<tr>\n",
       "  <th>neighbourhood_cleansed[T.Vernon]</th>                                <td>  -29.0000</td> <td>  508.037</td> <td>   -0.057</td> <td> 0.954</td> <td>-1024.772</td> <td>  966.772</td>\n",
       "</tr>\n",
       "<tr>\n",
       "  <th>neighbourhood_cleansed[T.Veterans Administration]</th>               <td>  -53.9091</td> <td>  362.487</td> <td>   -0.149</td> <td> 0.882</td> <td> -764.398</td> <td>  656.580</td>\n",
       "</tr>\n",
       "<tr>\n",
       "  <th>neighbourhood_cleansed[T.View Park-Windsor Hills]</th>               <td>    3.6992</td> <td>  327.846</td> <td>    0.011</td> <td> 0.991</td> <td> -638.893</td> <td>  646.291</td>\n",
       "</tr>\n",
       "<tr>\n",
       "  <th>neighbourhood_cleansed[T.Vincent]</th>                               <td>  -55.2500</td> <td>  425.054</td> <td>   -0.130</td> <td> 0.897</td> <td> -888.373</td> <td>  777.873</td>\n",
       "</tr>\n",
       "<tr>\n",
       "  <th>neighbourhood_cleansed[T.Walnut]</th>                                <td>   -5.1672</td> <td>  327.355</td> <td>   -0.016</td> <td> 0.987</td> <td> -646.795</td> <td>  636.461</td>\n",
       "</tr>\n",
       "<tr>\n",
       "  <th>neighbourhood_cleansed[T.Watts]</th>                                 <td> -105.0385</td> <td>  339.342</td> <td>   -0.310</td> <td> 0.757</td> <td> -770.162</td> <td>  560.085</td>\n",
       "</tr>\n",
       "<tr>\n",
       "  <th>neighbourhood_cleansed[T.West Adams]</th>                            <td>  -18.0808</td> <td>  327.591</td> <td>   -0.055</td> <td> 0.956</td> <td> -660.172</td> <td>  624.010</td>\n",
       "</tr>\n",
       "<tr>\n",
       "  <th>neighbourhood_cleansed[T.West Carson]</th>                           <td>  -43.8650</td> <td>  334.431</td> <td>   -0.131</td> <td> 0.896</td> <td> -699.362</td> <td>  611.632</td>\n",
       "</tr>\n",
       "<tr>\n",
       "  <th>neighbourhood_cleansed[T.West Compton]</th>                          <td>  -87.4700</td> <td>  384.040</td> <td>   -0.228</td> <td> 0.820</td> <td> -840.203</td> <td>  665.263</td>\n",
       "</tr>\n",
       "<tr>\n",
       "  <th>neighbourhood_cleansed[T.West Covina]</th>                           <td>  -40.0293</td> <td>  325.404</td> <td>   -0.123</td> <td> 0.902</td> <td> -677.834</td> <td>  597.775</td>\n",
       "</tr>\n",
       "<tr>\n",
       "  <th>neighbourhood_cleansed[T.West Hills]</th>                            <td>  112.1920</td> <td>  329.117</td> <td>    0.341</td> <td> 0.733</td> <td> -532.890</td> <td>  757.274</td>\n",
       "</tr>\n",
       "<tr>\n",
       "  <th>neighbourhood_cleansed[T.West Hollywood]</th>                        <td>   58.9226</td> <td>  322.089</td> <td>    0.183</td> <td> 0.855</td> <td> -572.386</td> <td>  690.231</td>\n",
       "</tr>\n",
       "<tr>\n",
       "  <th>neighbourhood_cleansed[T.West Los Angeles]</th>                      <td>  -26.5630</td> <td>  324.466</td> <td>   -0.082</td> <td> 0.935</td> <td> -662.529</td> <td>  609.403</td>\n",
       "</tr>\n",
       "<tr>\n",
       "  <th>neighbourhood_cleansed[T.West Puente Valley]</th>                    <td>  -33.8889</td> <td>  371.017</td> <td>   -0.091</td> <td> 0.927</td> <td> -761.098</td> <td>  693.320</td>\n",
       "</tr>\n",
       "<tr>\n",
       "  <th>neighbourhood_cleansed[T.West Whittier-Los Nietos]</th>              <td>    7.0000</td> <td>  393.523</td> <td>    0.018</td> <td> 0.986</td> <td> -764.322</td> <td>  778.322</td>\n",
       "</tr>\n",
       "<tr>\n",
       "  <th>neighbourhood_cleansed[T.Westchester]</th>                           <td>   13.1200</td> <td>  323.711</td> <td>    0.041</td> <td> 0.968</td> <td> -621.367</td> <td>  647.607</td>\n",
       "</tr>\n",
       "<tr>\n",
       "  <th>neighbourhood_cleansed[T.Westlake]</th>                              <td>   -4.9142</td> <td>  322.343</td> <td>   -0.015</td> <td> 0.988</td> <td> -636.720</td> <td>  626.891</td>\n",
       "</tr>\n",
       "<tr>\n",
       "  <th>neighbourhood_cleansed[T.Westlake Village]</th>                      <td>  601.1869</td> <td>  356.462</td> <td>    1.687</td> <td> 0.092</td> <td>  -97.493</td> <td> 1299.867</td>\n",
       "</tr>\n",
       "<tr>\n",
       "  <th>neighbourhood_cleansed[T.Westmont]</th>                              <td>  -20.4763</td> <td>  338.691</td> <td>   -0.060</td> <td> 0.952</td> <td> -684.324</td> <td>  643.372</td>\n",
       "</tr>\n",
       "<tr>\n",
       "  <th>neighbourhood_cleansed[T.Westwood]</th>                              <td>   33.5638</td> <td>  322.380</td> <td>    0.104</td> <td> 0.917</td> <td> -598.313</td> <td>  665.441</td>\n",
       "</tr>\n",
       "<tr>\n",
       "  <th>neighbourhood_cleansed[T.Whittier]</th>                              <td>   70.3327</td> <td>  328.425</td> <td>    0.214</td> <td> 0.830</td> <td> -573.394</td> <td>  714.059</td>\n",
       "</tr>\n",
       "<tr>\n",
       "  <th>neighbourhood_cleansed[T.Whittier Narrows]</th>                      <td> -106.0000</td> <td>  642.621</td> <td>   -0.165</td> <td> 0.869</td> <td>-1365.563</td> <td> 1153.563</td>\n",
       "</tr>\n",
       "<tr>\n",
       "  <th>neighbourhood_cleansed[T.Willowbrook]</th>                           <td>   30.3077</td> <td>  356.462</td> <td>    0.085</td> <td> 0.932</td> <td> -668.372</td> <td>  728.987</td>\n",
       "</tr>\n",
       "<tr>\n",
       "  <th>neighbourhood_cleansed[T.Wilmington]</th>                            <td>  -66.2414</td> <td>  337.521</td> <td>   -0.196</td> <td> 0.844</td> <td> -727.796</td> <td>  595.313</td>\n",
       "</tr>\n",
       "<tr>\n",
       "  <th>neighbourhood_cleansed[T.Windsor Square]</th>                        <td>   94.6875</td> <td>  336.035</td> <td>    0.282</td> <td> 0.778</td> <td> -563.954</td> <td>  753.329</td>\n",
       "</tr>\n",
       "<tr>\n",
       "  <th>neighbourhood_cleansed[T.Winnetka]</th>                              <td>  -24.3731</td> <td>  328.425</td> <td>   -0.074</td> <td> 0.941</td> <td> -668.100</td> <td>  619.353</td>\n",
       "</tr>\n",
       "<tr>\n",
       "  <th>neighbourhood_cleansed[T.Woodland Hills]</th>                        <td>   97.5547</td> <td>  323.065</td> <td>    0.302</td> <td> 0.763</td> <td> -535.665</td> <td>  730.774</td>\n",
       "</tr>\n",
       "</table>\n",
       "<table class=\"simpletable\">\n",
       "<tr>\n",
       "  <th>Omnibus:</th>       <td>58231.312</td> <th>  Durbin-Watson:     </th>   <td>   1.748</td>   \n",
       "</tr>\n",
       "<tr>\n",
       "  <th>Prob(Omnibus):</th>  <td> 0.000</td>   <th>  Jarque-Bera (JB):  </th> <td>136003700.130</td>\n",
       "</tr>\n",
       "<tr>\n",
       "  <th>Skew:</th>           <td>13.737</td>   <th>  Prob(JB):          </th>   <td>    0.00</td>   \n",
       "</tr>\n",
       "<tr>\n",
       "  <th>Kurtosis:</th>       <td>323.544</td>  <th>  Cond. No.          </th>   <td>1.68e+03</td>   \n",
       "</tr>\n",
       "</table><br/><br/>Warnings:<br/>[1] Standard Errors assume that the covariance matrix of the errors is correctly specified.<br/>[2] The condition number is large, 1.68e+03. This might indicate that there are<br/>strong multicollinearity or other numerical problems."
      ],
      "text/plain": [
       "<class 'statsmodels.iolib.summary.Summary'>\n",
       "\"\"\"\n",
       "                            OLS Regression Results                            \n",
       "==============================================================================\n",
       "Dep. Variable:               price_am   R-squared:                       0.166\n",
       "Model:                            OLS   Adj. R-squared:                  0.159\n",
       "Method:                 Least Squares   F-statistic:                     23.73\n",
       "Date:                Thu, 19 Nov 2020   Prob (F-statistic):               0.00\n",
       "Time:                        22:37:01   Log-Likelihood:            -2.4398e+05\n",
       "No. Observations:               31536   AIC:                         4.885e+05\n",
       "Df Residuals:                   31273   BIC:                         4.907e+05\n",
       "Df Model:                         262                                         \n",
       "Covariance Type:            nonrobust                                         \n",
       "===================================================================================================================================\n",
       "                                                                      coef    std err          t      P>|t|      [0.025      0.975]\n",
       "-----------------------------------------------------------------------------------------------------------------------------------\n",
       "Intercept                                                         139.0000    321.311      0.433      0.665    -490.781     768.781\n",
       "neighbourhood_cleansed[T.Adams-Normandie]                         -55.1591    334.798     -0.165      0.869    -711.376     601.058\n",
       "neighbourhood_cleansed[T.Agoura Hills]                             86.0263    333.753      0.258      0.797    -568.143     740.195\n",
       "neighbourhood_cleansed[T.Agua Dulce]                               81.3471    354.067      0.230      0.818    -612.638     775.332\n",
       "neighbourhood_cleansed[T.Alhambra]                                -38.8273    323.097     -0.120      0.904    -672.111     594.456\n",
       "neighbourhood_cleansed[T.Alondra Park]                            -16.6429    354.067     -0.047      0.963    -710.628     677.342\n",
       "neighbourhood_cleansed[T.Altadena]                                 39.8513    323.436      0.123      0.902    -594.096     673.799\n",
       "neighbourhood_cleansed[T.Angeles Crest]                            54.6667    454.402      0.120      0.904    -835.979     945.312\n",
       "neighbourhood_cleansed[T.Arcadia]                                 -15.2731    323.798     -0.047      0.962    -649.930     619.384\n",
       "neighbourhood_cleansed[T.Arleta]                                  -84.0000    393.523     -0.213      0.831    -855.322     687.322\n",
       "neighbourhood_cleansed[T.Arlington Heights]                       -70.0247    325.439     -0.215      0.830    -707.898     567.849\n",
       "neighbourhood_cleansed[T.Artesia]                                 -39.3636    362.487     -0.109      0.914    -749.853     671.126\n",
       "neighbourhood_cleansed[T.Athens]                                  -44.6000    406.429     -0.110      0.913    -841.218     752.018\n",
       "neighbourhood_cleansed[T.Atwater Village]                           6.3714    326.932      0.019      0.984    -634.427     647.170\n",
       "neighbourhood_cleansed[T.Avalon]                                  365.2659    324.466      1.126      0.260    -270.700    1001.232\n",
       "neighbourhood_cleansed[T.Avocado Heights]                         -23.3636    362.487     -0.064      0.949    -733.853     687.126\n",
       "neighbourhood_cleansed[T.Azusa]                                   -30.1083    328.755     -0.092      0.927    -674.481     614.265\n",
       "neighbourhood_cleansed[T.Baldwin Hills/Crenshaw]                  -34.8197    329.117     -0.106      0.916    -679.902     610.262\n",
       "neighbourhood_cleansed[T.Baldwin Park]                            -56.3143    334.798     -0.168      0.866    -712.532     599.903\n",
       "neighbourhood_cleansed[T.Bel-Air]                                2470.4658    330.809      7.468      0.000    1822.066    3118.865\n",
       "neighbourhood_cleansed[T.Bell]                                    -81.4275    425.054     -0.192      0.848    -914.550     751.695\n",
       "neighbourhood_cleansed[T.Bell Gardens]                            -52.2500    425.054     -0.123      0.902    -885.373     780.873\n",
       "neighbourhood_cleansed[T.Bellflower]                              -58.6364    335.598     -0.175      0.861    -716.422     599.149\n",
       "neighbourhood_cleansed[T.Beverly Crest]                          1110.0992    324.969      3.416      0.001     473.147    1747.051\n",
       "neighbourhood_cleansed[T.Beverly Grove]                           149.1169    322.487      0.462      0.644    -482.970     781.204\n",
       "neighbourhood_cleansed[T.Beverly Hills]                           707.3917    322.252      2.195      0.028      75.764    1339.019\n",
       "neighbourhood_cleansed[T.Beverlywood]                              38.3750    340.801      0.113      0.910    -629.609     706.359\n",
       "neighbourhood_cleansed[T.Boyle Heights]                           -38.1558    327.510     -0.117      0.907    -680.089     603.777\n",
       "neighbourhood_cleansed[T.Bradbury]                                -59.0000    508.037     -0.116      0.908   -1054.772     936.772\n",
       "neighbourhood_cleansed[T.Brentwood]                               224.7973    324.101      0.694      0.488    -410.453     860.047\n",
       "neighbourhood_cleansed[T.Broadway-Manchester]                     -56.7273    362.487     -0.156      0.876    -767.217     653.762\n",
       "neighbourhood_cleansed[T.Burbank]                                  -7.5955    322.733     -0.024      0.981    -640.166     624.975\n",
       "neighbourhood_cleansed[T.Calabasas]                                44.3654    330.449      0.134      0.893    -603.328     692.059\n",
       "neighbourhood_cleansed[T.Canoga Park]                             -37.1852    330.115     -0.113      0.910    -684.224     609.854\n",
       "neighbourhood_cleansed[T.Carson]                                  -67.2073    327.135     -0.205      0.837    -708.406     573.991\n",
       "neighbourhood_cleansed[T.Carthay]                                  45.9545    328.532      0.140      0.889    -597.981     689.890\n",
       "neighbourhood_cleansed[T.Castaic]                                 -14.8000    366.350     -0.040      0.968    -732.861     703.261\n",
       "neighbourhood_cleansed[T.Castaic Canyons]                         102.2353    348.510      0.293      0.769    -580.859     785.329\n",
       "neighbourhood_cleansed[T.Central-Alameda]                          54.8750    376.770      0.146      0.884    -683.609     793.359\n",
       "neighbourhood_cleansed[T.Century City]                             64.3182    342.518      0.188      0.851    -607.031     735.667\n",
       "neighbourhood_cleansed[T.Cerritos]                                -49.0628    340.043     -0.144      0.885    -715.561     617.435\n",
       "neighbourhood_cleansed[T.Charter Oak]                             -88.6364    362.487     -0.245      0.807    -799.126     621.853\n",
       "neighbourhood_cleansed[T.Chatsworth]                               24.6997    333.440      0.074      0.941    -628.855     678.255\n",
       "neighbourhood_cleansed[T.Chesterfield Square]                     -51.7143    354.067     -0.146      0.884    -745.700     642.271\n",
       "neighbourhood_cleansed[T.Cheviot Hills]                            71.7813    336.035      0.214      0.831    -586.860     730.422\n",
       "neighbourhood_cleansed[T.Chinatown]                               -29.9912    331.000     -0.091      0.928    -678.765     618.783\n",
       "neighbourhood_cleansed[T.Citrus]                                  -93.2500    425.054     -0.219      0.826    -926.373     739.873\n",
       "neighbourhood_cleansed[T.Claremont]                                27.4258    330.279      0.083      0.934    -619.934     674.786\n",
       "neighbourhood_cleansed[T.Commerce]                                213.2500    425.054      0.502      0.616    -619.873    1046.373\n",
       "neighbourhood_cleansed[T.Compton]                                   0.4000    344.567      0.001      0.999    -674.965     675.765\n",
       "neighbourhood_cleansed[T.Covina]                                  -52.9167    331.199     -0.160      0.873    -702.081     596.247\n",
       "neighbourhood_cleansed[T.Cudahy]                                 -125.0000    642.621     -0.195      0.846   -1384.563    1134.563\n",
       "neighbourhood_cleansed[T.Culver City]                              22.6424    322.862      0.070      0.944    -610.179     655.464\n",
       "neighbourhood_cleansed[T.Cypress Park]                            -48.5191    362.487     -0.134      0.894    -759.008     661.970\n",
       "neighbourhood_cleansed[T.Del Aire]                                -23.2115    330.449     -0.070      0.944    -670.905     624.482\n",
       "neighbourhood_cleansed[T.Del Rey]                                   6.3025    323.484      0.019      0.984    -627.739     640.344\n",
       "neighbourhood_cleansed[T.Desert View Highlands]                   -57.6667    454.402     -0.127      0.899    -948.312     832.979\n",
       "neighbourhood_cleansed[T.Diamond Bar]                             -17.5330    324.366     -0.054      0.957    -653.303     618.237\n",
       "neighbourhood_cleansed[T.Downey]                                  -32.4746    329.378     -0.099      0.921    -678.069     613.120\n",
       "neighbourhood_cleansed[T.Downtown]                                 50.6890    321.744      0.158      0.875    -579.943     681.321\n",
       "neighbourhood_cleansed[T.Duarte]                                  -47.9091    342.518     -0.140      0.889    -719.258     623.440\n",
       "neighbourhood_cleansed[T.Eagle Rock]                                5.3146    325.335      0.016      0.987    -632.356     642.985\n",
       "neighbourhood_cleansed[T.East Compton]                            -53.5000    508.037     -0.105      0.916   -1049.272     942.272\n",
       "neighbourhood_cleansed[T.East Hollywood]                          -47.7239    322.301     -0.148      0.882    -679.446     583.998\n",
       "neighbourhood_cleansed[T.East Los Angeles]                        -39.0952    325.404     -0.120      0.904    -676.900     598.709\n",
       "neighbourhood_cleansed[T.East Pasadena]                            25.4285    333.142      0.076      0.939    -627.543     678.400\n",
       "neighbourhood_cleansed[T.East San Gabriel]                        -57.8392    327.280     -0.177      0.860    -699.320     583.642\n",
       "neighbourhood_cleansed[T.East Whittier]                           -14.0000    508.037     -0.028      0.978   -1009.772     981.772\n",
       "neighbourhood_cleansed[T.Echo Park]                               -12.6677    322.590     -0.039      0.969    -644.957     619.621\n",
       "neighbourhood_cleansed[T.El Monte]                                -20.2909    325.663     -0.062      0.950    -658.603     618.021\n",
       "neighbourhood_cleansed[T.El Segundo]                              -14.1865    324.640     -0.044      0.965    -650.494     622.121\n",
       "neighbourhood_cleansed[T.El Sereno]                               -12.6719    330.115     -0.038      0.969    -659.711     634.367\n",
       "neighbourhood_cleansed[T.Elysian Park]                            -22.1250    350.140     -0.063      0.950    -708.413     664.163\n",
       "neighbourhood_cleansed[T.Elysian Valley]                          -41.0000    347.055     -0.118      0.906    -721.242     639.242\n",
       "neighbourhood_cleansed[T.Encino]                                  351.2563    325.113      1.080      0.280    -285.978     988.491\n",
       "neighbourhood_cleansed[T.Exposition Park]                         -11.1877    325.868     -0.034      0.973    -649.903     627.527\n",
       "neighbourhood_cleansed[T.Fairfax]                                 129.1552    323.296      0.399      0.690    -504.518     762.828\n",
       "neighbourhood_cleansed[T.Florence]                                 25.0000    425.054      0.059      0.953    -808.123     858.123\n",
       "neighbourhood_cleansed[T.Florence-Firestone]                      500.2222    347.055      1.441      0.150    -180.019    1180.464\n",
       "neighbourhood_cleansed[T.Gardena]                                 -51.2483    325.956     -0.157      0.875    -690.135     587.639\n",
       "neighbourhood_cleansed[T.Glassell Park]                           -30.6111    327.936     -0.093      0.926    -673.379     612.157\n",
       "neighbourhood_cleansed[T.Glendale]                                 15.1907    322.170      0.047      0.962    -616.275     646.657\n",
       "neighbourhood_cleansed[T.Glendora]                                 -7.7833    329.245     -0.024      0.981    -653.117     637.551\n",
       "neighbourhood_cleansed[T.Gramercy Park]                           122.8571    354.067      0.347      0.729    -571.128     816.842\n",
       "neighbourhood_cleansed[T.Granada Hills]                            30.1842    333.753      0.090      0.928    -623.985     684.353\n",
       "neighbourhood_cleansed[T.Green Meadows]                          -112.8947    333.753     -0.338      0.735    -767.064     541.274\n",
       "neighbourhood_cleansed[T.Green Valley]                             54.9844    371.017      0.148      0.882    -672.225     782.193\n",
       "neighbourhood_cleansed[T.Griffith Park]                          -113.1594    348.510     -0.325      0.745    -796.253     569.934\n",
       "neighbourhood_cleansed[T.Hacienda Heights]                        -33.5067    323.312     -0.104      0.917    -667.212     600.199\n",
       "neighbourhood_cleansed[T.Hancock Park]                            100.0247    327.207      0.306      0.760    -541.313     741.363\n",
       "neighbourhood_cleansed[T.Harbor City]                              41.1111    338.691      0.121      0.903    -622.737     704.959\n",
       "neighbourhood_cleansed[T.Harbor Gateway]                          -47.6857    334.798     -0.142      0.887    -703.903     608.532\n",
       "neighbourhood_cleansed[T.Harvard Heights]                         -65.4949    326.998     -0.200      0.841    -706.424     575.434\n",
       "neighbourhood_cleansed[T.Harvard Park]                            -78.0725    425.054     -0.184      0.854    -911.195     755.050\n",
       "neighbourhood_cleansed[T.Hasley Canyon]                           -26.5000    508.037     -0.052      0.958   -1022.272     969.272\n",
       "neighbourhood_cleansed[T.Hawaiian Gardens]                        -54.0000    642.621     -0.084      0.933   -1313.563    1205.563\n",
       "neighbourhood_cleansed[T.Hawthorne]                               -34.7116    324.328     -0.107      0.915    -670.407     600.983\n",
       "neighbourhood_cleansed[T.Hermosa Beach]                           160.8028    323.736      0.497      0.619    -473.732     795.337\n",
       "neighbourhood_cleansed[T.Highland Park]                           -25.1634    324.309     -0.078      0.938    -660.822     610.495\n",
       "neighbourhood_cleansed[T.Historic South-Central]                  -66.6667    328.872     -0.203      0.839    -711.269     577.935\n",
       "neighbourhood_cleansed[T.Hollywood]                                12.1177    321.626      0.038      0.970    -618.283     642.518\n",
       "neighbourhood_cleansed[T.Hollywood Hills]                         163.5847    321.978      0.508      0.611    -467.506     794.675\n",
       "neighbourhood_cleansed[T.Hollywood Hills West]                    761.5374    322.337      2.363      0.018     129.745    1393.330\n",
       "neighbourhood_cleansed[T.Huntington Park]                         -55.3333    393.523     -0.141      0.888    -826.655     715.988\n",
       "neighbourhood_cleansed[T.Hyde Park]                               -38.2016    329.805     -0.116      0.908    -684.632     608.229\n",
       "neighbourhood_cleansed[T.Industry]                                -30.5378    330.626     -0.092      0.926    -678.578     617.502\n",
       "neighbourhood_cleansed[T.Inglewood]                               -20.8395    322.493     -0.065      0.948    -652.938     611.259\n",
       "neighbourhood_cleansed[T.Irwindale]                               -82.6000    406.429     -0.203      0.839    -879.218     714.018\n",
       "neighbourhood_cleansed[T.Jefferson Park]                          -29.0422    330.115     -0.088      0.930    -676.081     617.997\n",
       "neighbourhood_cleansed[T.Koreatown]                               -10.5070    322.315     -0.033      0.974    -642.257     621.244\n",
       "neighbourhood_cleansed[T.La Canada Flintridge]                    133.4051    331.407      0.403      0.687    -516.165     782.975\n",
       "neighbourhood_cleansed[T.La Crescenta-Montrose]                   -12.8750    340.801     -0.038      0.970    -680.859     655.109\n",
       "neighbourhood_cleansed[T.La Habra Heights]                          0.5294    348.510      0.002      0.999    -682.564     683.623\n",
       "neighbourhood_cleansed[T.La Mirada]                               -84.3967    371.017     -0.227      0.820    -811.606     642.812\n",
       "neighbourhood_cleansed[T.La Puente]                               -40.5614    354.067     -0.115      0.909    -734.547     653.424\n",
       "neighbourhood_cleansed[T.La Verne]                                -42.4731    350.140     -0.121      0.903    -728.762     643.815\n",
       "neighbourhood_cleansed[T.Ladera Heights]                           69.4106    331.199      0.210      0.834    -579.753     718.574\n",
       "neighbourhood_cleansed[T.Lake Balboa]                               7.7196    328.322      0.024      0.981    -635.804     651.243\n",
       "neighbourhood_cleansed[T.Lake Hughes]                             161.0000    642.621      0.251      0.802   -1098.563    1420.563\n",
       "neighbourhood_cleansed[T.Lake Los Angeles]                         -6.1429    384.040     -0.016      0.987    -758.876     746.590\n",
       "neighbourhood_cleansed[T.Lake View Terrace]                       -84.5000    508.037     -0.166      0.868   -1080.272     911.272\n",
       "neighbourhood_cleansed[T.Lakewood]                                 -9.8972    330.809     -0.030      0.976    -658.297     638.502\n",
       "neighbourhood_cleansed[T.Lancaster]                               -79.4918    325.237     -0.244      0.807    -716.969     557.986\n",
       "neighbourhood_cleansed[T.Larchmont]                                44.8405    327.759      0.137      0.891    -597.580     687.261\n",
       "neighbourhood_cleansed[T.Lawndale]                                -67.1071    326.998     -0.205      0.837    -708.036     573.822\n",
       "neighbourhood_cleansed[T.Leimert Park]                            -23.9642    333.142     -0.072      0.943    -676.936     629.007\n",
       "neighbourhood_cleansed[T.Lennox]                                  -55.2710    337.521     -0.164      0.870    -716.826     606.284\n",
       "neighbourhood_cleansed[T.Leona Valley]                            -49.0000    642.621     -0.076      0.939   -1308.563    1210.563\n",
       "neighbourhood_cleansed[T.Lincoln Heights]                         -37.9344    329.117     -0.115      0.908    -683.016     607.148\n",
       "neighbourhood_cleansed[T.Lomita]                                  -32.1200    340.043     -0.094      0.925    -698.618     634.378\n",
       "neighbourhood_cleansed[T.Long Beach]                                7.7701    321.615      0.024      0.981    -622.607     638.148\n",
       "neighbourhood_cleansed[T.Lopez/Kagel Canyons]                       8.5000    508.037      0.017      0.987    -987.272    1004.272\n",
       "neighbourhood_cleansed[T.Los Feliz]                                64.3030    322.887      0.199      0.842    -568.568     697.174\n",
       "neighbourhood_cleansed[T.Lynwood]                                 -70.1285    344.567     -0.204      0.839    -745.494     605.237\n",
       "neighbourhood_cleansed[T.Malibu]                                 1499.7460    322.550      4.650      0.000     867.534    2131.957\n",
       "neighbourhood_cleansed[T.Manchester Square]                        -0.7140    351.978     -0.002      0.998    -690.605     689.177\n",
       "neighbourhood_cleansed[T.Manhattan Beach]                         231.8163    323.760      0.716      0.474    -402.767     866.399\n",
       "neighbourhood_cleansed[T.Mar Vista]                                48.6209    323.117      0.150      0.880    -584.702     681.944\n",
       "neighbourhood_cleansed[T.Marina del Rey]                           92.0648    323.642      0.284      0.776    -542.286     726.415\n",
       "neighbourhood_cleansed[T.Mayflower Village]                       -54.6871    343.495     -0.159      0.874    -727.952     618.578\n",
       "neighbourhood_cleansed[T.Maywood]                                 -83.6000    366.350     -0.228      0.819    -801.661     634.461\n",
       "neighbourhood_cleansed[T.Mid-City]                                -18.7917    322.621     -0.058      0.954    -651.142     613.558\n",
       "neighbourhood_cleansed[T.Mid-Wilshire]                             16.9531    322.287      0.053      0.958    -614.742     648.648\n",
       "neighbourhood_cleansed[T.Mission Hills]                           -35.7143    384.040     -0.093      0.926    -788.447     717.019\n",
       "neighbourhood_cleansed[T.Monrovia]                                -38.6248    326.564     -0.118      0.906    -678.703     601.453\n",
       "neighbourhood_cleansed[T.Montebello]                              -33.2685    335.598     -0.099      0.921    -691.054     624.517\n",
       "neighbourhood_cleansed[T.Montecito Heights]                       -13.6491    329.658     -0.041      0.967    -659.791     632.493\n",
       "neighbourhood_cleansed[T.Monterey Park]                           -25.6545    323.418     -0.079      0.937    -659.566     608.257\n",
       "neighbourhood_cleansed[T.Mount Washington]                          3.5367    326.398      0.011      0.991    -636.216     643.289\n",
       "neighbourhood_cleansed[T.North El Monte]                          -40.6667    347.055     -0.117      0.907    -720.908     639.575\n",
       "neighbourhood_cleansed[T.North Hills]                             -48.7949    333.440     -0.146      0.884    -702.350     604.760\n",
       "neighbourhood_cleansed[T.North Hollywood]                           3.1294    322.628      0.010      0.992    -629.235     635.494\n",
       "neighbourhood_cleansed[T.North Whittier]                          125.6667    454.402      0.277      0.782    -764.979    1016.312\n",
       "neighbourhood_cleansed[T.Northeast Antelope Valley]                23.8889    371.017      0.064      0.949    -703.320     751.098\n",
       "neighbourhood_cleansed[T.Northridge]                               16.6113    326.867      0.051      0.959    -624.061     657.283\n",
       "neighbourhood_cleansed[T.Northwest Antelope Valley]              -114.0000    642.621     -0.177      0.859   -1373.563    1145.563\n",
       "neighbourhood_cleansed[T.Northwest Palmdale]                      -59.5455    362.487     -0.164      0.870    -770.035     650.944\n",
       "neighbourhood_cleansed[T.Norwalk]                                 -56.4419    330.115     -0.171      0.864    -703.481     590.597\n",
       "neighbourhood_cleansed[T.Pacific Palisades]                       272.2000    324.617      0.839      0.402    -364.063     908.463\n",
       "neighbourhood_cleansed[T.Pacoima]                                 -48.8667    351.978     -0.139      0.890    -738.758     641.024\n",
       "neighbourhood_cleansed[T.Palmdale]                                -76.1252    326.681     -0.233      0.816    -716.433     564.183\n",
       "neighbourhood_cleansed[T.Palms]                                   -19.8973    323.455     -0.062      0.951    -653.882     614.087\n",
       "neighbourhood_cleansed[T.Palos Verdes Estates]                    158.1315    356.462      0.444      0.657    -540.548     856.811\n",
       "neighbourhood_cleansed[T.Panorama City]                           -58.5000    342.518     -0.171      0.864    -729.849     612.849\n",
       "neighbourhood_cleansed[T.Paramount]                               -69.4000    366.350     -0.189      0.850    -787.461     648.661\n",
       "neighbourhood_cleansed[T.Pasadena]                                 20.4404    322.324      0.063      0.949    -611.327     652.208\n",
       "neighbourhood_cleansed[T.Pico Rivera]                             -72.9854    333.440     -0.219      0.827    -726.540     580.570\n",
       "neighbourhood_cleansed[T.Pico-Robertson]                           72.7423    324.551      0.224      0.823    -563.390     708.875\n",
       "neighbourhood_cleansed[T.Pico-Union]                              -34.2768    326.292     -0.105      0.916    -673.823     605.269\n",
       "neighbourhood_cleansed[T.Playa Vista]                              37.3086    328.221      0.114      0.910    -606.018     680.635\n",
       "neighbourhood_cleansed[T.Playa del Rey]                            93.9374    326.095      0.288      0.773    -545.221     733.096\n",
       "neighbourhood_cleansed[T.Pomona]                                  -35.1588    325.548     -0.108      0.914    -673.245     602.928\n",
       "neighbourhood_cleansed[T.Porter Ranch]                             -6.4667    351.978     -0.018      0.985    -696.358     683.424\n",
       "neighbourhood_cleansed[T.Quartz Hill]                             -65.0000    384.040     -0.169      0.866    -817.733     687.733\n",
       "neighbourhood_cleansed[T.Rancho Dominguez]                        -90.2500    425.054     -0.212      0.832    -923.373     742.873\n",
       "neighbourhood_cleansed[T.Rancho Palos Verdes]                     237.4611    327.759      0.724      0.469    -404.959     879.882\n",
       "neighbourhood_cleansed[T.Rancho Park]                             -21.3226    336.499     -0.063      0.949    -680.874     638.229\n",
       "neighbourhood_cleansed[T.Redondo Beach]                            49.2042    322.725      0.152      0.879    -583.350     681.758\n",
       "neighbourhood_cleansed[T.Reseda]                                   42.7629    326.398      0.131      0.896    -596.989     682.515\n",
       "neighbourhood_cleansed[T.Ridge Route]                             -61.0000    642.621     -0.095      0.924   -1320.563    1198.563\n",
       "neighbourhood_cleansed[T.Rolling Hills]                          2528.6000    406.429      6.222      0.000    1731.982    3325.218\n",
       "neighbourhood_cleansed[T.Rolling Hills Estates]                    42.8333    393.523      0.109      0.913    -728.488     814.155\n",
       "neighbourhood_cleansed[T.Rosemead]                                  8.4416    327.510      0.026      0.979    -633.491     650.374\n",
       "neighbourhood_cleansed[T.Rowland Heights]                         -53.7965    322.234     -0.167      0.867    -685.389     577.795\n",
       "neighbourhood_cleansed[T.San Dimas]                                31.3684    333.753      0.094      0.925    -622.801     685.537\n",
       "neighbourhood_cleansed[T.San Fernando]                            -86.4444    371.017     -0.233      0.816    -813.653     640.765\n",
       "neighbourhood_cleansed[T.San Gabriel]                               0.5631    324.809      0.002      0.999    -636.076     637.203\n",
       "neighbourhood_cleansed[T.San Marino]                               76.2650    354.067      0.215      0.829    -617.720     770.250\n",
       "neighbourhood_cleansed[T.San Pasqual]                               9.0138    343.495      0.026      0.979    -664.251     682.278\n",
       "neighbourhood_cleansed[T.San Pedro]                                 8.7931    325.912      0.027      0.978    -630.007     647.593\n",
       "neighbourhood_cleansed[T.Santa Clarita]                            -5.9757    324.573     -0.018      0.985    -642.151     630.200\n",
       "neighbourhood_cleansed[T.Santa Fe Springs]                        -89.6667    454.402     -0.197      0.844    -980.312     800.979\n",
       "neighbourhood_cleansed[T.Santa Monica]                             50.6931    321.733      0.158      0.875    -579.917     681.303\n",
       "neighbourhood_cleansed[T.Sawtelle]                                -17.2137    322.380     -0.053      0.957    -649.091     614.664\n",
       "neighbourhood_cleansed[T.Sepulveda Basin]                          37.0000    406.429      0.091      0.927    -759.618     833.618\n",
       "neighbourhood_cleansed[T.Shadow Hills]                            -14.6875    350.140     -0.042      0.967    -700.976     671.601\n",
       "neighbourhood_cleansed[T.Sherman Oaks]                            148.3310    322.738      0.460      0.646    -484.247     780.909\n",
       "neighbourhood_cleansed[T.Sierra Madre]                             -5.9167    340.801     -0.017      0.986    -673.901     662.067\n",
       "neighbourhood_cleansed[T.Signal Hill]                             -23.6565    334.083     -0.071      0.944    -678.472     631.159\n",
       "neighbourhood_cleansed[T.Silver Lake]                              23.5244    322.370      0.073      0.942    -608.334     655.383\n",
       "neighbourhood_cleansed[T.South El Monte]                          -35.6667    393.523     -0.091      0.928    -806.988     735.655\n",
       "neighbourhood_cleansed[T.South Gate]                              -37.5000    350.140     -0.107      0.915    -723.788     648.788\n",
       "neighbourhood_cleansed[T.South Park]                               23.4286    384.040      0.061      0.951    -729.304     776.161\n",
       "neighbourhood_cleansed[T.South Pasadena]                           27.4562    327.431      0.084      0.933    -614.322     669.235\n",
       "neighbourhood_cleansed[T.South San Gabriel]                       -77.1923    339.342     -0.227      0.820    -742.316     587.931\n",
       "neighbourhood_cleansed[T.South San Jose Hills]                    -45.7143    384.040     -0.119      0.905    -798.447     707.019\n",
       "neighbourhood_cleansed[T.South Whittier]                          -15.3024    348.510     -0.044      0.965    -698.396     667.792\n",
       "neighbourhood_cleansed[T.Southeast Antelope Valley]               360.8462    356.462      1.012      0.311    -337.834    1059.526\n",
       "neighbourhood_cleansed[T.Stevenson Ranch]                          62.7778    371.017      0.169      0.866    -664.431     789.987\n",
       "neighbourhood_cleansed[T.Studio City]                             149.0399    322.897      0.462      0.644    -483.852     781.931\n",
       "neighbourhood_cleansed[T.Sun Valley]                                6.8485    328.532      0.021      0.983    -637.087     650.784\n",
       "neighbourhood_cleansed[T.Sun Village]                             -37.2857    384.040     -0.097      0.923    -790.019     715.447\n",
       "neighbourhood_cleansed[T.Sunland]                                 -62.4286    384.040     -0.163      0.871    -815.161     690.304\n",
       "neighbourhood_cleansed[T.Sylmar]                                  -48.5500    344.567     -0.141      0.888    -723.915     626.815\n",
       "neighbourhood_cleansed[T.Tarzana]                                 117.4123    325.511      0.361      0.718    -520.602     755.427\n",
       "neighbourhood_cleansed[T.Temple City]                             -59.4232    324.941     -0.183      0.855    -696.321     577.475\n",
       "neighbourhood_cleansed[T.Toluca Lake]                              51.3116    329.957      0.156      0.876    -595.418     698.041\n",
       "neighbourhood_cleansed[T.Topanga]                                 190.3428    323.180      0.589      0.556    -443.104     823.789\n",
       "neighbourhood_cleansed[T.Torrance]                                 -2.2451    323.111     -0.007      0.994    -635.555     631.065\n",
       "neighbourhood_cleansed[T.Tujunga]                                 -46.0476    343.495     -0.134      0.893    -719.312     627.217\n",
       "neighbourhood_cleansed[T.Tujunga Canyons]                          51.3750    376.770      0.136      0.892    -687.109     789.859\n",
       "neighbourhood_cleansed[T.Unincorporated Catalina Island]           49.8947    345.748      0.144      0.885    -627.785     727.574\n",
       "neighbourhood_cleansed[T.Unincorporated Santa Monica Mountains]   566.9063    325.237      1.743      0.081     -70.571    1204.384\n",
       "neighbourhood_cleansed[T.Unincorporated Santa Susana Mountains]    80.4000    366.350      0.219      0.826    -637.661     798.461\n",
       "neighbourhood_cleansed[T.Universal City]                          195.6667    454.402      0.431      0.667    -694.979    1086.312\n",
       "neighbourhood_cleansed[T.University Park]                         -72.6271    329.378     -0.220      0.825    -718.221     572.967\n",
       "neighbourhood_cleansed[T.Val Verde]                               -62.6667    454.402     -0.138      0.890    -953.312     827.979\n",
       "neighbourhood_cleansed[T.Valinda]                                 -62.8261    341.623     -0.184      0.854    -732.422     606.770\n",
       "neighbourhood_cleansed[T.Valley Glen]                              60.8374    324.617      0.187      0.851    -575.426     697.100\n",
       "neighbourhood_cleansed[T.Valley Village]                           59.9008    325.269      0.184      0.854    -577.640     697.442\n",
       "neighbourhood_cleansed[T.Van Nuys]                                -12.7785    324.007     -0.039      0.969    -647.845     622.288\n",
       "neighbourhood_cleansed[T.Venice]                                  120.9224    321.617      0.376      0.707    -509.460     751.305\n",
       "neighbourhood_cleansed[T.Vermont Knolls]                          -59.1111    347.055     -0.170      0.865    -739.353     621.131\n",
       "neighbourhood_cleansed[T.Vermont Square]                          -63.6165    329.658     -0.193      0.847    -709.759     582.526\n",
       "neighbourhood_cleansed[T.Vermont Vista]                           -66.0000    384.040     -0.172      0.864    -818.733     686.733\n",
       "neighbourhood_cleansed[T.Vermont-Slauson]                         -23.3092    359.236     -0.065      0.948    -727.426     680.808\n",
       "neighbourhood_cleansed[T.Vernon]                                  -29.0000    508.037     -0.057      0.954   -1024.772     966.772\n",
       "neighbourhood_cleansed[T.Veterans Administration]                 -53.9091    362.487     -0.149      0.882    -764.398     656.580\n",
       "neighbourhood_cleansed[T.View Park-Windsor Hills]                   3.6992    327.846      0.011      0.991    -638.893     646.291\n",
       "neighbourhood_cleansed[T.Vincent]                                 -55.2500    425.054     -0.130      0.897    -888.373     777.873\n",
       "neighbourhood_cleansed[T.Walnut]                                   -5.1672    327.355     -0.016      0.987    -646.795     636.461\n",
       "neighbourhood_cleansed[T.Watts]                                  -105.0385    339.342     -0.310      0.757    -770.162     560.085\n",
       "neighbourhood_cleansed[T.West Adams]                              -18.0808    327.591     -0.055      0.956    -660.172     624.010\n",
       "neighbourhood_cleansed[T.West Carson]                             -43.8650    334.431     -0.131      0.896    -699.362     611.632\n",
       "neighbourhood_cleansed[T.West Compton]                            -87.4700    384.040     -0.228      0.820    -840.203     665.263\n",
       "neighbourhood_cleansed[T.West Covina]                             -40.0293    325.404     -0.123      0.902    -677.834     597.775\n",
       "neighbourhood_cleansed[T.West Hills]                              112.1920    329.117      0.341      0.733    -532.890     757.274\n",
       "neighbourhood_cleansed[T.West Hollywood]                           58.9226    322.089      0.183      0.855    -572.386     690.231\n",
       "neighbourhood_cleansed[T.West Los Angeles]                        -26.5630    324.466     -0.082      0.935    -662.529     609.403\n",
       "neighbourhood_cleansed[T.West Puente Valley]                      -33.8889    371.017     -0.091      0.927    -761.098     693.320\n",
       "neighbourhood_cleansed[T.West Whittier-Los Nietos]                  7.0000    393.523      0.018      0.986    -764.322     778.322\n",
       "neighbourhood_cleansed[T.Westchester]                              13.1200    323.711      0.041      0.968    -621.367     647.607\n",
       "neighbourhood_cleansed[T.Westlake]                                 -4.9142    322.343     -0.015      0.988    -636.720     626.891\n",
       "neighbourhood_cleansed[T.Westlake Village]                        601.1869    356.462      1.687      0.092     -97.493    1299.867\n",
       "neighbourhood_cleansed[T.Westmont]                                -20.4763    338.691     -0.060      0.952    -684.324     643.372\n",
       "neighbourhood_cleansed[T.Westwood]                                 33.5638    322.380      0.104      0.917    -598.313     665.441\n",
       "neighbourhood_cleansed[T.Whittier]                                 70.3327    328.425      0.214      0.830    -573.394     714.059\n",
       "neighbourhood_cleansed[T.Whittier Narrows]                       -106.0000    642.621     -0.165      0.869   -1365.563    1153.563\n",
       "neighbourhood_cleansed[T.Willowbrook]                              30.3077    356.462      0.085      0.932    -668.372     728.987\n",
       "neighbourhood_cleansed[T.Wilmington]                              -66.2414    337.521     -0.196      0.844    -727.796     595.313\n",
       "neighbourhood_cleansed[T.Windsor Square]                           94.6875    336.035      0.282      0.778    -563.954     753.329\n",
       "neighbourhood_cleansed[T.Winnetka]                                -24.3731    328.425     -0.074      0.941    -668.100     619.353\n",
       "neighbourhood_cleansed[T.Woodland Hills]                           97.5547    323.065      0.302      0.763    -535.665     730.774\n",
       "==============================================================================\n",
       "Omnibus:                    58231.312   Durbin-Watson:                   1.748\n",
       "Prob(Omnibus):                  0.000   Jarque-Bera (JB):        136003700.130\n",
       "Skew:                          13.737   Prob(JB):                         0.00\n",
       "Kurtosis:                     323.544   Cond. No.                     1.68e+03\n",
       "==============================================================================\n",
       "\n",
       "Warnings:\n",
       "[1] Standard Errors assume that the covariance matrix of the errors is correctly specified.\n",
       "[2] The condition number is large, 1.68e+03. This might indicate that there are\n",
       "strong multicollinearity or other numerical problems.\n",
       "\"\"\""
      ]
     },
     "execution_count": 84,
     "metadata": {},
     "output_type": "execute_result"
    }
   ],
   "source": [
    "#Price compared to Location\n",
    "formula = 'price_am ~ neighbourhood_cleansed'\n",
    "results = smf.ols(formula, data=dfAirbnbSelected).fit()\n",
    "results.summary()"
   ]
  },
  {
   "cell_type": "code",
   "execution_count": null,
   "metadata": {},
   "outputs": [],
   "source": [
    "#Price is dependent on location as suspected.\n",
    "#"
   ]
  },
  {
   "cell_type": "code",
   "execution_count": 95,
   "metadata": {},
   "outputs": [
    {
     "data": {
      "text/html": [
       "<table class=\"simpletable\">\n",
       "<caption>OLS Regression Results</caption>\n",
       "<tr>\n",
       "  <th>Dep. Variable:</th>        <td>price_am</td>     <th>  R-squared:         </th>  <td>   0.162</td>  \n",
       "</tr>\n",
       "<tr>\n",
       "  <th>Model:</th>                   <td>OLS</td>       <th>  Adj. R-squared:    </th>  <td>   0.162</td>  \n",
       "</tr>\n",
       "<tr>\n",
       "  <th>Method:</th>             <td>Least Squares</td>  <th>  F-statistic:       </th>  <td>   6114.</td>  \n",
       "</tr>\n",
       "<tr>\n",
       "  <th>Date:</th>             <td>Thu, 19 Nov 2020</td> <th>  Prob (F-statistic):</th>   <td>  0.00</td>   \n",
       "</tr>\n",
       "<tr>\n",
       "  <th>Time:</th>                 <td>22:58:50</td>     <th>  Log-Likelihood:    </th> <td>-2.4404e+05</td>\n",
       "</tr>\n",
       "<tr>\n",
       "  <th>No. Observations:</th>      <td> 31536</td>      <th>  AIC:               </th>  <td>4.881e+05</td> \n",
       "</tr>\n",
       "<tr>\n",
       "  <th>Df Residuals:</th>          <td> 31534</td>      <th>  BIC:               </th>  <td>4.881e+05</td> \n",
       "</tr>\n",
       "<tr>\n",
       "  <th>Df Model:</th>              <td>     1</td>      <th>                     </th>      <td> </td>     \n",
       "</tr>\n",
       "<tr>\n",
       "  <th>Covariance Type:</th>      <td>nonrobust</td>    <th>                     </th>      <td> </td>     \n",
       "</tr>\n",
       "</table>\n",
       "<table class=\"simpletable\">\n",
       "<tr>\n",
       "        <td></td>          <th>coef</th>     <th>std err</th>      <th>t</th>      <th>P>|t|</th>  <th>[0.025</th>    <th>0.975]</th>  \n",
       "</tr>\n",
       "<tr>\n",
       "  <th>Intercept</th>    <td> -118.3982</td> <td>    5.367</td> <td>  -22.059</td> <td> 0.000</td> <td> -128.918</td> <td> -107.878</td>\n",
       "</tr>\n",
       "<tr>\n",
       "  <th>accommodates</th> <td>   95.8144</td> <td>    1.225</td> <td>   78.193</td> <td> 0.000</td> <td>   93.413</td> <td>   98.216</td>\n",
       "</tr>\n",
       "</table>\n",
       "<table class=\"simpletable\">\n",
       "<tr>\n",
       "  <th>Omnibus:</th>       <td>60627.827</td> <th>  Durbin-Watson:     </th>   <td>   1.715</td>   \n",
       "</tr>\n",
       "<tr>\n",
       "  <th>Prob(Omnibus):</th>  <td> 0.000</td>   <th>  Jarque-Bera (JB):  </th> <td>171349392.334</td>\n",
       "</tr>\n",
       "<tr>\n",
       "  <th>Skew:</th>           <td>14.993</td>   <th>  Prob(JB):          </th>   <td>    0.00</td>   \n",
       "</tr>\n",
       "<tr>\n",
       "  <th>Kurtosis:</th>       <td>362.866</td>  <th>  Cond. No.          </th>   <td>    7.78</td>   \n",
       "</tr>\n",
       "</table><br/><br/>Warnings:<br/>[1] Standard Errors assume that the covariance matrix of the errors is correctly specified."
      ],
      "text/plain": [
       "<class 'statsmodels.iolib.summary.Summary'>\n",
       "\"\"\"\n",
       "                            OLS Regression Results                            \n",
       "==============================================================================\n",
       "Dep. Variable:               price_am   R-squared:                       0.162\n",
       "Model:                            OLS   Adj. R-squared:                  0.162\n",
       "Method:                 Least Squares   F-statistic:                     6114.\n",
       "Date:                Thu, 19 Nov 2020   Prob (F-statistic):               0.00\n",
       "Time:                        22:58:50   Log-Likelihood:            -2.4404e+05\n",
       "No. Observations:               31536   AIC:                         4.881e+05\n",
       "Df Residuals:                   31534   BIC:                         4.881e+05\n",
       "Df Model:                           1                                         \n",
       "Covariance Type:            nonrobust                                         \n",
       "================================================================================\n",
       "                   coef    std err          t      P>|t|      [0.025      0.975]\n",
       "--------------------------------------------------------------------------------\n",
       "Intercept     -118.3982      5.367    -22.059      0.000    -128.918    -107.878\n",
       "accommodates    95.8144      1.225     78.193      0.000      93.413      98.216\n",
       "==============================================================================\n",
       "Omnibus:                    60627.827   Durbin-Watson:                   1.715\n",
       "Prob(Omnibus):                  0.000   Jarque-Bera (JB):        171349392.334\n",
       "Skew:                          14.993   Prob(JB):                         0.00\n",
       "Kurtosis:                     362.866   Cond. No.                         7.78\n",
       "==============================================================================\n",
       "\n",
       "Warnings:\n",
       "[1] Standard Errors assume that the covariance matrix of the errors is correctly specified.\n",
       "\"\"\""
      ]
     },
     "execution_count": 95,
     "metadata": {},
     "output_type": "execute_result"
    }
   ],
   "source": [
    "#Price compared to accomodation.\n",
    "formula = 'price_am ~ accommodates'\n",
    "results = smf.ols(formula, data=dfAirbnbSelected).fit()\n",
    "results.summary()"
   ]
  }
 ],
 "metadata": {
  "kernelspec": {
   "display_name": "Python 3",
   "language": "python",
   "name": "python3"
  },
  "language_info": {
   "codemirror_mode": {
    "name": "ipython",
    "version": 3
   },
   "file_extension": ".py",
   "mimetype": "text/x-python",
   "name": "python",
   "nbconvert_exporter": "python",
   "pygments_lexer": "ipython3",
   "version": "3.8.10"
  }
 },
 "nbformat": 4,
 "nbformat_minor": 4
}
